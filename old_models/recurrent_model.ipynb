{
 "cells": [
  {
   "cell_type": "raw",
   "metadata": {
    "deletable": true,
    "editable": true
   },
   "source": [
    "Uses 2 lstm layers followed by dense layers to predict k27act from sequence"
   ]
  },
  {
   "cell_type": "code",
   "execution_count": 2,
   "metadata": {
    "collapsed": false,
    "deletable": true,
    "editable": true
   },
   "outputs": [],
   "source": [
    "import change_path\n",
    "import os\n",
    "os.environ['CUDA_VISIBLE_DEVICES'] = '0'\n",
    "\n",
    "import tf_memory_limit\n",
    "from zinb import ZINB\n",
    "import seaborn as sns\n",
    "import h5py\n",
    "import matplotlib.pyplot as plt\n",
    "from keras.utils import plot_model\n",
    "\n",
    "import pandas as pd\n",
    "import numpy as np\n",
    "import itertools\n",
    "import sequence\n",
    "import ucscgenome\n",
    "from tqdm import tqdm\n",
    "import time\n",
    "import datagen\n",
    "import sequence\n",
    "import helper\n",
    "import viz_sequence\n",
    "import pickle\n",
    "\n",
    "from keras.models import Model, load_model\n",
    "from keras.layers import Input, SpatialDropout1D, Conv1D, Lambda, Dropout, Activation, Bidirectional, LSTM, Dense\n",
    "from keras.optimizers import RMSprop, SGD\n",
    "from keras.callbacks import EarlyStopping, TensorBoard, ModelCheckpoint\n",
    "from keras import backend as K\n",
    "import tensorflow as tf\n",
    "from livelossplot import PlotLossesKeras\n",
    "\n",
    "\n",
    "import matplotlib as mpl\n",
    "mpl.rcParams.update(mpl.rcParamsDefault)"
   ]
  },
  {
   "cell_type": "code",
   "execution_count": 3,
   "metadata": {
    "collapsed": false,
    "deletable": true,
    "editable": true
   },
   "outputs": [
    {
     "name": "stdout",
     "output_type": "stream",
     "text": [
      "160363 training samples\n",
      "3413 testing samples\n",
      "3414 validation samples\n"
     ]
    }
   ],
   "source": [
    "#load in the DNA\n",
    "genome = ucscgenome.Genome('/home/kal/.ucscgenome/hg19.2bit')\n",
    "\n",
    "# load in ATAC data\n",
    "atac_path = '/home/kal/K27act_models/GM_data/ATAC/atac_average.hdf5'\n",
    "atac = h5py.File(atac_path, 'r')\n",
    "\n",
    "# load in preprocessed data\n",
    "peaks_path = '/home/kal/K27act_models/GM_data/k27act_training_regions.bed'\n",
    "peaks = pd.read_table(peaks_path, header=None)\n",
    "#note we make the 'k27act' column the 'score' column for the correct training behavior\n",
    "peaks.columns='chr start end name fold_change atac k27act nucs'.split() \n",
    "peaks['score'] = np.log(peaks['k27act'] + 1)\n",
    "\n",
    "# facts about the data\n",
    "num_training_samples = len(peaks[(peaks.chr != 'chr8')])\n",
    "print('{} training samples'.format(num_training_samples))\n",
    "num_testing_samples = len(peaks[(peaks.chr == 'chr8') & (peaks.index%2 == 0)])\n",
    "print('{} testing samples'.format(num_testing_samples))\n",
    "num_validaiton_samples = len(peaks[(peaks.chr == 'chr8') & (peaks.index%2 == 1)])\n",
    "print('{} validation samples'.format(num_validaiton_samples))"
   ]
  },
  {
   "cell_type": "code",
   "execution_count": 4,
   "metadata": {
    "collapsed": false,
    "deletable": true,
    "editable": true
   },
   "outputs": [
    {
     "name": "stdout",
     "output_type": "stream",
     "text": [
      "/home/kal/K27act_models/convolution_model/20180730_151934_counts_recurrent\n"
     ]
    }
   ],
   "source": [
    "# directory stuff\n",
    "out_dir = '/home/kal/K27act_models/convolution_model/'\n",
    "timestr = time.strftime(\"%Y%m%d_%H%M%S\")\n",
    "out_path = os.path.join(out_dir, timestr + '_counts_recurrent')\n",
    "os.makedirs(out_path)\n",
    "# make a file system\n",
    "weights_path = os.path.join(out_path, 'intermediate_weights')\n",
    "os.makedirs(weights_path)\n",
    "history_path = os.path.join(out_path, 'history')\n",
    "os.makedirs(history_path)\n",
    "\n",
    "print(out_path)"
   ]
  },
  {
   "cell_type": "code",
   "execution_count": 17,
   "metadata": {
    "collapsed": false,
    "deletable": true,
    "editable": true
   },
   "outputs": [
    {
     "name": "stdout",
     "output_type": "stream",
     "text": [
      "_________________________________________________________________\n",
      "Layer (type)                 Output Shape              Param #   \n",
      "=================================================================\n",
      "input_seqs (InputLayer)      (32, 1024, 5)             0         \n",
      "_________________________________________________________________\n",
      "add_rc (Lambda)              (64, 1024, 5)             0         \n",
      "_________________________________________________________________\n",
      "seq_collapse (Bidirectional) (64, 128)                 35840     \n",
      "_________________________________________________________________\n",
      "dropout_13 (Dropout)         (64, 128)                 0         \n",
      "_________________________________________________________________\n",
      "dense_11 (Dense)             (64, 1)                   129       \n",
      "_________________________________________________________________\n",
      "stack_fr (Lambda)            (32, 1)                   0         \n",
      "=================================================================\n",
      "Total params: 35,969\n",
      "Trainable params: 35,969\n",
      "Non-trainable params: 0\n",
      "_________________________________________________________________\n"
     ]
    }
   ],
   "source": [
    "# model's input\n",
    "batch_size=32\n",
    "seqs = Input(batch_shape=(batch_size, 1024, 5), name='input_seqs')\n",
    "num_outputs=1\n",
    "\n",
    "#build custom functions\n",
    "def add_RC(x):\n",
    "    RC = K.concatenate([x[:, ::-1, :1], x[:, ::-1, 1:][::-1]], axis=2)\n",
    "    return K.concatenate([x, RC], axis=0)\n",
    "def add_RC_shape(s):\n",
    "    return 2*s[0], s[1], s[2]\n",
    "\n",
    "# add the rc, run throught the first lstm\n",
    "add_rc = Lambda(add_RC, name='add_rc', output_shape=add_RC_shape)\n",
    "#reccur = Bidirectional(LSTM(64, return_sequences=True, activation='relu'), name='recurrent')(add_rc(seqs))\n",
    "#recurr_dropped = Dropout(0.3)(reccur)\n",
    "\n",
    "# run through another lstm but only get the end state\n",
    "per_seqs = Bidirectional(LSTM(64, activation='relu'), name='seq_collapse')(add_rc(seqs))\n",
    "per_seqs_dropped = Dropout(0.3)(per_seqs)\n",
    "\n",
    "#out_dense = Dense(32, activation='relu')(per_seqs_dropped)\n",
    "#out_dense_dropped = Dropout(0.3)(out_dense)\n",
    "predictions = Dense(1, activation='relu')(per_seqs_dropped)\n",
    "\n",
    "\n",
    "combined_preds = Lambda(lambda x: K.maximum(x[:x.shape[0]//2], x[x.shape[0]//2:]), \n",
    "                       name='stack_fr', output_shape=lambda s: (s[0] // 2, 1))(predictions)\n",
    "\n",
    "# make the predictions positive\n",
    "#pos_predictions =  Activation('relu')(predictions)\n",
    "\n",
    "# build the model\n",
    "model = Model(inputs=seqs, outputs=combined_preds)\n",
    "\n",
    "model.summary()"
   ]
  },
  {
   "cell_type": "code",
   "execution_count": 18,
   "metadata": {
    "collapsed": false,
    "deletable": true,
    "editable": true
   },
   "outputs": [
    {
     "data": {
      "image/png": "[encoded data removed]",
      "text/plain": [
       "<matplotlib.figure.Figure at 0x7fcc108d38d0>"
      ]
     },
     "metadata": {},
     "output_type": "display_data"
    }
   ],
   "source": [
    "from keras.optimizers import RMSprop, SGD, Adam\n",
    "%matplotlib inline\n",
    "\n",
    "\n",
    "vpe = 20 # validations per epoch\n",
    "\n",
    "opt = Adam(lr=1e-05)\n",
    "model.compile(optimizer=opt, loss='mean_absolute_error') \n",
    "\n",
    "early_stop = EarlyStopping(monitor='val_loss', patience=100)\n",
    "filepath = os.path.join(weights_path, 'weights-1-{epoch:02d}-{val_loss:.3f}.hdf5')\n",
    "checkpoint = ModelCheckpoint(filepath, monitor='val_loss', verbose=1, save_best_only=True, mode='min')\n",
    "\n",
    "losses = model.fit_generator(datagen.batch_gen(peaks, mode='train'), \n",
    "                             steps_per_epoch=num_training_samples//(batch_size*vpe), \n",
    "                             epochs=5*vpe, callbacks=[early_stop, checkpoint, PlotLossesKeras()], \n",
    "                             validation_data=datagen.batch_gen(peaks, mode='val'), \n",
    "                             validation_steps=num_validaiton_samples//(batch_size*vpe//5), verbose=2)\n",
    "\n",
    "val_hist = losses.history['val_loss']\n",
    "train_hist = losses.history['loss']"
   ]
  },
  {
   "cell_type": "code",
   "execution_count": 21,
   "metadata": {
    "collapsed": false,
    "deletable": true,
    "editable": true
   },
   "outputs": [
    {
     "data": {
      "image/png": "[encoded data removed]",
      "text/plain": [
       "<matplotlib.figure.Figure at 0x7fcc13a390b8>"
      ]
     },
     "metadata": {},
     "output_type": "display_data"
    }
   ],
   "source": [
    "# look at loss\n",
    "val_hist = np.asarray(val_hist).flatten()\n",
    "train_hist = np.asarray(train_hist).flatten()\n",
    "plt.plot(val_hist, label='validation')\n",
    "plt.plot(train_hist, label='training')\n",
    "plt.title('Loss for training model')\n",
    "plt.xlabel('Epoch')\n",
    "plt.ylabel('Loss')\n",
    "plt.ylim(0, 3)\n",
    "plt.legend()\n",
    "plt.show()"
   ]
  },
  {
   "cell_type": "code",
   "execution_count": 22,
   "metadata": {
    "collapsed": true,
    "deletable": true,
    "editable": true
   },
   "outputs": [],
   "source": [
    "# final save\n",
    "model.save(os.path.join(out_path, 'final_model.h5'))\n",
    "\n",
    "# write out history\n",
    "pickle.dump(losses.history, open(os.path.join(history_path, 'history.pk'), 'wb'))"
   ]
  },
  {
   "cell_type": "code",
   "execution_count": null,
   "metadata": {
    "collapsed": true,
    "deletable": true,
    "editable": true
   },
   "outputs": [],
   "source": []
  }
 ],
 "metadata": {
  "kernelspec": {
   "display_name": "Python 3",
   "language": "python",
   "name": "python3"
  },
  "language_info": {
   "codemirror_mode": {
    "name": "ipython",
    "version": 3
   },
   "file_extension": ".py",
   "mimetype": "text/x-python",
   "name": "python",
   "nbconvert_exporter": "python",
   "pygments_lexer": "ipython3",
   "version": "3.5.2"
  }
 },
 "nbformat": 4,
 "nbformat_minor": 2
}
