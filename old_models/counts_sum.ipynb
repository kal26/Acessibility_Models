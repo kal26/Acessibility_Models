{
 "cells": [
  {
   "cell_type": "raw",
   "metadata": {
    "deletable": true,
    "editable": true
   },
   "source": [
    "Train a convolutional model to predict counts of K27act from sequence and atac\n",
    "    several convolutions"
   ]
  },
  {
   "cell_type": "code",
   "execution_count": 1,
   "metadata": {
    "collapsed": false,
    "deletable": true,
    "editable": true
   },
   "outputs": [
    {
     "name": "stdout",
     "output_type": "stream",
     "text": [
      "['', '/usr/lib/python35.zip', '/usr/lib/python3.5', '/usr/lib/python3.5/plat-x86_64-linux-gnu', '/usr/lib/python3.5/lib-dynload', '/home/kal/VENV/lib/python3.5/site-packages/', '/home/kal/VENV/lib64/python3.5/site-packages/', '/home/kal/VENV/lib/python3.5/site-packages/IPython/extensions/', '/home/kal/K27act_models/bin/', '/home/kal/TF_models/bin/', '/home/kal/.ipython']\n"
     ]
    },
    {
     "name": "stderr",
     "output_type": "stream",
     "text": [
      "Using TensorFlow backend.\n",
      "/home/kal/TF_models/bin/sequence.py:275: RuntimeWarning: divide by zero encountered in log\n",
      "  self.seq = helper.softmax(np.log(dist))\n"
     ]
    }
   ],
   "source": [
    "import change_path\n",
    "import os\n",
    "os.environ['CUDA_VISIBLE_DEVICES'] = '0'\n",
    "\n",
    "\n",
    "import tf_memory_limit\n",
    "from zinb import ZINB\n",
    "import seaborn as sns\n",
    "import h5py\n",
    "import matplotlib.pyplot as plt\n",
    "from keras.utils import plot_model\n",
    "\n",
    "import pandas as pd\n",
    "import numpy as np\n",
    "import itertools\n",
    "import sequence\n",
    "import ucscgenome\n",
    "from tqdm import tqdm\n",
    "import time\n",
    "import datagen\n",
    "import sequence\n",
    "import helper\n",
    "import viz_sequence\n",
    "import pickle\n",
    "\n",
    "from keras.models import Model, load_model\n",
    "from keras.layers import Input, Dense, SpatialDropout1D, Conv1D, Lambda, Dropout, Activation, Concatenate\n",
    "from keras.optimizers import RMSprop, SGD\n",
    "from keras.callbacks import EarlyStopping, TensorBoard, ModelCheckpoint\n",
    "from keras import backend as K\n",
    "import tensorflow as tf\n",
    "\n",
    "import matplotlib as mpl\n",
    "mpl.rcParams.update(mpl.rcParamsDefault)"
   ]
  },
  {
   "cell_type": "code",
   "execution_count": 2,
   "metadata": {
    "collapsed": false,
    "deletable": true,
    "editable": true
   },
   "outputs": [
    {
     "name": "stdout",
     "output_type": "stream",
     "text": [
      "160363 training samples\n",
      "3413 testing samples\n",
      "3414 validation samples\n"
     ]
    }
   ],
   "source": [
    "#load in the DNA\n",
    "genome = ucscgenome.Genome('/home/kal/.ucscgenome/hg19.2bit')\n",
    "\n",
    "# load in ATAC data\n",
    "atac_path = '/home/kal/K27act_models/GM_data/ATAC/atac_average.hdf5'\n",
    "atac = h5py.File(atac_path, 'r')\n",
    "\n",
    "# load in preprocessed data\n",
    "peaks_path = '/home/kal/K27act_models/GM_data/k27act_training_regions.bed'\n",
    "peaks = pd.read_table(peaks_path, header=None)\n",
    "#note we make the 'k27act' column the 'score' column for the correct training behavior\n",
    "peaks.columns='chr start end name fold_change atac k27act nucs'.split() \n",
    "peaks['score'] = np.log(peaks['k27act'] + 1)\n",
    "\n",
    "# facts about the data\n",
    "num_training_samples = len(peaks[(peaks.chr != 'chr8')])\n",
    "print('{} training samples'.format(num_training_samples))\n",
    "num_testing_samples = len(peaks[(peaks.chr == 'chr8') & (peaks.index%2 == 0)])\n",
    "print('{} testing samples'.format(num_testing_samples))\n",
    "num_validaiton_samples = len(peaks[(peaks.chr == 'chr8') & (peaks.index%2 == 1)])\n",
    "print('{} validation samples'.format(num_validaiton_samples))"
   ]
  },
  {
   "cell_type": "code",
   "execution_count": 3,
   "metadata": {
    "collapsed": false,
    "deletable": true,
    "editable": true
   },
   "outputs": [
    {
     "data": {
      "image/png": "[encoded data removed]",
      "text/plain": [
       "<matplotlib.figure.Figure at 0x7fe666095c88>"
      ]
     },
     "metadata": {},
     "output_type": "display_data"
    }
   ],
   "source": [
    "plt.hist(peaks['score'], bins=50)\n",
    "plt.title('Score Distributions for ML training(log K27act)')\n",
    "plt.ylabel('Number of samples')\n",
    "plt.xlabel('Log(K27act + 1)')\n",
    "plt.show()"
   ]
  },
  {
   "cell_type": "code",
   "execution_count": 4,
   "metadata": {
    "collapsed": false,
    "deletable": true,
    "editable": true,
    "scrolled": false
   },
   "outputs": [
    {
     "name": "stdout",
     "output_type": "stream",
     "text": [
      "/home/kal/K27act_models/convolution_model/20180712_104638_counts_sum\n"
     ]
    }
   ],
   "source": [
    "# directory stuff\n",
    "out_dir = '/home/kal/K27act_models/convolution_model/'\n",
    "timestr = time.strftime(\"%Y%m%d_%H%M%S\")\n",
    "out_path = os.path.join(out_dir, timestr + '_counts_sum')\n",
    "os.makedirs(out_path)\n",
    "# make a file system\n",
    "weights_path = os.path.join(out_path, 'intermediate_weights')\n",
    "os.makedirs(weights_path)\n",
    "history_path = os.path.join(out_path, 'history')\n",
    "os.makedirs(history_path)\n",
    "\n",
    "print(out_path)"
   ]
  },
  {
   "cell_type": "code",
   "execution_count": 6,
   "metadata": {
    "collapsed": false,
    "deletable": true,
    "editable": true
   },
   "outputs": [
    {
     "name": "stdout",
     "output_type": "stream",
     "text": [
      "_________________________________________________________________\n",
      "Layer (type)                 Output Shape              Param #   \n",
      "=================================================================\n",
      "input_seqs (InputLayer)      (32, 1024, 5)             0         \n",
      "_________________________________________________________________\n",
      "add_rc (Lambda)              (64, 1024, 5)             0         \n",
      "_________________________________________________________________\n",
      "conv1d_5 (Conv1D)            (64, 1024, 128)           10368     \n",
      "_________________________________________________________________\n",
      "spatial_dropout1d_5 (Spatial (64, 1024, 128)           0         \n",
      "_________________________________________________________________\n",
      "conv1d_6 (Conv1D)            (64, 1024, 64)            24640     \n",
      "_________________________________________________________________\n",
      "spatial_dropout1d_6 (Spatial (64, 1024, 64)            0         \n",
      "_________________________________________________________________\n",
      "conv1d_7 (Conv1D)            (64, 1024, 64)            12352     \n",
      "_________________________________________________________________\n",
      "spatial_dropout1d_7 (Spatial (64, 1024, 64)            0         \n",
      "_________________________________________________________________\n",
      "conv1d_8 (Conv1D)            (64, 1024, 64)            12352     \n",
      "_________________________________________________________________\n",
      "spatial_dropout1d_8 (Spatial (64, 1024, 64)            0         \n",
      "_________________________________________________________________\n",
      "stack_fr (Lambda)            (32, 1024, 128)           0         \n",
      "_________________________________________________________________\n",
      "dense_3 (Dense)              (32, 1024, 32)            4128      \n",
      "_________________________________________________________________\n",
      "dropout_2 (Dropout)          (32, 1024, 32)            0         \n",
      "_________________________________________________________________\n",
      "dense_4 (Dense)              (32, 1024, 1)             33        \n",
      "_________________________________________________________________\n",
      "sum_seq (Lambda)             (32, 1)                   0         \n",
      "=================================================================\n",
      "Total params: 63,873\n",
      "Trainable params: 63,873\n",
      "Non-trainable params: 0\n",
      "_________________________________________________________________\n"
     ]
    }
   ],
   "source": [
    "# model's input\n",
    "batch_size=32\n",
    "seqs = Input(batch_shape=(batch_size, 1024, 5), name='input_seqs')\n",
    "num_outputs=1\n",
    "\n",
    "#build custom functions\n",
    "def add_RC(x):\n",
    "    RC = K.concatenate([x[:, ::-1, :1], x[:, ::-1, 1:][::-1]], axis=2)\n",
    "    return K.concatenate([x, RC], axis=0)\n",
    "def add_RC_shape(s):\n",
    "    return 2*s[0], s[1], s[2]\n",
    "\n",
    "# add the rc, do a convolution, take concat activation across forward and reverse\n",
    "conv = Lambda(add_RC, name='add_rc', output_shape=add_RC_shape)(seqs)\n",
    "\n",
    "for k, n in [[128, 16], [64, 3], [64, 3], [64, 3]]:\n",
    "    conv = Conv1D(k, n, padding='same', activation='relu')(conv)\n",
    "    conv = SpatialDropout1D(.1)(conv)\n",
    "\n",
    "# stack forward and reverse features\n",
    "combined = Lambda(lambda x: K.concatenate([x[:x.shape[0]//2, :, :], x[x.shape[0]//2:, ::-1, :]], axis=2), \n",
    "                       name='stack_fr', output_shape=lambda s: (s[0] // 2, s[1], s[2] * 2))(conv)\n",
    "   \n",
    "out = Dense(32, activation='relu')(combined) \n",
    "out = Dropout(.1)(out)\n",
    "\n",
    "# then use a dense to get one 'k27ness' per input base\n",
    "per_base = Dense(num_outputs, activation='relu')(out)\n",
    "\n",
    "# sum the k27ness and take the max of forward or reverse\n",
    "predictions = Lambda(lambda x: K.sum(x, axis=1), name='sum_seq', \n",
    "                     output_shape=lambda s: (s[0], 1))(per_base)\n",
    "\n",
    "# build the model\n",
    "model = Model(inputs=seqs, outputs=predictions)\n",
    "\n",
    "model.summary()"
   ]
  },
  {
   "cell_type": "code",
   "execution_count": 7,
   "metadata": {
    "collapsed": false,
    "deletable": true,
    "editable": true
   },
   "outputs": [
    {
     "name": "stdout",
     "output_type": "stream",
     "text": [
      "Epoch 1/5\n",
      " - 347s - loss: 2.8270 - val_loss: 2.2799\n",
      "\n",
      "Epoch 00001: val_loss improved from inf to 2.27991, saving model to /home/kal/K27act_models/convolution_model/20180712_104638_counts_sum/intermediate_weights/weights-1-01-2.280.hdf5\n",
      "Epoch 2/5\n",
      " - 351s - loss: 0.8199 - val_loss: 2.2752\n",
      "\n",
      "Epoch 00002: val_loss improved from 2.27991 to 2.27523, saving model to /home/kal/K27act_models/convolution_model/20180712_104638_counts_sum/intermediate_weights/weights-1-02-2.275.hdf5\n",
      "Epoch 3/5\n",
      " - 355s - loss: 0.7581 - val_loss: 2.2767\n",
      "\n",
      "Epoch 00003: val_loss did not improve from 2.27523\n",
      "Epoch 4/5\n",
      " - 353s - loss: 0.7487 - val_loss: 2.2818\n",
      "\n",
      "Epoch 00004: val_loss did not improve from 2.27523\n",
      "Epoch 5/5\n",
      " - 361s - loss: 0.7412 - val_loss: 2.2663\n",
      "\n",
      "Epoch 00005: val_loss improved from 2.27523 to 2.26631, saving model to /home/kal/K27act_models/convolution_model/20180712_104638_counts_sum/intermediate_weights/weights-1-05-2.266.hdf5\n",
      "Epoch 1/5\n",
      " - 359s - loss: 0.7364 - val_loss: 2.2380\n",
      "\n",
      "Epoch 00001: val_loss improved from inf to 2.23804, saving model to /home/kal/K27act_models/convolution_model/20180712_104638_counts_sum/intermediate_weights/weights-2-01-2.238.hdf5\n",
      "Epoch 2/5\n",
      " - 360s - loss: 0.7360 - val_loss: 2.2399\n",
      "\n",
      "Epoch 00002: val_loss did not improve from 2.23804\n",
      "Epoch 3/5\n",
      " - 357s - loss: 0.7362 - val_loss: 2.1762\n",
      "\n",
      "Epoch 00003: val_loss improved from 2.23804 to 2.17616, saving model to /home/kal/K27act_models/convolution_model/20180712_104638_counts_sum/intermediate_weights/weights-2-03-2.176.hdf5\n",
      "Epoch 4/5\n",
      " - 329s - loss: 0.7330 - val_loss: 2.2100\n",
      "\n",
      "Epoch 00004: val_loss did not improve from 2.17616\n",
      "Epoch 5/5\n",
      " - 329s - loss: 0.7340 - val_loss: 2.1321\n",
      "\n",
      "Epoch 00005: val_loss improved from 2.17616 to 2.13214, saving model to /home/kal/K27act_models/convolution_model/20180712_104638_counts_sum/intermediate_weights/weights-2-05-2.132.hdf5\n"
     ]
    },
    {
     "data": {
      "text/plain": [
       "[None, None, None, None, None]"
      ]
     },
     "execution_count": 7,
     "metadata": {},
     "output_type": "execute_result"
    }
   ],
   "source": [
    "from keras.optimizers import RMSprop, SGD, Adam\n",
    "\n",
    "opt = Adam(lr=1e-04)\n",
    "model.compile(optimizer=opt, loss='mean_absolute_error') \n",
    "\n",
    "early_stop = EarlyStopping(monitor='val_loss', patience=100)\n",
    "filepath = os.path.join(weights_path, 'weights-1-{epoch:02d}-{val_loss:.3f}.hdf5')\n",
    "checkpoint = ModelCheckpoint(filepath, monitor='val_loss', verbose=1, save_best_only=True, mode='min')\n",
    "\n",
    "losses = model.fit_generator(datagen.batch_gen(peaks, mode='train'), \n",
    "                             steps_per_epoch=num_training_samples//batch_size, \n",
    "                             epochs=5, callbacks=[early_stop, checkpoint], \n",
    "                             validation_data=datagen.batch_gen(peaks, mode='val'), \n",
    "                             validation_steps=num_validaiton_samples//batch_size, verbose=2)\n",
    "val_hist = losses.history['val_loss']\n",
    "train_hist = losses.history['loss']\n",
    "\n",
    "# drop learning rate\n",
    "opt = Adam(lr=1e-05)\n",
    "model.compile(optimizer=opt, loss='mean_absolute_error') \n",
    "filepath = os.path.join(weights_path, 'weights-2-{epoch:02d}-{val_loss:.3f}.hdf5')\n",
    "checkpoint = ModelCheckpoint(filepath, monitor='val_loss', verbose=1, save_best_only=True, mode='min')\n",
    "\n",
    "losses = model.fit_generator(datagen.batch_gen(peaks, mode='train'), \n",
    "                             steps_per_epoch=num_training_samples//batch_size, \n",
    "                             epochs=5, callbacks=[early_stop, checkpoint], \n",
    "                             validation_data=datagen.batch_gen(peaks, mode='val'), \n",
    "                             validation_steps=num_validaiton_samples//batch_size, verbose=2)\n",
    "\n",
    "[val_hist.append(l) for l in losses.history['val_loss']]\n",
    "[train_hist.append(l) for l in losses.history['loss']]"
   ]
  },
  {
   "cell_type": "code",
   "execution_count": 8,
   "metadata": {
    "collapsed": false,
    "deletable": true,
    "editable": true
   },
   "outputs": [
    {
     "data": {
      "image/png": "[encoded data removed]",
      "text/plain": [
       "<matplotlib.figure.Figure at 0x7fe65ae784a8>"
      ]
     },
     "metadata": {},
     "output_type": "display_data"
    }
   ],
   "source": [
    "# look at loss\n",
    "val_hist = np.asarray(val_hist).flatten()\n",
    "train_hist = np.asarray(train_hist).flatten()\n",
    "plt.plot(val_hist, label='validation')\n",
    "plt.plot(train_hist, label='training')\n",
    "plt.title('Loss for training model')\n",
    "plt.xlabel('Epoch')\n",
    "plt.ylabel('Loss')\n",
    "#plt.ylim(0, 10)\n",
    "plt.legend()\n",
    "plt.show()"
   ]
  },
  {
   "cell_type": "code",
   "execution_count": null,
   "metadata": {
    "collapsed": false,
    "deletable": true,
    "editable": true
   },
   "outputs": [],
   "source": [
    "# final save\n",
    "model.save(os.path.join(out_path, 'final_model.h5'))"
   ]
  },
  {
   "cell_type": "code",
   "execution_count": null,
   "metadata": {
    "collapsed": false,
    "deletable": true,
    "editable": true
   },
   "outputs": [],
   "source": [
    "# write out history\n",
    "losses=dict()\n",
    "losses['val_loss'] = val_hist\n",
    "losses['loss'] = train_hist\n",
    "pickle.dump(losses, open(os.path.join(history_path, 'history.pk'), 'wb'))"
   ]
  },
  {
   "cell_type": "code",
   "execution_count": null,
   "metadata": {
    "collapsed": false,
    "deletable": true,
    "editable": true
   },
   "outputs": [],
   "source": [
    "# look at kernels\n",
    "# make a highlight map\n",
    "from colour import Color\n",
    "\n",
    "#what layers do we have to work with?\n",
    "layer_dict = dict([(layer.name, layer) for layer in model.layers]) \n",
    "print(layer_dict.keys())\n",
    "this_layer='conv_in'\n",
    "\n",
    "# plot weights from first layer neurons\n",
    "#temp = .005\n",
    "weight_array = layer_dict[this_layer].get_weights()[0]\n",
    "#create highlight dict - with sane maxs and mins\n",
    "colors = list(Color(\"blue\").range_to(Color(\"white\"), 50))\n",
    "[colors.append(c) for c in (Color(\"white\").range_to(Color(\"red\"), 51))]\n",
    "top = np.amax(weight_array[:, 0, :])\n",
    "bottom = np.amin(weight_array[:, 0, :])\n",
    "    \n",
    "# got throught the kernels\n",
    "for idx in range(weight_array.shape[2]):\n",
    "    weight = weight_array[:,:,idx]\n",
    "    #get hightlights!\n",
    "    color_weights = [int((x-bottom)/(top-bottom)*100) for x in weight[:,0]]\n",
    "    highlight=dict()\n",
    "    for i in range(len(weight)):\n",
    "        w = color_weights[i]\n",
    "        highlight[(colors[w].rgb[0],colors[w].rgb[1], colors[w].rgb[2], .3)] = [(i, i+1)]\n",
    "    #plot things out\n",
    "    kernel = sequence.Sequence(weight[:, 1:])\n",
    "    plt.figure(figsize=(20,2))\n",
    "    plt.title('ATAC weights and sequence for kernel {}'.format(idx))\n",
    "    plt.plot(weight[:,0])\n",
    "    plt.show()\n",
    "    viz_sequence.plot_weights(kernel.seq, highlight=highlight)\n"
   ]
  },
  {
   "cell_type": "code",
   "execution_count": null,
   "metadata": {
    "collapsed": true,
    "deletable": true,
    "editable": true
   },
   "outputs": [],
   "source": []
  }
 ],
 "metadata": {
  "kernelspec": {
   "display_name": "Python 3",
   "language": "python",
   "name": "python3"
  },
  "language_info": {
   "codemirror_mode": {
    "name": "ipython",
    "version": 3
   },
   "file_extension": ".py",
   "mimetype": "text/x-python",
   "name": "python",
   "nbconvert_exporter": "python",
   "pygments_lexer": "ipython3",
   "version": "3.5.2"
  }
 },
 "nbformat": 4,
 "nbformat_minor": 2
}
