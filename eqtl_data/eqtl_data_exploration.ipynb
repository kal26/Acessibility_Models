{
 "cells": [
  {
   "cell_type": "raw",
   "metadata": {
    "deletable": true,
    "editable": true
   },
   "source": [
    "Look at all the eqtl data! (why is it so weird...)"
   ]
  },
  {
   "cell_type": "code",
   "execution_count": 1,
   "metadata": {
    "collapsed": false,
    "deletable": true,
    "editable": true
   },
   "outputs": [
    {
     "name": "stdout",
     "output_type": "stream",
     "text": [
      "['', '/usr/lib/python35.zip', '/usr/lib/python3.5', '/usr/lib/python3.5/plat-x86_64-linux-gnu', '/usr/lib/python3.5/lib-dynload', '/home/kal/VENV/lib/python3.5/site-packages/', '/home/kal/VENV/lib64/python3.5/site-packages/', '/home/kal/VENV/lib/python3.5/site-packages/IPython/extensions/', '/home/kal/K27act_models/bin/', '/home/kal/TF_models/bin/', '/home/kal/.ipython']\n"
     ]
    }
   ],
   "source": [
    "import change_path\n",
    "\n",
    "import pandas as pd\n",
    "import numpy as np\n",
    "import matplotlib.pyplot as plt\n",
    "import ucscgenome\n",
    "import pyliftover\n",
    "from tqdm import tqdm\n",
    "\n",
    "#load in the DNA\n",
    "genome19 = ucscgenome.Genome('/home/kal/.ucscgenome/hg19.2bit')\n",
    "genome38 = ucscgenome.Genome('/home/kal/.ucscgenome/hg38.2bit')\n",
    "lo = pyliftover.LiftOver('/home/kal/K27act_models/eqtl_data/hg38ToHg19.over.chain')"
   ]
  },
  {
   "cell_type": "code",
   "execution_count": null,
   "metadata": {
    "collapsed": false,
    "deletable": true,
    "editable": true
   },
   "outputs": [],
   "source": [
    "# import the ibd varients\n",
    "ibd_l = pd.read_table('/home/kal/K27act_models/eqtl_data/IBD_list_of_varients_raw.csv')\n",
    "print(len(ibd_l))\n",
    "ibd_l.head()"
   ]
  },
  {
   "cell_type": "code",
   "execution_count": null,
   "metadata": {
    "collapsed": false,
    "deletable": true,
    "editable": true,
    "scrolled": false
   },
   "outputs": [],
   "source": [
    "# check if reference matches genome\n",
    "count=0\n",
    "ibd_l['good'] = np.nan\n",
    "for idx, row in ibd_l.iterrows():\n",
    "    if genome[row.chr][row.position].lower() != row.refAllele[0].lower():\n",
    "        print('Should be {}'.format(genome[row.chr][row.position].lower()))\n",
    "        print('Actually is {}'.format(row.refAllele.lower()))\n",
    "        print('Alternate is {}'.format(row.altAllele.lower()))\n",
    "        count+=1\n",
    "        if row.refAllele.lower() == 'i':\n",
    "            ibd_l.at[idx, 'good'] = True\n",
    "        else:\n",
    "            ibd_l.at[idx, 'good'] = False\n",
    "    else:\n",
    "        ibd_l.at[idx, 'good'] = True\n",
    "\n",
    "        \n",
    "print(count)"
   ]
  },
  {
   "cell_type": "code",
   "execution_count": null,
   "metadata": {
    "collapsed": false,
    "deletable": true,
    "editable": true
   },
   "outputs": [],
   "source": [
    "filter = [False if len(a)>256 else True for a in ibd_l.refAllele]\n",
    "print(sum(filter))\n",
    "print(len(ibd_l))\n",
    "\n",
    "ibd_l = ibd_l[filter]\n",
    "ibd_l = ibd_l[ibd_l.good == 1]\n",
    "\n",
    "print(len(ibd_l))"
   ]
  },
  {
   "cell_type": "code",
   "execution_count": null,
   "metadata": {
    "collapsed": false,
    "deletable": true,
    "editable": true
   },
   "outputs": [],
   "source": [
    "ibd_l.to_csv('/home/kal/K27act_models/eqtl_data/IBD_list_of_varients.csv', sep='\\t', index=False)"
   ]
  },
  {
   "cell_type": "code",
   "execution_count": null,
   "metadata": {
    "collapsed": false,
    "deletable": true,
    "editable": true
   },
   "outputs": [],
   "source": [
    "# import the other ibd varients\n",
    "ibd_c = pd.read_table('/home/kal/K27act_models/eqtl_data/IBD_credible_sets_raw.csv')\n",
    "ibd_c.chr = ['chr' + str(n) for n in ibd_c['chr']]\n",
    "ibd_c = ibd_c.rename(index=str, columns={'A0':'refAllele', 'A1': 'altAllele', 'position.lead':'position'})\n",
    "ibd_c.position = ibd_c.position - 1\n",
    "ibd_c = ibd_c.fillna(False)\n",
    "print(len(ibd_c))\n",
    "ibd_c.head()"
   ]
  },
  {
   "cell_type": "code",
   "execution_count": null,
   "metadata": {
    "collapsed": false,
    "deletable": true,
    "editable": true
   },
   "outputs": [],
   "source": [
    "# check if reference matches genome\n",
    "count=0\n",
    "for idx, row in ibd_c.iterrows():\n",
    "    if genome[row.chr][row.position].lower() != row.refAllele[0].lower():\n",
    "        print('Should be {}'.format(genome[row.chr][row.position].lower()))\n",
    "        print('Actually is {}'.format(row.refAllele.lower()))\n",
    "        print('Alternate is {}'.format(row.altAllele.lower()))\n",
    "        count+=1\n",
    "        if row.refAllele.lower() == 'i':\n",
    "            ibd_c.at[idx, 'good'] = True\n",
    "        else:\n",
    "            ibd_c.at[idx, 'good'] = False\n",
    "    else:\n",
    "        ibd_c.at[idx, 'good'] = True\n",
    "print(count)\n",
    "ibd_c = ibd_c[ibd_c.good == 1]"
   ]
  },
  {
   "cell_type": "code",
   "execution_count": null,
   "metadata": {
    "collapsed": true,
    "deletable": true,
    "editable": true
   },
   "outputs": [],
   "source": [
    "ibd_c.to_csv('/home/kal/K27act_models/eqtl_data/IBD_credible_sets.csv', sep='\\t', index=False)"
   ]
  },
  {
   "cell_type": "code",
   "execution_count": 2,
   "metadata": {
    "collapsed": false,
    "deletable": true,
    "editable": true
   },
   "outputs": [
    {
     "data": {
      "text/html": [
       "<div>\n",
       "<table border=\"1\" class=\"dataframe\">\n",
       "  <thead>\n",
       "    <tr style=\"text-align: right;\">\n",
       "      <th></th>\n",
       "      <th>chr</th>\n",
       "      <th>position</th>\n",
       "      <th>variant_id</th>\n",
       "      <th>gene_id</th>\n",
       "      <th>variant</th>\n",
       "      <th>prob.in.set</th>\n",
       "      <th>PosteriorProb</th>\n",
       "      <th>gene_name</th>\n",
       "      <th>CredibleSetSize</th>\n",
       "      <th>CredibleSet</th>\n",
       "      <th>...</th>\n",
       "      <th>ma_count</th>\n",
       "      <th>maf</th>\n",
       "      <th>pval_nominal</th>\n",
       "      <th>slope</th>\n",
       "      <th>slope_se</th>\n",
       "      <th>refAllele</th>\n",
       "      <th>altAllele</th>\n",
       "      <th>eqtl_name</th>\n",
       "      <th>position38</th>\n",
       "      <th>chr38</th>\n",
       "    </tr>\n",
       "  </thead>\n",
       "  <tbody>\n",
       "    <tr>\n",
       "      <th>0</th>\n",
       "      <td>chr10</td>\n",
       "      <td>102087037</td>\n",
       "      <td>chr10_100327281_T_C_b38</td>\n",
       "      <td>ENSG00000224934.2</td>\n",
       "      <td>102087038</td>\n",
       "      <td>0.019453</td>\n",
       "      <td>0.023665</td>\n",
       "      <td>RP11-441O15.3</td>\n",
       "      <td>27.0</td>\n",
       "      <td>ENSG00000224934.2</td>\n",
       "      <td>...</td>\n",
       "      <td>36</td>\n",
       "      <td>0.122449</td>\n",
       "      <td>0.000652</td>\n",
       "      <td>0.375461</td>\n",
       "      <td>0.107300</td>\n",
       "      <td>T</td>\n",
       "      <td>C</td>\n",
       "      <td>chr10:102087038:RP11-441O15.3</td>\n",
       "      <td>100327280</td>\n",
       "      <td>chr10</td>\n",
       "    </tr>\n",
       "    <tr>\n",
       "      <th>1</th>\n",
       "      <td>chr10</td>\n",
       "      <td>102087112</td>\n",
       "      <td>chr10_100327356_G_T_b38</td>\n",
       "      <td>ENSG00000224934.2</td>\n",
       "      <td>102087113</td>\n",
       "      <td>0.005739</td>\n",
       "      <td>0.006981</td>\n",
       "      <td>RP11-441O15.3</td>\n",
       "      <td>NaN</td>\n",
       "      <td>NaN</td>\n",
       "      <td>...</td>\n",
       "      <td>58</td>\n",
       "      <td>0.197279</td>\n",
       "      <td>0.001981</td>\n",
       "      <td>-0.268628</td>\n",
       "      <td>0.084970</td>\n",
       "      <td>G</td>\n",
       "      <td>T</td>\n",
       "      <td>chr10:102087113:RP11-441O15.3</td>\n",
       "      <td>100327355</td>\n",
       "      <td>chr10</td>\n",
       "    </tr>\n",
       "    <tr>\n",
       "      <th>2</th>\n",
       "      <td>chr10</td>\n",
       "      <td>102103036</td>\n",
       "      <td>chr10_100343280_C_T_b38</td>\n",
       "      <td>ENSG00000119929.12</td>\n",
       "      <td>102103037</td>\n",
       "      <td>0.051836</td>\n",
       "      <td>0.047800</td>\n",
       "      <td>CUTC</td>\n",
       "      <td>43.0</td>\n",
       "      <td>ENSG00000119929.12</td>\n",
       "      <td>...</td>\n",
       "      <td>33</td>\n",
       "      <td>0.112245</td>\n",
       "      <td>0.000046</td>\n",
       "      <td>0.452428</td>\n",
       "      <td>0.107065</td>\n",
       "      <td>C</td>\n",
       "      <td>T</td>\n",
       "      <td>chr10:102103037:CUTC</td>\n",
       "      <td>100343279</td>\n",
       "      <td>chr10</td>\n",
       "    </tr>\n",
       "    <tr>\n",
       "      <th>3</th>\n",
       "      <td>chr10</td>\n",
       "      <td>102105629</td>\n",
       "      <td>chr10_100345873_T_C_b38</td>\n",
       "      <td>ENSG00000119929.12</td>\n",
       "      <td>102105630</td>\n",
       "      <td>0.441053</td>\n",
       "      <td>0.406717</td>\n",
       "      <td>CUTC</td>\n",
       "      <td>43.0</td>\n",
       "      <td>ENSG00000119929.12</td>\n",
       "      <td>...</td>\n",
       "      <td>32</td>\n",
       "      <td>0.108844</td>\n",
       "      <td>0.000003</td>\n",
       "      <td>0.502150</td>\n",
       "      <td>0.102816</td>\n",
       "      <td>T</td>\n",
       "      <td>C</td>\n",
       "      <td>chr10:102105630:CUTC</td>\n",
       "      <td>100345872</td>\n",
       "      <td>chr10</td>\n",
       "    </tr>\n",
       "    <tr>\n",
       "      <th>4</th>\n",
       "      <td>chr10</td>\n",
       "      <td>102127491</td>\n",
       "      <td>chr10_100367735_A_G_b38</td>\n",
       "      <td>ENSG00000119929.12</td>\n",
       "      <td>102127492</td>\n",
       "      <td>0.043167</td>\n",
       "      <td>0.039806</td>\n",
       "      <td>CUTC</td>\n",
       "      <td>43.0</td>\n",
       "      <td>ENSG00000119929.12</td>\n",
       "      <td>...</td>\n",
       "      <td>40</td>\n",
       "      <td>0.136054</td>\n",
       "      <td>0.000060</td>\n",
       "      <td>-0.380238</td>\n",
       "      <td>0.091461</td>\n",
       "      <td>A</td>\n",
       "      <td>G</td>\n",
       "      <td>chr10:102127492:CUTC</td>\n",
       "      <td>100367734</td>\n",
       "      <td>chr10</td>\n",
       "    </tr>\n",
       "  </tbody>\n",
       "</table>\n",
       "<p>5 rows × 26 columns</p>\n",
       "</div>"
      ],
      "text/plain": [
       "     chr   position               variant_id             gene_id    variant  \\\n",
       "0  chr10  102087037  chr10_100327281_T_C_b38   ENSG00000224934.2  102087038   \n",
       "1  chr10  102087112  chr10_100327356_G_T_b38   ENSG00000224934.2  102087113   \n",
       "2  chr10  102103036  chr10_100343280_C_T_b38  ENSG00000119929.12  102103037   \n",
       "3  chr10  102105629  chr10_100345873_T_C_b38  ENSG00000119929.12  102105630   \n",
       "4  chr10  102127491  chr10_100367735_A_G_b38  ENSG00000119929.12  102127492   \n",
       "\n",
       "   prob.in.set  PosteriorProb      gene_name  CredibleSetSize  \\\n",
       "0     0.019453       0.023665  RP11-441O15.3             27.0   \n",
       "1     0.005739       0.006981  RP11-441O15.3              NaN   \n",
       "2     0.051836       0.047800           CUTC             43.0   \n",
       "3     0.441053       0.406717           CUTC             43.0   \n",
       "4     0.043167       0.039806           CUTC             43.0   \n",
       "\n",
       "          CredibleSet  ...   ma_count       maf  pval_nominal     slope  \\\n",
       "0   ENSG00000224934.2  ...         36  0.122449      0.000652  0.375461   \n",
       "1                 NaN  ...         58  0.197279      0.001981 -0.268628   \n",
       "2  ENSG00000119929.12  ...         33  0.112245      0.000046  0.452428   \n",
       "3  ENSG00000119929.12  ...         32  0.108844      0.000003  0.502150   \n",
       "4  ENSG00000119929.12  ...         40  0.136054      0.000060 -0.380238   \n",
       "\n",
       "   slope_se  refAllele  altAllele                      eqtl_name  position38  \\\n",
       "0  0.107300          T          C  chr10:102087038:RP11-441O15.3   100327280   \n",
       "1  0.084970          G          T  chr10:102087113:RP11-441O15.3   100327355   \n",
       "2  0.107065          C          T           chr10:102103037:CUTC   100343279   \n",
       "3  0.102816          T          C           chr10:102105630:CUTC   100345872   \n",
       "4  0.091461          A          G           chr10:102127492:CUTC   100367734   \n",
       "\n",
       "   chr38  \n",
       "0  chr10  \n",
       "1  chr10  \n",
       "2  chr10  \n",
       "3  chr10  \n",
       "4  chr10  \n",
       "\n",
       "[5 rows x 26 columns]"
      ]
     },
     "execution_count": 2,
     "metadata": {},
     "output_type": "execute_result"
    }
   ],
   "source": [
    "# import the eqtl data\n",
    "eqtl = pd.read_table('/home/kal/K27act_models/eqtl_data/Cells_EBV-transformed_lymphocytes.hg19.csv')\n",
    "eqtl = eqtl.rename(index=str, columns={'eqtl.ref.allele':'refAllele', 'eqtl.alt.allele': 'altAllele'})\n",
    "eqtl.position = eqtl.position - 1\n",
    "eqtl['position38'] = [int(e.split('_')[1]) - 1 for e in eqtl['variant_id']]\n",
    "eqtl['chr38'] = [e.split('_')[0] for e in eqtl['variant_id']]\n",
    "eqtl.head()"
   ]
  },
  {
   "cell_type": "code",
   "execution_count": 3,
   "metadata": {
    "collapsed": false,
    "deletable": true,
    "editable": true,
    "scrolled": true
   },
   "outputs": [
    {
     "name": "stderr",
     "output_type": "stream",
     "text": [
      "100%|██████████| 239048/239048 [00:24<00:00, 9822.58it/s] "
     ]
    },
    {
     "name": "stdout",
     "output_type": "stream",
     "text": [
      "235686\n",
      "239048\n",
      "98.59358789866471\n"
     ]
    },
    {
     "name": "stderr",
     "output_type": "stream",
     "text": [
      "\n"
     ]
    }
   ],
   "source": [
    "# check if reference matches genome\n",
    "count=0\n",
    "good=list()\n",
    "for idx, row in tqdm(eqtl.iterrows(), total=len(eqtl)):\n",
    "    if genome19[row.chr][row.position].lower() != row.refAllele[0].lower():\n",
    "        #print('Should be {}'.format(genome19[row.chr][row.position].lower()))\n",
    "        #print('Actually is {}'.format(row.refAllele.lower()))\n",
    "        #print('Alternate is {}'.format(row.altAllele.lower()))\n",
    "        good.append(False)\n",
    "    else:\n",
    "        good.append(True)\n",
    "        count+=1\n",
    "        \n",
    "print(count)\n",
    "print(len(eqtl))\n",
    "print(count/len(eqtl)*100)"
   ]
  },
  {
   "cell_type": "code",
   "execution_count": 4,
   "metadata": {
    "collapsed": true
   },
   "outputs": [],
   "source": [
    "eqtl['matches'] = good"
   ]
  },
  {
   "cell_type": "code",
   "execution_count": null,
   "metadata": {
    "collapsed": true,
    "deletable": true,
    "editable": true
   },
   "outputs": [],
   "source": [
    "# map from hg38 to hg19\n",
    "good_scores = list()\n",
    "bad_scores=list()\n",
    "verb=False\n",
    "# pyliftover produces tuples (target_chromosome, target_position, target_strand, conversion_chain_score),\n",
    "for index, row in tqdm(eqtl.iterrows(), total=len(eqtl)):\n",
    "    new_cords = lo.convert_coordinate(row.chr38, row.position38)\n",
    "    if len(new_cords) > 1 and verb:\n",
    "        print(new_cords)\n",
    "    eqtl.at[idx, 'chr19'] = new_cords[0][0]\n",
    "    eqtl.at[idx, 'position19'] = new_cords[0][1]\n",
    "    if row.refAllele.lower()[0] != genome[new_cords[0][0]][new_cords[0][1]].lower():\n",
    "        if verb:\n",
    "            print('old' + str([row.chr38, row.position38]))\n",
    "            print('new' + str(new_cords))\n",
    "            print('38 is {}, reference is {}, 19 is {}'.format(genome38[row.chr38][row.position38].lower(), \n",
    "                                                        row.refAllele.lower(), \n",
    "                                                       genome[new_cords[0][0]][new_cords[0][1]].lower()))\n",
    "        bad_scores.append(new_cords[0][3])\n",
    "    else:\n",
    "        good_scores.append(new_cords[0][3])"
   ]
  },
  {
   "cell_type": "code",
   "execution_count": null,
   "metadata": {
    "collapsed": false,
    "deletable": true,
    "editable": true
   },
   "outputs": [],
   "source": [
    "plt.hist(bad_scores, label='Negatives', bins=10)  \n",
    "plt.hist(good_scores, label='Postitives', bins=10) \n",
    "plt.legend()\n",
    "plt.title('Score certainty for SNVs mapped hg38 to hg 19')\n",
    "plt.show()\n",
    "\n",
    "print(len(bad_scores))"
   ]
  },
  {
   "cell_type": "code",
   "execution_count": null,
   "metadata": {
    "collapsed": false,
    "deletable": true,
    "editable": true
   },
   "outputs": [],
   "source": [
    "# write out hg 38 eqtl data\n",
    "eqtl38['position'] = eqtl['position38']\n",
    "eqtl38['chr'] = eqtl['chr38']\n",
    "columns = ['chr', 'position', 'variant_id', 'refAllele', 'altAllele', 'gene_id', 'variant', 'prob.in.set',\n",
    "           'PosteriorProb', 'gene_name', 'CredibleSetSize', 'CredibleSet', 'CredibleSetName', 'median.expression', \n",
    "           'missingness', 'mappability.k50', 'tss_distance', 'ma_samples', 'ma_count', 'maf', 'pval_nominal', \n",
    "           'slope', 'slope_se', 'eqtl_name']\n",
    "eqtl38.to_csv('/home/kal/K27act_models/eqtl_data/Cells_EBV-transformed_lymphocytes.hg38.csv', index=None, sep='\\t', columns=columns)"
   ]
  },
  {
   "cell_type": "code",
   "execution_count": 6,
   "metadata": {
    "collapsed": false,
    "deletable": true,
    "editable": true,
    "scrolled": true
   },
   "outputs": [],
   "source": [
    "# write out hg 19 eqtl data\n",
    "eqtl19 = eqtl[eqtl['matches']]\n",
    "columns = ['chr', 'position', 'variant_id', 'refAllele', 'altAllele', 'gene_id', 'variant', 'prob.in.set',\n",
    "           'PosteriorProb', 'gene_name', 'CredibleSetSize', 'CredibleSet', 'CredibleSetName', 'median.expression', \n",
    "           'missingness', 'mappability.k50', 'tss_distance', 'ma_samples', 'ma_count', 'maf', 'pval_nominal', \n",
    "           'slope', 'slope_se', 'eqtl_name']\n",
    "eqtl19.to_csv('/home/kal/K27act_models/eqtl_data/Cells_EBV-transformed_lymphocytes.hg19.csv', index=None, sep='\\t', columns=columns)"
   ]
  },
  {
   "cell_type": "code",
   "execution_count": null,
   "metadata": {
    "collapsed": true,
    "deletable": true,
    "editable": true
   },
   "outputs": [],
   "source": []
  }
 ],
 "metadata": {
  "kernelspec": {
   "display_name": "Python 3",
   "language": "python",
   "name": "python3"
  },
  "language_info": {
   "codemirror_mode": {
    "name": "ipython",
    "version": 3
   },
   "file_extension": ".py",
   "mimetype": "text/x-python",
   "name": "python",
   "nbconvert_exporter": "python",
   "pygments_lexer": "ipython3",
   "version": "3.5.2"
  }
 },
 "nbformat": 4,
 "nbformat_minor": 2
}
