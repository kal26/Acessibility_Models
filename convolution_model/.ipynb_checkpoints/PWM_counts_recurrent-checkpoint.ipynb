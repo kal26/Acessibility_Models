{
 "cells": [
  {
   "cell_type": "raw",
   "metadata": {},
   "source": [
    "Train a model with only one convolution that integrate across the seuqence with a recurent layer"
   ]
  },
  {
   "cell_type": "code",
   "execution_count": 1,
   "metadata": {
    "collapsed": false
   },
   "outputs": [
    {
     "name": "stderr",
     "output_type": "stream",
     "text": [
      "Using TensorFlow backend.\n",
      "/home/kal/TF_models/bin/sequence.py:275: RuntimeWarning: divide by zero encountered in log\n",
      "  self.seq = helper.softmax(np.log(dist))\n"
     ]
    }
   ],
   "source": [
    "import os\n",
    "import sys\n",
    "sys.path.append('/home/kal/TF_models/bin/')\n",
    "sys.path.append('/home/kal/K27act_models/convolution_model/')\n",
    "sys.path.append('/home/kal/K27act_models/cg_model/')\n",
    "sys.path.append('/home/thouis/basenji_embeddings')\n",
    "os.environ['CUDA_VISIBLE_DEVICES'] = '0'\n",
    "\n",
    "import tf_memory_limit\n",
    "from zinb import ZINB\n",
    "import seaborn as sns\n",
    "import h5py\n",
    "import matplotlib.pyplot as plt\n",
    "from keras.utils import plot_model\n",
    "\n",
    "import pandas as pd\n",
    "import numpy as np\n",
    "import itertools\n",
    "import sequence\n",
    "import ucscgenome\n",
    "from tqdm import tqdm\n",
    "import time\n",
    "import datagen\n",
    "import sequence\n",
    "import helper\n",
    "import viz_sequence\n",
    "import pickle\n",
    "\n",
    "from keras.models import Model, load_model\n",
    "from keras.layers import Input, SpatialDropout1D, Conv1D, Lambda, Dropout, Activation, Bidirectional, LSTM, GRU\n",
    "from keras.optimizers import RMSprop, SGD\n",
    "from keras.callbacks import EarlyStopping, TensorBoard, ModelCheckpoint\n",
    "from keras import backend as K\n",
    "import tensorflow as tf\n",
    "\n",
    "\n",
    "import matplotlib as mpl\n",
    "mpl.rcParams.update(mpl.rcParamsDefault)"
   ]
  },
  {
   "cell_type": "code",
   "execution_count": null,
   "metadata": {
    "collapsed": false
   },
   "outputs": [],
   "source": [
    "#load in the DNA\n",
    "genome = ucscgenome.Genome('/home/kal/.ucscgenome/hg19.2bit')\n",
    "\n",
    "# load in ATAC data\n",
    "atac_path = '/home/kal/K27act_models/GM_data/ATAC/atac_average.hdf5'\n",
    "atac = h5py.File(atac_path, 'r')\n",
    "\n",
    "# load in preprocessed data\n",
    "peaks_path = '/home/kal/K27act_models/GM_data/k27act_training_regions.bed'\n",
    "peaks = pd.read_table(peaks_path, header=None)\n",
    "#note we make the 'k27act' column the 'score' column for the correct training behavior\n",
    "peaks.columns='chr start end name fold_change atac k27act nucs'.split() \n",
    "peaks['score'] = np.log(peaks['k27act'] + 1)\n",
    "\n",
    "# facts about the data\n",
    "num_training_samples = len(peaks[(peaks.chr != 'chr8')])\n",
    "print('{} training samples'.format(num_training_samples))\n",
    "num_testing_samples = len(peaks[(peaks.chr == 'chr8') & (peaks.index%2 == 0)])\n",
    "print('{} testing samples'.format(num_testing_samples))\n",
    "num_validaiton_samples = len(peaks[(peaks.chr == 'chr8') & (peaks.index%2 == 1)])\n",
    "print('{} validation samples'.format(num_validaiton_samples))"
   ]
  },
  {
   "cell_type": "code",
   "execution_count": null,
   "metadata": {
    "collapsed": false
   },
   "outputs": [],
   "source": [
    "plt.hist(peaks['score'], bins=50)\n",
    "plt.title('Score Distributions for ML training(log K27act)')\n",
    "plt.ylabel('Number of samples')\n",
    "plt.xlabel('Log(K27act + 1)')\n",
    "plt.show()"
   ]
  },
  {
   "cell_type": "code",
   "execution_count": null,
   "metadata": {
    "collapsed": false
   },
   "outputs": [],
   "source": [
    "# directory stuff\n",
    "out_dir = '/home/kal/K27act_models/convolution_model/'\n",
    "timestr = time.strftime(\"%Y%m%d_%H%M%S\")\n",
    "out_path = os.path.join(out_dir, timestr + '_counts_pwm_recurrent')\n",
    "os.makedirs(out_path)\n",
    "# make a file system\n",
    "weights_path = os.path.join(out_path, 'intermediate_weights')\n",
    "os.makedirs(weights_path)\n",
    "history_path = os.path.join(out_path, 'history')\n",
    "os.makedirs(history_path)\n",
    "\n",
    "print(out_path)"
   ]
  },
  {
   "cell_type": "code",
   "execution_count": null,
   "metadata": {
    "collapsed": false
   },
   "outputs": [],
   "source": [
    "# model's input\n",
    "batch_size=32\n",
    "seqs = Input(batch_shape=(batch_size, 1024, 5), name='input_seqs')\n",
    "num_outputs=1\n",
    "\n",
    "#build custom functions\n",
    "def add_RC(x):\n",
    "    RC = K.concatenate([x[:, ::-1, :1], x[:, ::-1, 1:][::-1]], axis=2)\n",
    "    return K.concatenate([x, RC], axis=0)\n",
    "def add_RC_shape(s):\n",
    "    return 2*s[0], s[1], s[2]\n",
    "\n",
    "# add the rc, do a convolution, take concat activation across forward and reverse\n",
    "add_rc = Lambda(add_RC, name='add_rc', output_shape=add_RC_shape)\n",
    "conv = Conv1D(128, 32, name='conv_in', padding='same', activation='relu')(add_rc(seqs))\n",
    "conv_dropped = SpatialDropout1D(0.1)(conv)\n",
    "combined_conv = Lambda(lambda x: K.concatenate([x[:x.shape[0]//2, :, :], x[x.shape[0]//2:, ::-1, :]], axis=2), \n",
    "                       name='stack_fr', output_shape=lambda s: (s[0] // 2, s[1], s[2] * 2))(conv_dropped)\n",
    "\n",
    "# then use a recurrent bidiriection lastm to get one 'k27ness' per input sequence\n",
    "predictions = Bidirectional(LSTM(num_outputs))(combined_conv)\n",
    "\n",
    "# make the predictions positive\n",
    "pos_predictions =  Activation('relu')(predictions)\n",
    "\n",
    "# build the model\n",
    "model = Model(inputs=seqs, outputs=pos_predictions)\n",
    "\n",
    "model.summary()"
   ]
  },
  {
   "cell_type": "code",
   "execution_count": 2,
   "metadata": {
    "collapsed": false
   },
   "outputs": [
    {
     "name": "stdout",
     "output_type": "stream",
     "text": [
      "2.2.0\n",
      "1.4.1\n"
     ]
    }
   ],
   "source": [
    "import keras\n",
    "print(keras.__version__)\n",
    "print(tf.__version__)"
   ]
  },
  {
   "cell_type": "code",
   "execution_count": 3,
   "metadata": {
    "collapsed": false
   },
   "outputs": [
    {
     "data": {
      "text/plain": [
       "['/home/thouis/VENV/lib/python3.5/site-packages',\n",
       " '/home/thouis/VENV/local/lib/python3.5/dist-packages',\n",
       " '/home/thouis/VENV/lib/python3/dist-packages',\n",
       " '/home/thouis/VENV/lib/python3.5/dist-packages']"
      ]
     },
     "execution_count": 3,
     "metadata": {},
     "output_type": "execute_result"
    }
   ],
   "source": [
    "import site; site.getsitepackages()"
   ]
  },
  {
   "cell_type": "code",
   "execution_count": null,
   "metadata": {
    "collapsed": true
   },
   "outputs": [],
   "source": []
  }
 ],
 "metadata": {
  "kernelspec": {
   "display_name": "Python 3",
   "language": "python",
   "name": "python3"
  },
  "language_info": {
   "codemirror_mode": {
    "name": "ipython",
    "version": 3
   },
   "file_extension": ".py",
   "mimetype": "text/x-python",
   "name": "python",
   "nbconvert_exporter": "python",
   "pygments_lexer": "ipython3",
   "version": "3.5.2"
  }
 },
 "nbformat": 4,
 "nbformat_minor": 2
}
