{
 "cells": [
  {
   "cell_type": "raw",
   "metadata": {
    "deletable": true,
    "editable": true
   },
   "source": [
    "Train a more complex convolutional model to predict log fold change f K27act from sequence and atac"
   ]
  },
  {
   "cell_type": "code",
   "execution_count": 1,
   "metadata": {
    "collapsed": false,
    "deletable": true,
    "editable": true
   },
   "outputs": [
    {
     "name": "stderr",
     "output_type": "stream",
     "text": [
      "Using TensorFlow backend.\n",
      "/home/kal/TF_models/bin/sequence.py:275: RuntimeWarning: divide by zero encountered in log\n",
      "  self.seq = helper.softmax(np.log(dist))\n"
     ]
    }
   ],
   "source": [
    "import os\n",
    "import sys\n",
    "sys.path.append('/home/kal/TF_models/bin/')\n",
    "sys.path.append('/home/kal/K27act_models/convolution_model/')\n",
    "sys.path.append('/home/kal/K27act_models/cg_model/')\n",
    "sys.path.append('/home/thouis/basenji_embeddings')\n",
    "os.environ['CUDA_VISIBLE_DEVICES'] = '1'\n",
    "\n",
    "import tf_memory_limit\n",
    "from zinb import ZINB\n",
    "import seaborn as sns\n",
    "import h5py\n",
    "import matplotlib.pyplot as plt\n",
    "from keras.utils import plot_model\n",
    "\n",
    "import pandas as pd\n",
    "import numpy as np\n",
    "import itertools\n",
    "import sequence\n",
    "import ucscgenome\n",
    "from tqdm import tqdm\n",
    "import time\n",
    "import datagen\n",
    "import sequence\n",
    "import helper\n",
    "import viz_sequence\n",
    "\n",
    "from keras.models import Model\n",
    "from keras.layers import Input, Dense, SpatialDropout1D, Conv1D, Lambda, Dropout\n",
    "from keras.optimizers import RMSprop, SGD\n",
    "from keras.callbacks import EarlyStopping, TensorBoard, ModelCheckpoint\n",
    "from keras import backend as K\n",
    "import tensorflow as tf\n",
    "\n",
    "import matplotlib as mpl\n",
    "mpl.rcParams.update(mpl.rcParamsDefault)"
   ]
  },
  {
   "cell_type": "code",
   "execution_count": 2,
   "metadata": {
    "collapsed": false,
    "deletable": true,
    "editable": true
   },
   "outputs": [],
   "source": [
    "#load in the DNA\n",
    "genome = ucscgenome.Genome('/home/kal/.ucscgenome/hg19.2bit')"
   ]
  },
  {
   "cell_type": "code",
   "execution_count": 3,
   "metadata": {
    "collapsed": true,
    "deletable": true,
    "editable": true
   },
   "outputs": [],
   "source": [
    "# load in ATAC data\n",
    "atac_path = '/home/kal/K27act_models/GM_data/ATAC/atac_average.hdf5'\n",
    "atac = h5py.File(atac_path, 'r')"
   ]
  },
  {
   "cell_type": "code",
   "execution_count": 4,
   "metadata": {
    "collapsed": true,
    "deletable": true,
    "editable": true
   },
   "outputs": [],
   "source": [
    "# load in (semi) preprocessed data\n",
    "peaks_path = '/home/kal/K27act_models/GM_data/k27act_training_regions.bed'\n",
    "peaks = pd.read_table(peaks_path, header=None)\n",
    "peaks.columns='chr start end name score atac k27act nucs'.split()"
   ]
  },
  {
   "cell_type": "code",
   "execution_count": 5,
   "metadata": {
    "collapsed": false,
    "deletable": true,
    "editable": true
   },
   "outputs": [
    {
     "name": "stdout",
     "output_type": "stream",
     "text": [
      "160363 training samples\n",
      "3413 testing samples\n",
      "3414 validation samples\n"
     ]
    }
   ],
   "source": [
    "# facts about the data\n",
    "num_training_samples = len(peaks[(peaks.chr != 'chr8')])\n",
    "print('{} training samples'.format(num_training_samples))\n",
    "\n",
    "num_testing_samples = len(peaks[(peaks.chr == 'chr8') & (peaks.index%2 == 0)])\n",
    "print('{} testing samples'.format(num_testing_samples))\n",
    "\n",
    "num_validaiton_samples = len(peaks[(peaks.chr == 'chr8') & (peaks.index%2 == 1)])\n",
    "print('{} validation samples'.format(num_validaiton_samples))"
   ]
  },
  {
   "cell_type": "code",
   "execution_count": 6,
   "metadata": {
    "collapsed": true,
    "deletable": true,
    "editable": true
   },
   "outputs": [],
   "source": [
    "# directory stuff\n",
    "out_dir = '/home/kal/K27act_models/convolution_model/'\n",
    "timestr = time.strftime(\"%Y%m%d_%H%M%S\")\n",
    "out_path = os.path.join(out_dir, timestr + '_conv_fold')\n",
    "os.makedirs(out_path)\n",
    "# make a file system\n",
    "weights_path = os.path.join(out_path, 'intermediate_weights')\n",
    "os.makedirs(weights_path)\n",
    "history_path = os.path.join(out_path, 'history')\n",
    "os.makedirs(history_path)"
   ]
  },
  {
   "cell_type": "code",
   "execution_count": 7,
   "metadata": {
    "collapsed": false,
    "deletable": true,
    "editable": true
   },
   "outputs": [],
   "source": [
    "# MODEL\n",
    "batch_size=32\n",
    "seqs = Input(batch_shape=(batch_size, 1024, 5))\n",
    "\n",
    "def add_RC(x):\n",
    "    RC = K.concatenate([x[:, ::-1, :1], x[:, ::-1, 1:][::-1]], axis=2)\n",
    "    return K.concatenate([x, RC], axis=0)\n",
    "def add_RC_shape(s):\n",
    "    return 2*s[0], s[1], s[2]\n",
    "\n",
    "conv = Lambda(add_RC, name='add_rc', output_shape=add_RC_shape)(seqs)\n",
    "\n",
    "for k, n in [[32, 3], [32, 32], [32, 3], [32, 3], [32,3]]:\n",
    "    conv = Conv1D(k, n)(conv)\n",
    "    conv = SpatialDropout1D(.05)(conv)\n",
    "\n",
    "out = Dense(32)(conv) \n",
    "out = Dropout(.1)(out)\n",
    "out = Dense(16)(out)\n",
    "out = Dropout(.1)(out)\n",
    "out = Dense(1)(out)\n",
    "\n",
    "def max_by_direction(x):\n",
    "    forward_max = K.max(x[:x.shape[0]//2, :, :], axis=1)\n",
    "    reverse_max = K.max(x[x.shape[0]//2:, ::-1, :], axis=1)\n",
    "    return K.maximum(forward_max, reverse_max)\n",
    "def max_by_direction_shape(s):\n",
    "    return s[0]//2, 1\n",
    "\n",
    "predictions = Lambda(max_by_direction, name='max_by_direciton', output_shape=max_by_direction_shape)(out)\n",
    "model = Model(inputs=seqs, outputs=predictions)\n",
    "\n",
    "#plot model\n",
    "plot_model(model, to_file=os.path.join(out_path, 'model.png'))"
   ]
  },
  {
   "cell_type": "code",
   "execution_count": null,
   "metadata": {
    "collapsed": false,
    "deletable": true,
    "editable": true,
    "scrolled": false
   },
   "outputs": [
    {
     "name": "stdout",
     "output_type": "stream",
     "text": [
      "Epoch 1/20\n",
      " - 386s - loss: 478.9945 - val_loss: 261.1459\n",
      "\n",
      "Epoch 00001: val_loss improved from inf to 261.14595, saving model to /home/kal/K27act_models/convolution_model/20180706_125053_conv_fold/intermediate_weights/weights-1-01-261.146.hdf5\n",
      "Epoch 2/20\n",
      " - 414s - loss: 194.5600 - val_loss: 62.4169\n",
      "\n",
      "Epoch 00002: val_loss improved from 261.14595 to 62.41694, saving model to /home/kal/K27act_models/convolution_model/20180706_125053_conv_fold/intermediate_weights/weights-1-02-62.417.hdf5\n",
      "Epoch 3/20\n",
      " - 412s - loss: 59.4479 - val_loss: 27.4387\n",
      "\n",
      "Epoch 00003: val_loss improved from 62.41694 to 27.43867, saving model to /home/kal/K27act_models/convolution_model/20180706_125053_conv_fold/intermediate_weights/weights-1-03-27.439.hdf5\n",
      "Epoch 4/20\n",
      " - 418s - loss: 21.7081 - val_loss: 11.6398\n",
      "\n",
      "Epoch 00004: val_loss improved from 27.43867 to 11.63983, saving model to /home/kal/K27act_models/convolution_model/20180706_125053_conv_fold/intermediate_weights/weights-1-04-11.640.hdf5\n",
      "Epoch 5/20\n",
      " - 412s - loss: 4.3833 - val_loss: 3.3788\n",
      "\n",
      "Epoch 00005: val_loss improved from 11.63983 to 3.37882, saving model to /home/kal/K27act_models/convolution_model/20180706_125053_conv_fold/intermediate_weights/weights-1-05-3.379.hdf5\n",
      "Epoch 6/20\n",
      " - 416s - loss: 3.2572 - val_loss: 3.2759\n",
      "\n",
      "Epoch 00006: val_loss improved from 3.37882 to 3.27589, saving model to /home/kal/K27act_models/convolution_model/20180706_125053_conv_fold/intermediate_weights/weights-1-06-3.276.hdf5\n",
      "Epoch 7/20\n",
      " - 414s - loss: 2.7650 - val_loss: 2.9564\n",
      "\n",
      "Epoch 00007: val_loss improved from 3.27589 to 2.95638, saving model to /home/kal/K27act_models/convolution_model/20180706_125053_conv_fold/intermediate_weights/weights-1-07-2.956.hdf5\n",
      "Epoch 8/20\n",
      " - 414s - loss: 2.7970 - val_loss: 3.1662\n",
      "\n",
      "Epoch 00008: val_loss did not improve from 2.95638\n",
      "Epoch 9/20\n",
      " - 416s - loss: 2.7782 - val_loss: 2.7551\n",
      "\n",
      "Epoch 00009: val_loss improved from 2.95638 to 2.75507, saving model to /home/kal/K27act_models/convolution_model/20180706_125053_conv_fold/intermediate_weights/weights-1-09-2.755.hdf5\n",
      "Epoch 10/20\n",
      " - 417s - loss: 2.7836 - val_loss: 2.6617\n",
      "\n",
      "Epoch 00010: val_loss improved from 2.75507 to 2.66168, saving model to /home/kal/K27act_models/convolution_model/20180706_125053_conv_fold/intermediate_weights/weights-1-10-2.662.hdf5\n",
      "Epoch 11/20\n",
      " - 418s - loss: 2.7193 - val_loss: 2.6660\n",
      "\n",
      "Epoch 00011: val_loss did not improve from 2.66168\n",
      "Epoch 12/20\n",
      " - 419s - loss: 2.7015 - val_loss: 2.6712\n",
      "\n",
      "Epoch 00012: val_loss did not improve from 2.66168\n",
      "Epoch 13/20\n",
      " - 419s - loss: 2.7037 - val_loss: 2.8674\n",
      "\n",
      "Epoch 00013: val_loss did not improve from 2.66168\n",
      "Epoch 14/20\n",
      " - 421s - loss: 2.7057 - val_loss: 2.6831\n",
      "\n",
      "Epoch 00014: val_loss did not improve from 2.66168\n",
      "Epoch 15/20\n",
      " - 423s - loss: 2.7143 - val_loss: 2.7491\n",
      "\n",
      "Epoch 00015: val_loss did not improve from 2.66168\n",
      "Epoch 16/20\n",
      " - 419s - loss: 2.7143 - val_loss: 2.9859\n",
      "\n",
      "Epoch 00016: val_loss did not improve from 2.66168\n",
      "Epoch 17/20\n",
      " - 414s - loss: 2.6972 - val_loss: 3.5193\n",
      "\n",
      "Epoch 00017: val_loss did not improve from 2.66168\n",
      "Epoch 18/20\n",
      " - 415s - loss: 2.7226 - val_loss: 2.9307\n",
      "\n",
      "Epoch 00018: val_loss did not improve from 2.66168\n",
      "Epoch 19/20\n",
      " - 391s - loss: 2.7039 - val_loss: 2.8779\n",
      "\n",
      "Epoch 00019: val_loss did not improve from 2.66168\n",
      "Epoch 20/20\n",
      " - 363s - loss: 2.6991 - val_loss: 2.9727\n",
      "\n",
      "Epoch 00020: val_loss did not improve from 2.66168\n",
      "Epoch 1/20\n",
      " - 334s - loss: 2.6943 - val_loss: 2.9363\n",
      "\n",
      "Epoch 00001: val_loss improved from inf to 2.93632, saving model to /home/kal/K27act_models/convolution_model/20180706_125053_conv_fold/intermediate_weights/weights-2-01-2.936.hdf5\n",
      "Epoch 2/20\n",
      " - 307s - loss: 2.6904 - val_loss: 2.8591\n",
      "\n",
      "Epoch 00002: val_loss improved from 2.93632 to 2.85914, saving model to /home/kal/K27act_models/convolution_model/20180706_125053_conv_fold/intermediate_weights/weights-2-02-2.859.hdf5\n",
      "Epoch 3/20\n",
      " - 308s - loss: 2.6863 - val_loss: 2.8706\n",
      "\n",
      "Epoch 00003: val_loss did not improve from 2.85914\n",
      "Epoch 4/20\n",
      " - 308s - loss: 2.6826 - val_loss: 2.9478\n",
      "\n",
      "Epoch 00004: val_loss did not improve from 2.85914\n",
      "Epoch 5/20\n",
      " - 310s - loss: 2.6903 - val_loss: 2.7917\n",
      "\n",
      "Epoch 00005: val_loss improved from 2.85914 to 2.79171, saving model to /home/kal/K27act_models/convolution_model/20180706_125053_conv_fold/intermediate_weights/weights-2-05-2.792.hdf5\n",
      "Epoch 6/20\n",
      " - 309s - loss: 2.6791 - val_loss: 2.9366\n",
      "\n",
      "Epoch 00006: val_loss did not improve from 2.79171\n",
      "Epoch 7/20\n",
      " - 312s - loss: 2.6802 - val_loss: 3.0055\n",
      "\n",
      "Epoch 00007: val_loss did not improve from 2.79171\n",
      "Epoch 8/20\n",
      " - 330s - loss: 2.6876 - val_loss: 2.9194\n",
      "\n",
      "Epoch 00008: val_loss did not improve from 2.79171\n",
      "Epoch 9/20\n",
      " - 331s - loss: 2.6793 - val_loss: 2.9413\n",
      "\n",
      "Epoch 00009: val_loss did not improve from 2.79171\n",
      "Epoch 10/20\n",
      " - 327s - loss: 2.6823 - val_loss: 2.8608\n",
      "\n",
      "Epoch 00010: val_loss did not improve from 2.79171\n",
      "Epoch 11/20\n",
      " - 326s - loss: 2.6838 - val_loss: 2.7416\n",
      "\n",
      "Epoch 00011: val_loss improved from 2.79171 to 2.74161, saving model to /home/kal/K27act_models/convolution_model/20180706_125053_conv_fold/intermediate_weights/weights-2-11-2.742.hdf5\n",
      "Epoch 12/20\n",
      " - 329s - loss: 2.6762 - val_loss: 2.9148\n",
      "\n",
      "Epoch 00012: val_loss did not improve from 2.74161\n",
      "Epoch 13/20\n",
      " - 331s - loss: 2.6778 - val_loss: 2.8529\n",
      "\n",
      "Epoch 00013: val_loss did not improve from 2.74161\n",
      "Epoch 14/20\n",
      " - 332s - loss: 2.6924 - val_loss: 2.7539\n",
      "\n",
      "Epoch 00014: val_loss did not improve from 2.74161\n",
      "Epoch 15/20\n",
      " - 393s - loss: 2.6885 - val_loss: 2.7824\n",
      "\n",
      "Epoch 00015: val_loss did not improve from 2.74161\n",
      "Epoch 16/20\n",
      " - 449s - loss: 2.6755 - val_loss: 2.8236\n",
      "\n",
      "Epoch 00016: val_loss did not improve from 2.74161\n",
      "Epoch 17/20\n"
     ]
    }
   ],
   "source": [
    "from keras.optimizers import RMSprop, SGD, Adam\n",
    "\n",
    "opt_1 = Adam(beta_1=0.95, lr=0.0005, epsilon=.1)\n",
    "\n",
    "    \n",
    "    \n",
    "model.compile(optimizer=opt_1, loss='mean_squared_error') \n",
    "\n",
    "early_stop = EarlyStopping(monitor='val_loss', patience=100)\n",
    "filepath = os.path.join(weights_path, 'weights-1-{epoch:02d}-{val_loss:.3f}.hdf5')\n",
    "checkpoint = ModelCheckpoint(filepath, monitor='val_loss', verbose=1, save_best_only=True, mode='min')\n",
    "\n",
    "losses_1 = model.fit_generator(datagen.batch_gen(peaks, mode='train'), steps_per_epoch=num_training_samples//batch_size, \n",
    "                             epochs=20, callbacks=[early_stop, checkpoint], validation_data=datagen.batch_gen(peaks,mode='val'), \n",
    "                             validation_steps=num_validaiton_samples//batch_size, verbose=2)\n",
    "\n",
    "# drop learning rate\n",
    "opt_2 = Adam(beta_1=0.95, lr=0.00005, epsilon=.001)\n",
    "model.compile(optimizer=opt_2, loss='mean_squared_error') \n",
    "\n",
    "filepath = os.path.join(weights_path, 'weights-2-{epoch:02d}-{val_loss:.3f}.hdf5')\n",
    "checkpoint = ModelCheckpoint(filepath, monitor='val_loss', verbose=1, save_best_only=True, mode='min')\n",
    "\n",
    "losses_2 = model.fit_generator(datagen.batch_gen(peaks, mode='train'), steps_per_epoch=num_training_samples//batch_size, \n",
    "                             epochs=20, callbacks=[early_stop, checkpoint], validation_data=datagen.batch_gen(peaks,mode='val'), \n",
    "                             validation_steps=num_validaiton_samples//batch_size, verbose=2)\n",
    "\n",
    "\n",
    "# drop it again\n",
    "opt_3 = Adam(beta_1=0.95, lr=0.000005, epsilon=.00001)\n",
    "model.compile(optimizer=opt_3, loss='mean_squared_error') \n",
    "\n",
    "filepath = os.path.join(weights_path, 'weights-3-{epoch:02d}-{val_loss:.3f}.hdf5')\n",
    "checkpoint = ModelCheckpoint(filepath, monitor='val_loss', verbose=1, save_best_only=True, mode='min')\n",
    "\n",
    "losses_3 = model.fit_generator(datagen.batch_gen(peaks, mode='train'), steps_per_epoch=num_training_samples//batch_size, \n",
    "                             epochs=20, callbacks=[early_stop, checkpoint], validation_data=datagen.batch_gen(peaks,mode='val'), \n",
    "                             validation_steps=num_validaiton_samples//batch_size, verbose=2)\n"
   ]
  },
  {
   "cell_type": "code",
   "execution_count": null,
   "metadata": {
    "collapsed": false,
    "deletable": true,
    "editable": true
   },
   "outputs": [],
   "source": [
    "# final save\n",
    "model.save(os.path.join(out_path, 'final_model.h5'))"
   ]
  },
  {
   "cell_type": "code",
   "execution_count": null,
   "metadata": {
    "collapsed": false,
    "deletable": true,
    "editable": true
   },
   "outputs": [],
   "source": [
    "# look at loss\n",
    "val_hist = np.append(losses_1.history['val_loss'], losses_2.history['val_loss'])\n",
    "val_hist = np.append(val_hist, losses_3.history['val_loss'])\n",
    "train_hist = np.append(losses_1.history['loss'], losses_2.history['loss'])\n",
    "train_hist = np.append(train_hist, losses_3.history['loss'])\n",
    "\n",
    "\n",
    "plt.plot(val_hist, label='validation')\n",
    "plt.plot(train_hist, label='training')\n",
    "plt.title('Loss for training model')\n",
    "plt.xlabel('Epoch')\n",
    "plt.ylabel('Loss')\n",
    "plt.ylim((0, 30))\n",
    "plt.legend()\n",
    "plt.show()"
   ]
  },
  {
   "cell_type": "code",
   "execution_count": null,
   "metadata": {
    "collapsed": false,
    "scrolled": false
   },
   "outputs": [],
   "source": []
  },
  {
   "cell_type": "code",
   "execution_count": null,
   "metadata": {
    "collapsed": true
   },
   "outputs": [],
   "source": []
  }
 ],
 "metadata": {
  "kernelspec": {
   "display_name": "Python 3",
   "language": "python",
   "name": "python3"
  },
  "language_info": {
   "codemirror_mode": {
    "name": "ipython",
    "version": 3
   },
   "file_extension": ".py",
   "mimetype": "text/x-python",
   "name": "python",
   "nbconvert_exporter": "python",
   "pygments_lexer": "ipython3",
   "version": "3.5.2"
  }
 },
 "nbformat": 4,
 "nbformat_minor": 2
}
