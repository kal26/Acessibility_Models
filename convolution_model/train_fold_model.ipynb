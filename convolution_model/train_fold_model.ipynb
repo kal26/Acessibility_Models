{
 "cells": [
  {
   "cell_type": "raw",
   "metadata": {
    "deletable": true,
    "editable": true
   },
   "source": [
    "Train a more complex convolutional model to predict log fold change f K27act from sequence and atac"
   ]
  },
  {
   "cell_type": "code",
   "execution_count": 1,
   "metadata": {
    "collapsed": false,
    "deletable": true,
    "editable": true
   },
   "outputs": [
    {
     "name": "stderr",
     "output_type": "stream",
     "text": [
      "Using TensorFlow backend.\n",
      "/home/kal/TF_models/bin/sequence.py:275: RuntimeWarning: divide by zero encountered in log\n",
      "  self.seq = helper.softmax(np.log(dist))\n"
     ]
    }
   ],
   "source": [
    "import os\n",
    "import sys\n",
    "sys.path.append('/home/kal/TF_models/bin/')\n",
    "sys.path.append('/home/kal/K27act_models/convolution_model/')\n",
    "sys.path.append('/home/kal/K27act_models/cg_model/')\n",
    "sys.path.append('/home/thouis/basenji_embeddings')\n",
    "os.environ['CUDA_VISIBLE_DEVICES'] = '1'\n",
    "\n",
    "import tf_memory_limit\n",
    "from zinb import ZINB\n",
    "import seaborn as sns\n",
    "import h5py\n",
    "import matplotlib.pyplot as plt\n",
    "from keras.utils import plot_model\n",
    "\n",
    "import pandas as pd\n",
    "import numpy as np\n",
    "import itertools\n",
    "import sequence\n",
    "import ucscgenome\n",
    "from tqdm import tqdm\n",
    "import time\n",
    "import datagen\n",
    "\n",
    "from keras.models import Model\n",
    "from keras.layers import Input, Dense, SpatialDropout1D, Conv1D, Lambda, Dropout\n",
    "from keras.optimizers import RMSprop, SGD\n",
    "from keras.callbacks import EarlyStopping, TensorBoard, ModelCheckpoint\n",
    "from keras import backend as K\n",
    "import tensorflow as tf"
   ]
  },
  {
   "cell_type": "code",
   "execution_count": 2,
   "metadata": {
    "collapsed": false,
    "deletable": true,
    "editable": true
   },
   "outputs": [],
   "source": [
    "#load in the DNA\n",
    "genome = ucscgenome.Genome('/home/kal/.ucscgenome/hg19.2bit')"
   ]
  },
  {
   "cell_type": "code",
   "execution_count": 3,
   "metadata": {
    "collapsed": true,
    "deletable": true,
    "editable": true
   },
   "outputs": [],
   "source": [
    "# load in ATAC data\n",
    "atac_path = '/home/kal/K27act_models/GM_data/ATAC/atac_average.hdf5'\n",
    "atac = h5py.File(atac_path, 'r')"
   ]
  },
  {
   "cell_type": "code",
   "execution_count": 4,
   "metadata": {
    "collapsed": true,
    "deletable": true,
    "editable": true
   },
   "outputs": [],
   "source": [
    "# load in (semi) preprocessed data\n",
    "peaks_path = '/home/kal/K27act_models/GM_data/k27act_training_regions.bed'\n",
    "peaks = pd.read_table(peaks_path, header=None)\n",
    "peaks.columns='chr start end name score atac k27act nucs'.split()"
   ]
  },
  {
   "cell_type": "code",
   "execution_count": 15,
   "metadata": {
    "collapsed": false,
    "deletable": true,
    "editable": true
   },
   "outputs": [
    {
     "name": "stdout",
     "output_type": "stream",
     "text": [
      "140163 training samples\n",
      "3011 testing samples\n",
      "3011 validation samples\n"
     ]
    }
   ],
   "source": [
    "# facts about the data\n",
    "num_training_samples = len(peaks[(peaks.chr != 'chr8')])\n",
    "print('{} training samples'.format(num_training_samples))\n",
    "\n",
    "num_testing_samples = len(peaks[(peaks.chr == 'chr8') & (peaks.index%2 == 0)])\n",
    "print('{} testing samples'.format(num_testing_samples))\n",
    "\n",
    "num_validaiton_samples = len(peaks[(peaks.chr == 'chr8') & (peaks.index%2 == 1)])\n",
    "print('{} validation samples'.format(num_validaiton_samples))"
   ]
  },
  {
   "cell_type": "code",
   "execution_count": 16,
   "metadata": {
    "collapsed": true,
    "deletable": true,
    "editable": true
   },
   "outputs": [],
   "source": [
    "# directory stuff\n",
    "out_dir = '/home/kal/K27act_models/convolution_model/'\n",
    "timestr = time.strftime(\"%Y%m%d_%H%M%S\")\n",
    "out_path = os.path.join(out_dir, timestr + '_conv_fold')\n",
    "os.makedirs(out_path)\n",
    "# make a file system\n",
    "weights_path = os.path.join(out_path, 'intermediate_weights')\n",
    "os.makedirs(weights_path)\n",
    "history_path = os.path.join(out_path, 'history')\n",
    "os.makedirs(history_path)"
   ]
  },
  {
   "cell_type": "code",
   "execution_count": 17,
   "metadata": {
    "collapsed": false,
    "deletable": true,
    "editable": true
   },
   "outputs": [],
   "source": [
    "# MODEL\n",
    "batch_size=32\n",
    "seqs = Input(batch_shape=(batch_size, 1024, 5))\n",
    "\n",
    "def add_RC(x):\n",
    "    RC = K.concatenate([x[:, ::-1, :1], x[:, ::-1, 1:][::-1]], axis=2)\n",
    "    return K.concatenate([x, RC], axis=0)\n",
    "def add_RC_shape(s):\n",
    "    return 2*s[0], s[1], s[2]\n",
    "\n",
    "conv = Lambda(add_RC, name='add_rc', output_shape=add_RC_shape)(seqs)\n",
    "\n",
    "for k, n in [[32, 3], [32, 32], [16, 3], [8, 3]]:\n",
    "    conv = Conv1D(k, n)(conv)\n",
    "    conv = SpatialDropout1D(.05)(conv)\n",
    "\n",
    "out = Dense(16)(conv) \n",
    "out = Dropout(.1)(out)\n",
    "out = Dense(8)(out)\n",
    "out = Dropout(.1)(out)\n",
    "out = Dense(1)(out)\n",
    "\n",
    "def max_by_direction(x):\n",
    "    forward_max = K.max(x[:x.shape[0]//2, :, :], axis=1)\n",
    "    reverse_max = K.max(x[x.shape[0]//2:, ::-1, :], axis=1)\n",
    "    return K.maximum(forward_max, reverse_max)\n",
    "def max_by_direction_shape(s):\n",
    "    return s[0]//2, 1\n",
    "\n",
    "predictions = Lambda(max_by_direction, name='max_by_direciton', output_shape=max_by_direction_shape)(out)\n",
    "model = Model(inputs=seqs, outputs=predictions)\n",
    "\n",
    "#plot model\n",
    "plot_model(model, to_file=os.path.join(out_path, 'model.png'))"
   ]
  },
  {
   "cell_type": "code",
   "execution_count": 18,
   "metadata": {
    "collapsed": false,
    "deletable": true,
    "editable": true
   },
   "outputs": [
    {
     "name": "stdout",
     "output_type": "stream",
     "text": [
      "Epoch 1/20\n",
      " - 257s - loss: 1464.0071 - val_loss: 33.7772\n",
      "\n",
      "Epoch 00001: val_loss improved from inf to 33.77716, saving model to /home/kal/K27act_models/convolution_model/20180628_162107_conv_fold/intermediate_weights/weights-01-33.777.hdf5\n",
      "Epoch 2/20\n",
      " - 258s - loss: 26.5953 - val_loss: 21.2864\n",
      "\n",
      "Epoch 00002: val_loss improved from 33.77716 to 21.28641, saving model to /home/kal/K27act_models/convolution_model/20180628_162107_conv_fold/intermediate_weights/weights-02-21.286.hdf5\n",
      "Epoch 3/20\n",
      " - 263s - loss: 20.2695 - val_loss: 21.3325\n",
      "\n",
      "Epoch 00003: val_loss did not improve from 21.28641\n",
      "Epoch 4/20\n",
      " - 259s - loss: 30.0829 - val_loss: 17.3157\n",
      "\n",
      "Epoch 00004: val_loss improved from 21.28641 to 17.31574, saving model to /home/kal/K27act_models/convolution_model/20180628_162107_conv_fold/intermediate_weights/weights-04-17.316.hdf5\n",
      "Epoch 5/20\n",
      " - 257s - loss: 15.0108 - val_loss: 12.2153\n",
      "\n",
      "Epoch 00005: val_loss improved from 17.31574 to 12.21530, saving model to /home/kal/K27act_models/convolution_model/20180628_162107_conv_fold/intermediate_weights/weights-05-12.215.hdf5\n",
      "Epoch 6/20\n",
      " - 257s - loss: 13.4807 - val_loss: 12.0714\n",
      "\n",
      "Epoch 00006: val_loss improved from 12.21530 to 12.07143, saving model to /home/kal/K27act_models/convolution_model/20180628_162107_conv_fold/intermediate_weights/weights-06-12.071.hdf5\n",
      "Epoch 7/20\n",
      " - 258s - loss: 13.0283 - val_loss: 9.8495\n",
      "\n",
      "Epoch 00007: val_loss improved from 12.07143 to 9.84954, saving model to /home/kal/K27act_models/convolution_model/20180628_162107_conv_fold/intermediate_weights/weights-07-9.850.hdf5\n",
      "Epoch 8/20\n",
      " - 259s - loss: 15.5062 - val_loss: 9.5084\n",
      "\n",
      "Epoch 00008: val_loss improved from 9.84954 to 9.50839, saving model to /home/kal/K27act_models/convolution_model/20180628_162107_conv_fold/intermediate_weights/weights-08-9.508.hdf5\n",
      "Epoch 9/20\n",
      " - 258s - loss: 9.6110 - val_loss: 8.6477\n",
      "\n",
      "Epoch 00009: val_loss improved from 9.50839 to 8.64773, saving model to /home/kal/K27act_models/convolution_model/20180628_162107_conv_fold/intermediate_weights/weights-09-8.648.hdf5\n",
      "Epoch 10/20\n",
      " - 259s - loss: 10.1658 - val_loss: 8.0648\n",
      "\n",
      "Epoch 00010: val_loss improved from 8.64773 to 8.06477, saving model to /home/kal/K27act_models/convolution_model/20180628_162107_conv_fold/intermediate_weights/weights-10-8.065.hdf5\n",
      "Epoch 11/20\n",
      " - 258s - loss: 8.5049 - val_loss: 8.3599\n",
      "\n",
      "Epoch 00011: val_loss did not improve from 8.06477\n",
      "Epoch 12/20\n",
      " - 260s - loss: 16.6857 - val_loss: 6.3782\n",
      "\n",
      "Epoch 00012: val_loss improved from 8.06477 to 6.37817, saving model to /home/kal/K27act_models/convolution_model/20180628_162107_conv_fold/intermediate_weights/weights-12-6.378.hdf5\n",
      "Epoch 13/20\n",
      " - 259s - loss: 6.6336 - val_loss: 6.4227\n",
      "\n",
      "Epoch 00013: val_loss did not improve from 6.37817\n",
      "Epoch 14/20\n",
      " - 259s - loss: 6.9175 - val_loss: 5.5875\n",
      "\n",
      "Epoch 00014: val_loss improved from 6.37817 to 5.58746, saving model to /home/kal/K27act_models/convolution_model/20180628_162107_conv_fold/intermediate_weights/weights-14-5.587.hdf5\n",
      "Epoch 15/20\n",
      " - 261s - loss: 6.3261 - val_loss: 5.3117\n",
      "\n",
      "Epoch 00015: val_loss improved from 5.58746 to 5.31174, saving model to /home/kal/K27act_models/convolution_model/20180628_162107_conv_fold/intermediate_weights/weights-15-5.312.hdf5\n",
      "Epoch 16/20\n",
      " - 260s - loss: 5.6343 - val_loss: 5.2867\n",
      "\n",
      "Epoch 00016: val_loss improved from 5.31174 to 5.28671, saving model to /home/kal/K27act_models/convolution_model/20180628_162107_conv_fold/intermediate_weights/weights-16-5.287.hdf5\n",
      "Epoch 17/20\n",
      " - 261s - loss: 4.4355 - val_loss: 5.1638\n",
      "\n",
      "Epoch 00017: val_loss improved from 5.28671 to 5.16381, saving model to /home/kal/K27act_models/convolution_model/20180628_162107_conv_fold/intermediate_weights/weights-17-5.164.hdf5\n",
      "Epoch 18/20\n",
      " - 260s - loss: 3.7920 - val_loss: 4.8492\n",
      "\n",
      "Epoch 00018: val_loss improved from 5.16381 to 4.84916, saving model to /home/kal/K27act_models/convolution_model/20180628_162107_conv_fold/intermediate_weights/weights-18-4.849.hdf5\n",
      "Epoch 19/20\n",
      " - 260s - loss: 4.3026 - val_loss: 4.3285\n",
      "\n",
      "Epoch 00019: val_loss improved from 4.84916 to 4.32848, saving model to /home/kal/K27act_models/convolution_model/20180628_162107_conv_fold/intermediate_weights/weights-19-4.328.hdf5\n",
      "Epoch 20/20\n",
      " - 262s - loss: 6.1746 - val_loss: 4.7861\n",
      "\n",
      "Epoch 00020: val_loss did not improve from 4.32848\n"
     ]
    }
   ],
   "source": [
    "from keras.optimizers import RMSprop, SGD, Adam\n",
    "\n",
    "opt = RMSprop(lr=1e-5)\n",
    "model.compile(optimizer=opt, loss='mean_squared_error') \n",
    "\n",
    "early_stop = EarlyStopping(monitor='val_loss', patience=100)\n",
    "filepath = os.path.join(weights_path, 'weights-{epoch:02d}-{val_loss:.3f}.hdf5')\n",
    "checkpoint = ModelCheckpoint(filepath, monitor='val_loss', verbose=1, save_best_only=True, mode='min')\n",
    "\n",
    "losses = model.fit_generator(datagen.batch_gen(peaks, mode='train'), steps_per_epoch=num_training_samples//batch_size, \n",
    "                             epochs=20, callbacks=[early_stop, checkpoint], validation_data=datagen.batch_gen(peaks,mode='val'), \n",
    "                             validation_steps=num_validaiton_samples//batch_size, verbose=2)\n",
    "\n",
    "\n",
    "val_hist = losses.history['val_loss']\n",
    "train_hist = losses.history['loss']"
   ]
  },
  {
   "cell_type": "code",
   "execution_count": 20,
   "metadata": {
    "collapsed": false,
    "deletable": true,
    "editable": true
   },
   "outputs": [],
   "source": [
    "# final save\n",
    "model.save(os.path.join(out_path, 'final_model.h5'))"
   ]
  },
  {
   "cell_type": "code",
   "execution_count": null,
   "metadata": {
    "collapsed": true,
    "deletable": true,
    "editable": true
   },
   "outputs": [],
   "source": []
  }
 ],
 "metadata": {
  "kernelspec": {
   "display_name": "Python 3",
   "language": "python",
   "name": "python3"
  },
  "language_info": {
   "codemirror_mode": {
    "name": "ipython",
    "version": 3
   },
   "file_extension": ".py",
   "mimetype": "text/x-python",
   "name": "python",
   "nbconvert_exporter": "python",
   "pygments_lexer": "ipython3",
   "version": "3.5.2"
  }
 },
 "nbformat": 4,
 "nbformat_minor": 2
}
