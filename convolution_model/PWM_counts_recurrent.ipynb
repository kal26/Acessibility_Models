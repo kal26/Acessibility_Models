{
 "cells": [
  {
   "cell_type": "raw",
   "metadata": {
    "deletable": true,
    "editable": true
   },
   "source": [
    "Train a model with only one convolution that integrate across the seuqence with a recurent layer"
   ]
  },
  {
   "cell_type": "code",
   "execution_count": 8,
   "metadata": {
    "collapsed": false,
    "deletable": true,
    "editable": true
   },
   "outputs": [],
   "source": [
    "import change_path\n",
    "import os\n",
    "os.environ['CUDA_VISIBLE_DEVICES'] = '1'\n",
    "\n",
    "import tf_memory_limit\n",
    "from zinb import ZINB\n",
    "import seaborn as sns\n",
    "import h5py\n",
    "import matplotlib.pyplot as plt\n",
    "from keras.utils import plot_model\n",
    "\n",
    "import pandas as pd\n",
    "import numpy as np\n",
    "import itertools\n",
    "import sequence\n",
    "import ucscgenome\n",
    "from tqdm import tqdm\n",
    "import time\n",
    "import datagen\n",
    "import sequence\n",
    "import helper\n",
    "import viz_sequence\n",
    "import pickle\n",
    "\n",
    "from keras.models import Model, load_model\n",
    "from keras.layers import Input, SpatialDropout1D, Conv1D, Lambda, Dropout, Activation, Bidirectional, LSTM, Dense\n",
    "from keras.optimizers import RMSprop, SGD\n",
    "from keras.callbacks import EarlyStopping, TensorBoard, ModelCheckpoint\n",
    "from keras import backend as K\n",
    "import tensorflow as tf\n",
    "\n",
    "\n",
    "import matplotlib as mpl\n",
    "mpl.rcParams.update(mpl.rcParamsDefault)"
   ]
  },
  {
   "cell_type": "code",
   "execution_count": 2,
   "metadata": {
    "collapsed": false,
    "deletable": true,
    "editable": true
   },
   "outputs": [
    {
     "name": "stdout",
     "output_type": "stream",
     "text": [
      "160363 training samples\n",
      "3413 testing samples\n",
      "3414 validation samples\n"
     ]
    }
   ],
   "source": [
    "#load in the DNA\n",
    "genome = ucscgenome.Genome('/home/kal/.ucscgenome/hg19.2bit')\n",
    "\n",
    "# load in ATAC data\n",
    "atac_path = '/home/kal/K27act_models/GM_data/ATAC/atac_average.hdf5'\n",
    "atac = h5py.File(atac_path, 'r')\n",
    "\n",
    "# load in preprocessed data\n",
    "peaks_path = '/home/kal/K27act_models/GM_data/k27act_training_regions.bed'\n",
    "peaks = pd.read_table(peaks_path, header=None)\n",
    "#note we make the 'k27act' column the 'score' column for the correct training behavior\n",
    "peaks.columns='chr start end name fold_change atac k27act nucs'.split() \n",
    "peaks['score'] = np.log(peaks['k27act'] + 1)\n",
    "\n",
    "# facts about the data\n",
    "num_training_samples = len(peaks[(peaks.chr != 'chr8')])\n",
    "print('{} training samples'.format(num_training_samples))\n",
    "num_testing_samples = len(peaks[(peaks.chr == 'chr8') & (peaks.index%2 == 0)])\n",
    "print('{} testing samples'.format(num_testing_samples))\n",
    "num_validaiton_samples = len(peaks[(peaks.chr == 'chr8') & (peaks.index%2 == 1)])\n",
    "print('{} validation samples'.format(num_validaiton_samples))"
   ]
  },
  {
   "cell_type": "code",
   "execution_count": 3,
   "metadata": {
    "collapsed": false,
    "deletable": true,
    "editable": true
   },
   "outputs": [
    {
     "data": {
      "image/png": "[encoded data removed]",
      "text/plain": [
       "<matplotlib.figure.Figure at 0x7f822a7999e8>"
      ]
     },
     "metadata": {},
     "output_type": "display_data"
    }
   ],
   "source": [
    "plt.hist(peaks['score'], bins=50)\n",
    "plt.title('Score Distributions for ML training(log K27act)')\n",
    "plt.ylabel('Number of samples')\n",
    "plt.xlabel('Log(K27act + 1)')\n",
    "plt.show()"
   ]
  },
  {
   "cell_type": "code",
   "execution_count": 4,
   "metadata": {
    "collapsed": false,
    "deletable": true,
    "editable": true
   },
   "outputs": [
    {
     "name": "stdout",
     "output_type": "stream",
     "text": [
      "/home/kal/K27act_models/convolution_model/20180712_104235_counts_pwm_recurrent\n"
     ]
    }
   ],
   "source": [
    "# directory stuff\n",
    "out_dir = '/home/kal/K27act_models/convolution_model/'\n",
    "timestr = time.strftime(\"%Y%m%d_%H%M%S\")\n",
    "out_path = os.path.join(out_dir, timestr + '_counts_pwm_recurrent')\n",
    "os.makedirs(out_path)\n",
    "# make a file system\n",
    "weights_path = os.path.join(out_path, 'intermediate_weights')\n",
    "os.makedirs(weights_path)\n",
    "history_path = os.path.join(out_path, 'history')\n",
    "os.makedirs(history_path)\n",
    "\n",
    "print(out_path)"
   ]
  },
  {
   "cell_type": "code",
   "execution_count": 11,
   "metadata": {
    "collapsed": false,
    "deletable": true,
    "editable": true
   },
   "outputs": [
    {
     "name": "stdout",
     "output_type": "stream",
     "text": [
      "_________________________________________________________________\n",
      "Layer (type)                 Output Shape              Param #   \n",
      "=================================================================\n",
      "input_seqs (InputLayer)      (32, 1024, 5)             0         \n",
      "_________________________________________________________________\n",
      "recurrent (Bidirectional)    (32, 256)                 137216    \n",
      "_________________________________________________________________\n",
      "dropout_4 (Dropout)          (32, 256)                 0         \n",
      "_________________________________________________________________\n",
      "dense_3 (Dense)              (32, 1)                   257       \n",
      "=================================================================\n",
      "Total params: 137,473\n",
      "Trainable params: 137,473\n",
      "Non-trainable params: 0\n",
      "_________________________________________________________________\n"
     ]
    }
   ],
   "source": [
    "# model's input\n",
    "batch_size=32\n",
    "seqs = Input(batch_shape=(batch_size, 1024, 5), name='input_seqs')\n",
    "num_outputs=1\n",
    "\n",
    "# do a single recurent bidirectional layer\n",
    "reccur = Bidirectional(LSTM(128, activation='relu'), name='recurrent', merge_mode='concat')(seqs)\n",
    "\n",
    "dropped = Dropout(0.1)(reccur)\n",
    "#dense layer to get an output\n",
    "predictions = Dense(num_outputs, activation='relu')(dropped)\n",
    "\n",
    "# build the model\n",
    "model = Model(inputs=seqs, outputs=predictions)\n",
    "\n",
    "model.summary()"
   ]
  },
  {
   "cell_type": "code",
   "execution_count": null,
   "metadata": {
    "collapsed": false,
    "deletable": true,
    "editable": true
   },
   "outputs": [
    {
     "name": "stdout",
     "output_type": "stream",
     "text": [
      "Epoch 1/5\n"
     ]
    }
   ],
   "source": [
    "from keras.optimizers import RMSprop, SGD, Adam\n",
    "\n",
    "opt = Adam(lr=1e-04)\n",
    "model.compile(optimizer=opt, loss='mean_absolute_error') \n",
    "\n",
    "early_stop = EarlyStopping(monitor='val_loss', patience=100)\n",
    "filepath = os.path.join(weights_path, 'weights-1-{epoch:02d}-{val_loss:.3f}.hdf5')\n",
    "checkpoint = ModelCheckpoint(filepath, monitor='val_loss', verbose=1, save_best_only=True, mode='min')\n",
    "\n",
    "losses = model.fit_generator(datagen.batch_gen(peaks, mode='train'), \n",
    "                             steps_per_epoch=num_training_samples//batch_size, \n",
    "                             epochs=5, callbacks=[early_stop, checkpoint], \n",
    "                             validation_data=datagen.batch_gen(peaks, mode='val'), \n",
    "                             validation_steps=num_validaiton_samples//batch_size, verbose=2)\n",
    "val_hist = losses.history['val_loss']\n",
    "train_hist = losses.history['loss']\n",
    "\n",
    "# drop learning rate\n",
    "opt = Adam(lr=1e-05)\n",
    "model.compile(optimizer=opt, loss='mean_absolute_error') \n",
    "filepath = os.path.join(weights_path, 'weights-2-{epoch:02d}-{val_loss:.3f}.hdf5')\n",
    "checkpoint = ModelCheckpoint(filepath, monitor='val_loss', verbose=1, save_best_only=True, mode='min')\n",
    "\n",
    "losses = model.fit_generator(datagen.batch_gen(peaks, mode='train'), \n",
    "                             steps_per_epoch=num_training_samples//batch_size, \n",
    "                             epochs=5, callbacks=[early_stop, checkpoint], \n",
    "                             validation_data=datagen.batch_gen(peaks, mode='val'), \n",
    "                             validation_steps=num_validaiton_samples//batch_size, verbose=2)\n",
    "\n",
    "[val_hist.append(l) for l in losses.history['val_loss']]\n",
    "[train_hist.append(l) for l in losses.history['loss']]"
   ]
  },
  {
   "cell_type": "code",
   "execution_count": null,
   "metadata": {
    "collapsed": true
   },
   "outputs": [],
   "source": [
    "# look at loss\n",
    "plt.plot(val_hist, label='validation')\n",
    "plt.plot(train_hist[1:], label='training')\n",
    "plt.title('Loss for training model')\n",
    "plt.xlabel('Epoch')\n",
    "plt.ylabel('Loss')\n",
    "plt.legend()\n",
    "plt.show()"
   ]
  },
  {
   "cell_type": "code",
   "execution_count": null,
   "metadata": {
    "collapsed": false,
    "deletable": true,
    "editable": true
   },
   "outputs": [],
   "source": [
    "# final save\n",
    "model.save(os.path.join(out_path, 'final_model.h5'))\n",
    "\n",
    "# write out history\n",
    "pickle.dump(losses.history, open(os.path.join(history_path, 'history.pk'), 'wb'))"
   ]
  },
  {
   "cell_type": "code",
   "execution_count": null,
   "metadata": {
    "collapsed": true,
    "deletable": true,
    "editable": true
   },
   "outputs": [],
   "source": []
  }
 ],
 "metadata": {
  "kernelspec": {
   "display_name": "Python 3",
   "language": "python",
   "name": "python3"
  },
  "language_info": {
   "codemirror_mode": {
    "name": "ipython",
    "version": 3
   },
   "file_extension": ".py",
   "mimetype": "text/x-python",
   "name": "python",
   "nbconvert_exporter": "python",
   "pygments_lexer": "ipython3",
   "version": "3.5.2"
  }
 },
 "nbformat": 4,
 "nbformat_minor": 2
}
