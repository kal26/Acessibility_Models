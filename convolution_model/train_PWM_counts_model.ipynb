{
 "cells": [
  {
   "cell_type": "raw",
   "metadata": {
    "deletable": true,
    "editable": true
   },
   "source": [
    "Train a convolutional model to predict counts of K27act from sequence and atac\n",
    "    just one convolution -- sort of like a pwm??"
   ]
  },
  {
   "cell_type": "code",
   "execution_count": 13,
   "metadata": {
    "collapsed": false,
    "deletable": true,
    "editable": true
   },
   "outputs": [],
   "source": [
    "import os\n",
    "import sys\n",
    "sys.path.append('/home/kal/TF_models/bin/')\n",
    "sys.path.append('/home/kal/K27act_models/convolution_model/')\n",
    "sys.path.append('/home/kal/K27act_models/cg_model/')\n",
    "sys.path.append('/home/thouis/basenji_embeddings')\n",
    "os.environ['CUDA_VISIBLE_DEVICES'] = '0'\n",
    "\n",
    "import tf_memory_limit\n",
    "from zinb import ZINB\n",
    "import seaborn as sns\n",
    "import h5py\n",
    "import matplotlib.pyplot as plt\n",
    "from keras.utils import plot_model\n",
    "\n",
    "import pandas as pd\n",
    "import numpy as np\n",
    "import itertools\n",
    "import sequence\n",
    "import ucscgenome\n",
    "from tqdm import tqdm\n",
    "import time\n",
    "import datagen\n",
    "import sequence\n",
    "import helper\n",
    "import viz_sequence\n",
    "import pickle\n",
    "\n",
    "from keras.models import Model, load_model\n",
    "from keras.layers import Input, Dense, SpatialDropout1D, Conv1D, Lambda, Dropout\n",
    "from keras.optimizers import RMSprop, SGD\n",
    "from keras.callbacks import EarlyStopping, TensorBoard, ModelCheckpoint\n",
    "from keras import backend as K\n",
    "import tensorflow as tf\n",
    "\n",
    "import matplotlib as mpl\n",
    "mpl.rcParams.update(mpl.rcParamsDefault)"
   ]
  },
  {
   "cell_type": "code",
   "execution_count": 2,
   "metadata": {
    "collapsed": false,
    "deletable": true,
    "editable": true
   },
   "outputs": [],
   "source": [
    "#load in the DNA\n",
    "genome = ucscgenome.Genome('/home/kal/.ucscgenome/hg19.2bit')"
   ]
  },
  {
   "cell_type": "code",
   "execution_count": 3,
   "metadata": {
    "collapsed": true,
    "deletable": true,
    "editable": true
   },
   "outputs": [],
   "source": [
    "# load in ATAC data\n",
    "atac_path = '/home/kal/K27act_models/GM_data/ATAC/atac_average.hdf5'\n",
    "atac = h5py.File(atac_path, 'r')"
   ]
  },
  {
   "cell_type": "code",
   "execution_count": 4,
   "metadata": {
    "collapsed": false,
    "deletable": true,
    "editable": true
   },
   "outputs": [],
   "source": [
    "# load in preprocessed data\n",
    "peaks_path = '/home/kal/K27act_models/GM_data/k27act_training_regions.bed'\n",
    "peaks = pd.read_table(peaks_path, header=None)\n",
    "#note we make the 'k27act' column the 'score' column for the correct training behavior\n",
    "peaks.columns='chr start end name fold_change atac score nucs'.split() "
   ]
  },
  {
   "cell_type": "code",
   "execution_count": 5,
   "metadata": {
    "collapsed": false,
    "deletable": true,
    "editable": true
   },
   "outputs": [
    {
     "name": "stdout",
     "output_type": "stream",
     "text": [
      "160363 training samples\n",
      "3413 testing samples\n",
      "3414 validation samples\n"
     ]
    }
   ],
   "source": [
    "# facts about the data\n",
    "num_training_samples = len(peaks[(peaks.chr != 'chr8')])\n",
    "print('{} training samples'.format(num_training_samples))\n",
    "\n",
    "num_testing_samples = len(peaks[(peaks.chr == 'chr8') & (peaks.index%2 == 0)])\n",
    "print('{} testing samples'.format(num_testing_samples))\n",
    "\n",
    "num_validaiton_samples = len(peaks[(peaks.chr == 'chr8') & (peaks.index%2 == 1)])\n",
    "print('{} validation samples'.format(num_validaiton_samples))"
   ]
  },
  {
   "cell_type": "code",
   "execution_count": 17,
   "metadata": {
    "collapsed": true,
    "deletable": true,
    "editable": true
   },
   "outputs": [],
   "source": [
    "# directory stuff\n",
    "out_dir = '/home/kal/K27act_models/convolution_model/'\n",
    "timestr = time.strftime(\"%Y%m%d_%H%M%S\")\n",
    "out_path = os.path.join(out_dir, timestr + '_counts_pwm')\n",
    "os.makedirs(out_path)\n",
    "# make a file system\n",
    "weights_path = os.path.join(out_path, 'intermediate_weights')\n",
    "os.makedirs(weights_path)\n",
    "history_path = os.path.join(out_path, 'history')\n",
    "os.makedirs(history_path)"
   ]
  },
  {
   "cell_type": "code",
   "execution_count": 18,
   "metadata": {
    "collapsed": false,
    "deletable": true,
    "editable": true,
    "scrolled": false
   },
   "outputs": [],
   "source": [
    "# model's input\n",
    "batch_size=32\n",
    "seqs = Input(batch_shape=(batch_size, 1024, 5))\n",
    "num_outputs=1\n",
    "\n",
    "#build the model\n",
    "def add_RC(x):\n",
    "    RC = K.concatenate([x[:, ::-1, :1], x[:, ::-1, 1:][::-1]], axis=2)\n",
    "    return K.concatenate([x, RC], axis=0)\n",
    "def add_RC_shape(s):\n",
    "    return 2*s[0], s[1], s[2]\n",
    "\n",
    "add_rc = Lambda(add_RC, name='add_rc', output_shape=add_RC_shape)\n",
    "conv = Conv1D(500, 32, name='conv_in')\n",
    "dense = Dense(num_outputs)\n",
    "\n",
    "def max_by_direction(x):\n",
    "    forward_max = K.max(x[:x.shape[0]//2, :, :], axis=1)\n",
    "    reverse_max = K.max(x[x.shape[0]//2:, ::-1, :], axis=1)\n",
    "    return K.maximum(forward_max, reverse_max)\n",
    "def max_by_direction_shape(s):\n",
    "    return s[0]//2, 1\n",
    "\n",
    "wide_scan = Conv1D(1, 128, use_bias=False, kernel_initializer='ones', trainable=False, name='wide_scan', padding='valid')\n",
    "take_max = Lambda(max_by_direction, name='max_by_direciton', output_shape=max_by_direction_shape)\n",
    "\n",
    "predictions=take_max(wide_scan(dense(conv(add_rc(seqs)))))\n",
    "\n",
    "#pi_layer = Dense(num_outputs, activation='sigmoid', name='pi_dense')\n",
    "#pi_max = Lambda(max_by_direction, name='pi_max_by_direciton', output_shape=max_by_direction_shape)\n",
    "#pi_add_rc = Lambda(add_RC, name='pi_add_rc', output_shape=add_RC_shape)\n",
    "#pi = pi_max(pi_layer(pi_add_rc(seqs)))\n",
    "#zinb = ZINB(pi, theta_init=tf.zeros([1, num_outputs]))\n",
    "\n",
    "model = Model(inputs=seqs, outputs=predictions)\n",
    "\n",
    "#model.layers[-1].trainable_weights.extend([zinb.theta_variable,\n",
    "#                                           *pi_layer.trainable_weights])"
   ]
  },
  {
   "cell_type": "code",
   "execution_count": 19,
   "metadata": {
    "collapsed": false,
    "deletable": true,
    "editable": true
   },
   "outputs": [
    {
     "name": "stdout",
     "output_type": "stream",
     "text": [
      "_________________________________________________________________\n",
      "Layer (type)                 Output Shape              Param #   \n",
      "=================================================================\n",
      "input_2 (InputLayer)         (32, 1024, 5)             0         \n",
      "_________________________________________________________________\n",
      "add_rc (Lambda)              (64, 1024, 5)             0         \n",
      "_________________________________________________________________\n",
      "conv_in (Conv1D)             (64, 993, 500)            80500     \n",
      "_________________________________________________________________\n",
      "dense_2 (Dense)              (64, 993, 1)              501       \n",
      "_________________________________________________________________\n",
      "wide_scan (Conv1D)           (64, 866, 1)              128       \n",
      "_________________________________________________________________\n",
      "max_by_direciton (Lambda)    (32, 1)                   0         \n",
      "=================================================================\n",
      "Total params: 81,129\n",
      "Trainable params: 81,001\n",
      "Non-trainable params: 128\n",
      "_________________________________________________________________\n"
     ]
    }
   ],
   "source": [
    "model.summary()"
   ]
  },
  {
   "cell_type": "code",
   "execution_count": null,
   "metadata": {
    "collapsed": false,
    "deletable": true,
    "editable": true,
    "scrolled": false
   },
   "outputs": [
    {
     "name": "stdout",
     "output_type": "stream",
     "text": [
      "Epoch 1/20\n",
      " - 407s - loss: 148.8546 - val_loss: 20.4054\n",
      "\n",
      "Epoch 00001: val_loss improved from inf to 20.40536, saving model to /home/kal/K27act_models/convolution_model/20180706_162238_counts_pwm/intermediate_weights/weights-01-20.405.hdf5\n",
      "Epoch 2/20\n",
      " - 455s - loss: 84.3533 - val_loss: 72.7007\n",
      "\n",
      "Epoch 00002: val_loss did not improve from 20.40536\n",
      "Epoch 3/20\n"
     ]
    }
   ],
   "source": [
    "from keras.optimizers import RMSprop, SGD, Adam\n",
    "\n",
    "opt = RMSprop(lr=1e-5)\n",
    "model.compile(optimizer=opt, loss='mean_squared_error') \n",
    "\n",
    "early_stop = EarlyStopping(monitor='val_loss', patience=100)\n",
    "filepath = os.path.join(weights_path, 'weights-{epoch:02d}-{val_loss:.3f}.hdf5')\n",
    "checkpoint = ModelCheckpoint(filepath, monitor='val_loss', verbose=1, save_best_only=True, mode='min')\n",
    "\n",
    "losses = model.fit_generator(datagen.batch_gen(peaks, mode='train', log=True), \n",
    "                             steps_per_epoch=num_training_samples//batch_size, \n",
    "                             epochs=20, callbacks=[early_stop, checkpoint], \n",
    "                             validation_data=datagen.batch_gen(peaks, mode='val', log=True), \n",
    "                             validation_steps=num_validaiton_samples//batch_size, verbose=2)\n",
    "\n",
    "\n",
    "\n",
    "\n",
    "val_hist = losses.history['val_loss']\n",
    "train_hist = losses.history['loss']"
   ]
  },
  {
   "cell_type": "code",
   "execution_count": 10,
   "metadata": {
    "collapsed": false,
    "deletable": true,
    "editable": true
   },
   "outputs": [],
   "source": [
    "# final save\n",
    "model.save(os.path.join(out_path, 'final_model.h5'))"
   ]
  },
  {
   "cell_type": "code",
   "execution_count": 12,
   "metadata": {
    "collapsed": true
   },
   "outputs": [],
   "source": [
    "# write out history\n",
    "pickle.dump(losses.history, open(os.path.join(history_path, 'history.pk'), 'wb'))"
   ]
  },
  {
   "cell_type": "code",
   "execution_count": 16,
   "metadata": {
    "collapsed": false,
    "deletable": true,
    "editable": true
   },
   "outputs": [
    {
     "data": {
      "image/png": "[encoded data removed]",
      "text/plain": [
       "<matplotlib.figure.Figure at 0x7f9fb047c438>"
      ]
     },
     "metadata": {},
     "output_type": "display_data"
    }
   ],
   "source": [
    "# look at loss\n",
    "plt.plot(val_hist, label='validation')\n",
    "plt.plot(train_hist[1:], label='training')\n",
    "plt.title('Loss for training model')\n",
    "plt.xlabel('Epoch')\n",
    "plt.ylabel('Loss')\n",
    "plt.legend()\n",
    "plt.show()"
   ]
  },
  {
   "cell_type": "code",
   "execution_count": null,
   "metadata": {
    "collapsed": false,
    "deletable": true,
    "editable": true
   },
   "outputs": [],
   "source": [
    "# look at kernels\n",
    "model.summary()\n",
    "\n",
    "# make a highlight map\n",
    "from colour import Color\n",
    "\n",
    "#what layers do we have to work with?\n",
    "layer_dict = dict([(layer.name, layer) for layer in model.layers]) \n",
    "print(layer_dict.keys())\n",
    "this_layer='conv_in'\n",
    "\n",
    "# plot weights from first layer neurons\n",
    "#temp = .005\n",
    "weight_array = layer_dict[this_layer].get_weights()[0]\n",
    "#create highlight dict - with sane maxs and mins\n",
    "colors = list(Color(\"blue\").range_to(Color(\"white\"), 50))\n",
    "[colors.append(c) for c in (Color(\"white\").range_to(Color(\"red\"), 51))]\n",
    "top = np.amax(weight_array[:, 0, :])\n",
    "bottom = np.amin(weight_array[:, 0, :])\n",
    "    \n",
    "# got throught the kernels\n",
    "for idx in range(weight_array.shape[2]):\n",
    "    weight = weight_array[:,:,idx]\n",
    "    #get hightlights!\n",
    "    color_weights = [int((x-bottom)/(top-bottom)*100) for x in weight[:,0]]\n",
    "    highlight=dict()\n",
    "    for i in range(len(weight)):\n",
    "        w = color_weights[i]\n",
    "        highlight[(colors[w].rgb[0],colors[w].rgb[1], colors[w].rgb[2], .3)] = [(i, i+1)]\n",
    "    #plot things out\n",
    "    kernel = sequence.Sequence(weight[:, 1:])\n",
    "    plt.figure(figsize=(20,2))\n",
    "    plt.title('ATAC weights and sequence for kernel {}'.format(idx))\n",
    "    plt.plot(weight[:,0])\n",
    "    plt.show()\n",
    "    viz_sequence.plot_weights(kernel.seq, highlight=highlight)\n"
   ]
  },
  {
   "cell_type": "code",
   "execution_count": null,
   "metadata": {
    "collapsed": true,
    "deletable": true,
    "editable": true
   },
   "outputs": [],
   "source": []
  }
 ],
 "metadata": {
  "kernelspec": {
   "display_name": "Python 3",
   "language": "python",
   "name": "python3"
  },
  "language_info": {
   "codemirror_mode": {
    "name": "ipython",
    "version": 3
   },
   "file_extension": ".py",
   "mimetype": "text/x-python",
   "name": "python",
   "nbconvert_exporter": "python",
   "pygments_lexer": "ipython3",
   "version": "3.5.2"
  }
 },
 "nbformat": 4,
 "nbformat_minor": 2
}
