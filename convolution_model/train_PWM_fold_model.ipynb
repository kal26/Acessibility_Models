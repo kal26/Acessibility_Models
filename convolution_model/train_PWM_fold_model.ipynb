{
 "cells": [
  {
   "cell_type": "raw",
   "metadata": {},
   "source": [
    "Train a convolutional model to predict log fold change f K27act from sequence and atac"
   ]
  },
  {
   "cell_type": "code",
   "execution_count": 32,
   "metadata": {
    "collapsed": false
   },
   "outputs": [],
   "source": [
    "import os\n",
    "import sys\n",
    "sys.path.append('/home/kal/TF_models/bin/')\n",
    "sys.path.append('/home/kal/K27act_models/convolution_model/')\n",
    "sys.path.append('/home/kal/K27act_models/cg_model/')\n",
    "sys.path.append('/home/thouis/basenji_embeddings')\n",
    "os.environ['CUDA_VISIBLE_DEVICES'] = '0'\n",
    "\n",
    "import tf_memory_limit\n",
    "from zinb import ZINB\n",
    "import seaborn as sns\n",
    "import h5py\n",
    "import matplotlib.pyplot as plt\n",
    "from keras.utils import plot_model\n",
    "\n",
    "import pandas as pd\n",
    "import numpy as np\n",
    "import itertools\n",
    "import sequence\n",
    "import helper\n",
    "import viz_sequence\n",
    "import ucscgenome\n",
    "from tqdm import tqdm\n",
    "import time\n",
    "import datagen\n",
    "import pickle\n",
    "\n",
    "from keras.models import Model\n",
    "from keras.layers import Input, Dense, SpatialDropout1D, Conv1D, Lambda\n",
    "from keras.optimizers import RMSprop, SGD\n",
    "from keras.callbacks import EarlyStopping, TensorBoard, ModelCheckpoint\n",
    "from keras import backend as K\n",
    "import tensorflow as tf\n",
    "\n",
    "import matplotlib as mpl\n",
    "mpl.rcParams.update(mpl.rcParamsDefault)"
   ]
  },
  {
   "cell_type": "code",
   "execution_count": 4,
   "metadata": {
    "collapsed": false
   },
   "outputs": [],
   "source": [
    "#load in the DNA\n",
    "genome = ucscgenome.Genome('/home/kal/.ucscgenome/hg19.2bit')"
   ]
  },
  {
   "cell_type": "code",
   "execution_count": 5,
   "metadata": {
    "collapsed": true
   },
   "outputs": [],
   "source": [
    "# load in ATAC data\n",
    "atac_path = '/home/kal/K27act_models/GM_data/ATAC/atac_average.hdf5'\n",
    "atac = h5py.File(atac_path, 'r')"
   ]
  },
  {
   "cell_type": "code",
   "execution_count": 8,
   "metadata": {
    "collapsed": false
   },
   "outputs": [],
   "source": [
    "# load in peaks data\n",
    "peaks_path = '/home/kal/K27act_models/GM_data/merged_annotated.bed'\n",
    "peaks = pd.read_table(peaks_path)\n",
    "peaks.columns='chr narrowstart narrowend name score atac k27act'.split()\n",
    "\n",
    "peaks['start'] = (peaks['narrowend'] + peaks['narrowstart'])//2 - 512\n",
    "peaks['end'] = (peaks['narrowend'] + peaks['narrowstart'])//2 + 512"
   ]
  },
  {
   "cell_type": "code",
   "execution_count": 9,
   "metadata": {
    "collapsed": false
   },
   "outputs": [
    {
     "name": "stderr",
     "output_type": "stream",
     "text": [
      "100%|██████████| 167190/167190 [00:41<00:00, 4061.95it/s]\n"
     ]
    }
   ],
   "source": [
    "# preproces the data\n",
    "for idx, row in tqdm(peaks.iterrows(), total=len(peaks)):\n",
    "    peaks.set_value(idx, 'nucs', genome[row.chr][row.start:row.end])\n",
    "    #mini.set_value(idx, 'coverage', atac[row.chr][row.start:row.end])\n",
    "    \n",
    "columns='chr start end name score atac k27act nucs'.split()\n",
    "peaks.to_csv('/home/kal/K27act_models/GM_data/k27act_training_regions.bed', columns=columns, header=None, index=False, sep='\\t')"
   ]
  },
  {
   "cell_type": "code",
   "execution_count": 10,
   "metadata": {
    "collapsed": true
   },
   "outputs": [],
   "source": [
    "# load in preprocessed data\n",
    "peaks_path = '/home/kal/K27act_models/GM_data/k27act_training_regions.bed'\n",
    "peaks = pd.read_table(peaks_path, header=None)\n",
    "peaks.columns='chr start end name score atac k27act nucs'.split()"
   ]
  },
  {
   "cell_type": "code",
   "execution_count": 11,
   "metadata": {
    "collapsed": false
   },
   "outputs": [
    {
     "name": "stdout",
     "output_type": "stream",
     "text": [
      "160363 training samples\n",
      "3413 testing samples\n",
      "3414 validation samples\n"
     ]
    }
   ],
   "source": [
    "# facts about the data\n",
    "num_training_samples = len(peaks[(peaks.chr != 'chr8')])\n",
    "print('{} training samples'.format(num_training_samples))\n",
    "\n",
    "num_testing_samples = len(peaks[(peaks.chr == 'chr8') & (peaks.index%2 == 0)])\n",
    "print('{} testing samples'.format(num_testing_samples))\n",
    "\n",
    "num_validaiton_samples = len(peaks[(peaks.chr == 'chr8') & (peaks.index%2 == 1)])\n",
    "print('{} validation samples'.format(num_validaiton_samples))"
   ]
  },
  {
   "cell_type": "code",
   "execution_count": 45,
   "metadata": {
    "collapsed": true
   },
   "outputs": [],
   "source": [
    "# directory stuff\n",
    "out_dir = '/home/kal/K27act_models/convolution_model/'\n",
    "timestr = time.strftime(\"%Y%m%d_%H%M%S\")\n",
    "out_path = os.path.join(out_dir, timestr + '_fold_pwm')\n",
    "os.makedirs(out_path)\n",
    "# make a file system\n",
    "weights_path = os.path.join(out_path, 'intermediate_weights')\n",
    "os.makedirs(weights_path)\n",
    "history_path = os.path.join(out_path, 'history')\n",
    "os.makedirs(history_path)"
   ]
  },
  {
   "cell_type": "code",
   "execution_count": 46,
   "metadata": {
    "collapsed": false
   },
   "outputs": [
    {
     "name": "stdout",
     "output_type": "stream",
     "text": [
      "_________________________________________________________________\n",
      "Layer (type)                 Output Shape              Param #   \n",
      "=================================================================\n",
      "input_4 (InputLayer)         (32, 1024, 5)             0         \n",
      "_________________________________________________________________\n",
      "add_rc (Lambda)              (64, 1024, 5)             0         \n",
      "_________________________________________________________________\n",
      "conv_in (Conv1D)             (64, 993, 128)            20608     \n",
      "_________________________________________________________________\n",
      "dense_4 (Dense)              (64, 993, 1)              129       \n",
      "_________________________________________________________________\n",
      "wide_scan (Conv1D)           (64, 866, 1)              128       \n",
      "_________________________________________________________________\n",
      "max_by_direciton (Lambda)    (32, 1)                   0         \n",
      "=================================================================\n",
      "Total params: 20,865\n",
      "Trainable params: 20,737\n",
      "Non-trainable params: 128\n",
      "_________________________________________________________________\n"
     ]
    }
   ],
   "source": [
    "# MODEL\n",
    "batch_size=32\n",
    "seqs = Input(batch_shape=(batch_size, 1024, 5))\n",
    "\n",
    "def add_RC(x):\n",
    "    RC = K.concatenate([x[:, ::-1, :1], x[:, ::-1, 1:][::-1]], axis=2)\n",
    "    return K.concatenate([x, RC], axis=0)\n",
    "def add_RC_shape(s):\n",
    "    return 2*s[0], s[1], s[2]\n",
    "\n",
    "rc = Lambda(add_RC, name='add_rc', output_shape=add_RC_shape)(seqs)\n",
    "conv = Conv1D(128, 32, name='conv_in')(rc)\n",
    "dense = Dense(1)(conv)\n",
    "\n",
    "def max_by_direction(x):\n",
    "    forward_max = K.max(x[:x.shape[0]//2, :, :], axis=1)\n",
    "    reverse_max = K.max(x[x.shape[0]//2:, ::-1, :], axis=1)\n",
    "    return K.maximum(forward_max, reverse_max)\n",
    "def max_by_direction_shape(s):\n",
    "    return s[0]//2, 1\n",
    "\n",
    "wide_scan = Conv1D(1, 128, use_bias=False, kernel_initializer='ones', trainable=False, name='wide_scan', padding='valid')\n",
    "predictions = Lambda(max_by_direction, name='max_by_direciton', output_shape=max_by_direction_shape)(wide_scan(dense))\n",
    "model = Model(inputs=seqs, outputs=predictions)\n",
    "\n",
    "#plot model\n",
    "plot_model(model, to_file=os.path.join(out_path, 'model.png'))\n",
    "model.summary()"
   ]
  },
  {
   "cell_type": "code",
   "execution_count": 47,
   "metadata": {
    "collapsed": false
   },
   "outputs": [
    {
     "name": "stdout",
     "output_type": "stream",
     "text": [
      "Epoch 1/20\n",
      " - 396s - loss: 339.7576 - val_loss: 191.6854\n",
      "\n",
      "Epoch 00001: val_loss improved from inf to 191.68539, saving model to /home/kal/K27act_models/convolution_model/20180709_153050_fold_pwm/intermediate_weights/weights-01-191.685.hdf5\n",
      "Epoch 2/20\n",
      " - 391s - loss: 150.3646 - val_loss: 66.9433\n",
      "\n",
      "Epoch 00002: val_loss improved from 191.68539 to 66.94328, saving model to /home/kal/K27act_models/convolution_model/20180709_153050_fold_pwm/intermediate_weights/weights-02-66.943.hdf5\n",
      "Epoch 3/20\n",
      " - 388s - loss: 69.7547 - val_loss: 28.3171\n",
      "\n",
      "Epoch 00003: val_loss improved from 66.94328 to 28.31707, saving model to /home/kal/K27act_models/convolution_model/20180709_153050_fold_pwm/intermediate_weights/weights-03-28.317.hdf5\n",
      "Epoch 4/20\n",
      " - 393s - loss: 59.9314 - val_loss: 24.8946\n",
      "\n",
      "Epoch 00004: val_loss improved from 28.31707 to 24.89461, saving model to /home/kal/K27act_models/convolution_model/20180709_153050_fold_pwm/intermediate_weights/weights-04-24.895.hdf5\n",
      "Epoch 5/20\n",
      " - 385s - loss: 50.0863 - val_loss: 28.9952\n",
      "\n",
      "Epoch 00005: val_loss did not improve from 24.89461\n",
      "Epoch 6/20\n",
      " - 384s - loss: 42.5824 - val_loss: 10.7525\n",
      "\n",
      "Epoch 00006: val_loss improved from 24.89461 to 10.75253, saving model to /home/kal/K27act_models/convolution_model/20180709_153050_fold_pwm/intermediate_weights/weights-06-10.753.hdf5\n",
      "Epoch 7/20\n",
      " - 388s - loss: 36.7694 - val_loss: 17.2865\n",
      "\n",
      "Epoch 00007: val_loss did not improve from 10.75253\n",
      "Epoch 8/20\n",
      " - 383s - loss: 26.9845 - val_loss: 23.7077\n",
      "\n",
      "Epoch 00008: val_loss did not improve from 10.75253\n",
      "Epoch 9/20\n",
      " - 384s - loss: 31.0313 - val_loss: 10.1839\n",
      "\n",
      "Epoch 00009: val_loss improved from 10.75253 to 10.18389, saving model to /home/kal/K27act_models/convolution_model/20180709_153050_fold_pwm/intermediate_weights/weights-09-10.184.hdf5\n",
      "Epoch 10/20\n",
      " - 386s - loss: 29.8313 - val_loss: 15.6376\n",
      "\n",
      "Epoch 00010: val_loss did not improve from 10.18389\n",
      "Epoch 11/20\n",
      " - 384s - loss: 31.8479 - val_loss: 10.9819\n",
      "\n",
      "Epoch 00011: val_loss did not improve from 10.18389\n",
      "Epoch 12/20\n",
      " - 384s - loss: 27.2023 - val_loss: 3.8017\n",
      "\n",
      "Epoch 00012: val_loss improved from 10.18389 to 3.80169, saving model to /home/kal/K27act_models/convolution_model/20180709_153050_fold_pwm/intermediate_weights/weights-12-3.802.hdf5\n",
      "Epoch 13/20\n",
      " - 387s - loss: 23.4907 - val_loss: 4.6026\n",
      "\n",
      "Epoch 00013: val_loss did not improve from 3.80169\n",
      "Epoch 14/20\n",
      " - 387s - loss: 28.0547 - val_loss: 15.8702\n",
      "\n",
      "Epoch 00014: val_loss did not improve from 3.80169\n",
      "Epoch 15/20\n",
      " - 388s - loss: 22.5996 - val_loss: 11.5010\n",
      "\n",
      "Epoch 00015: val_loss did not improve from 3.80169\n",
      "Epoch 16/20\n",
      " - 389s - loss: 35.4485 - val_loss: 3.3973\n",
      "\n",
      "Epoch 00016: val_loss improved from 3.80169 to 3.39729, saving model to /home/kal/K27act_models/convolution_model/20180709_153050_fold_pwm/intermediate_weights/weights-16-3.397.hdf5\n",
      "Epoch 17/20\n",
      " - 387s - loss: 28.5569 - val_loss: 3.9697\n",
      "\n",
      "Epoch 00017: val_loss did not improve from 3.39729\n",
      "Epoch 18/20\n",
      " - 382s - loss: 32.7515 - val_loss: 24.8754\n",
      "\n",
      "Epoch 00018: val_loss did not improve from 3.39729\n",
      "Epoch 19/20\n",
      " - 345s - loss: 18.3570 - val_loss: 2.9437\n",
      "\n",
      "Epoch 00019: val_loss improved from 3.39729 to 2.94373, saving model to /home/kal/K27act_models/convolution_model/20180709_153050_fold_pwm/intermediate_weights/weights-19-2.944.hdf5\n",
      "Epoch 20/20\n",
      " - 327s - loss: 23.9179 - val_loss: 3.2065\n",
      "\n",
      "Epoch 00020: val_loss did not improve from 2.94373\n"
     ]
    }
   ],
   "source": [
    "from keras.optimizers import RMSprop, SGD, Adam\n",
    "\n",
    "opt = RMSprop(lr=1e-5)\n",
    "model.compile(optimizer=opt, loss='mean_squared_error') \n",
    "\n",
    "early_stop = EarlyStopping(monitor='val_loss', patience=100)\n",
    "filepath = os.path.join(weights_path, 'weights-{epoch:02d}-{val_loss:.3f}.hdf5')\n",
    "checkpoint = ModelCheckpoint(filepath, monitor='val_loss', verbose=1, save_best_only=True, mode='min')\n",
    "\n",
    "losses = model.fit_generator(datagen.batch_gen(peaks, mode='train'), steps_per_epoch=num_training_samples//batch_size, \n",
    "                             epochs=20, callbacks=[early_stop, checkpoint], validation_data=datagen.batch_gen(peaks,mode='val'), \n",
    "                             validation_steps=num_validaiton_samples//batch_size, verbose=2)\n",
    "\n",
    "\n",
    "val_hist = losses.history['val_loss']\n",
    "train_hist = losses.history['loss']"
   ]
  },
  {
   "cell_type": "code",
   "execution_count": 48,
   "metadata": {
    "collapsed": false
   },
   "outputs": [],
   "source": [
    "# final save\n",
    "model.save(os.path.join(out_path, 'final_model.h5'))"
   ]
  },
  {
   "cell_type": "code",
   "execution_count": 49,
   "metadata": {
    "collapsed": false
   },
   "outputs": [],
   "source": [
    "# write out history\n",
    "pickle.dump(losses.history, open(os.path.join(history_path, 'history.pk'), 'wb'))"
   ]
  },
  {
   "cell_type": "code",
   "execution_count": 50,
   "metadata": {
    "collapsed": false
   },
   "outputs": [
    {
     "data": {
      "image/png": "[encoded data removed]",
      "text/plain": [
       "<matplotlib.figure.Figure at 0x7f2c4b4611d0>"
      ]
     },
     "metadata": {},
     "output_type": "display_data"
    }
   ],
   "source": [
    "# look at loss\n",
    "plt.plot(val_hist, label='validation')\n",
    "plt.plot(train_hist, label='training')\n",
    "plt.title('Loss for training model')\n",
    "plt.xlabel('Epoch')\n",
    "plt.ylabel('Loss')\n",
    "plt.legend()\n",
    "plt.show()"
   ]
  },
  {
   "cell_type": "code",
   "execution_count": null,
   "metadata": {
    "collapsed": false,
    "scrolled": false
   },
   "outputs": [],
   "source": [
    "# look at kernels\n",
    "\n",
    "# make a highlight map\n",
    "from colour import Color\n",
    "\n",
    "#what layers do we have to work with?\n",
    "layer_dict = dict([(layer.name, layer) for layer in model.layers]) \n",
    "print(layer_dict.keys())\n",
    "\n",
    "# plot weights from first layer neurons\n",
    "#temp = .005\n",
    "weight_array = layer_dict['conv_in'].get_weights()[0]\n",
    "#create highlight dict - with sane maxs and mins\n",
    "colors = list(Color(\"blue\").range_to(Color(\"white\"), 50))\n",
    "[colors.append(c) for c in (Color(\"white\").range_to(Color(\"red\"), 51))]\n",
    "top = np.amax(weight_array[:, 0, :])\n",
    "bottom = np.amin(weight_array[:, 0, :])\n",
    "    \n",
    "# got throught the kernels\n",
    "for idx in range(weight_array.shape[2]):\n",
    "    weight = weight_array[:,:,idx]\n",
    "    #get hightlights!\n",
    "    color_weights = [int((x-bottom)/(top-bottom)*100) for x in weight[:,0]]\n",
    "    highlight=dict()\n",
    "    for i in range(len(weight)):\n",
    "        w = color_weights[i]\n",
    "        highlight[(colors[w].rgb[0],colors[w].rgb[1], colors[w].rgb[2], .3)] = [(i, i+1)]\n",
    "    #plot things out\n",
    "    kernel = sequence.Sequence(weight[:, 1:])\n",
    "    plt.figure(figsize=(20,2))\n",
    "    plt.title('ATAC weights and sequence for kernel {}'.format(idx))\n",
    "    plt.plot(weight[:,0])\n",
    "    plt.show()\n",
    "    viz_sequence.plot_weights(kernel.seq, highlight=highlight)\n"
   ]
  },
  {
   "cell_type": "code",
   "execution_count": null,
   "metadata": {
    "collapsed": true
   },
   "outputs": [],
   "source": []
  }
 ],
 "metadata": {
  "kernelspec": {
   "display_name": "Python 3",
   "language": "python",
   "name": "python3"
  }
 },
 "nbformat": 4,
 "nbformat_minor": 2
}
