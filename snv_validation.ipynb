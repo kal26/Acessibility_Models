{
 "cells": [
  {
   "cell_type": "markdown",
   "metadata": {
    "deletable": true,
    "editable": true
   },
   "source": [
    "make enrichment plots for snvs!"
   ]
  },
  {
   "cell_type": "code",
   "execution_count": 1,
   "metadata": {
    "collapsed": false,
    "deletable": true,
    "editable": true
   },
   "outputs": [
    {
     "name": "stdout",
     "output_type": "stream",
     "text": [
      "['', '/usr/lib/python35.zip', '/usr/lib/python3.5', '/usr/lib/python3.5/plat-x86_64-linux-gnu', '/usr/lib/python3.5/lib-dynload', '/home/kal/VENV/lib/python3.5/site-packages/', '/home/kal/VENV/lib64/python3.5/site-packages/', '/home/kal/VENV/lib/python3.5/site-packages/IPython/extensions/', '/home/kal/K27act_models/bin/', '/home/kal/TF_models/bin/', '/home/kal/.ipython']\n"
     ]
    },
    {
     "name": "stderr",
     "output_type": "stream",
     "text": [
      "Using TensorFlow backend.\n",
      "/home/kal/TF_models/bin/sequence.py:275: RuntimeWarning: divide by zero encountered in log\n",
      "  self.seq = helper.softmax(np.log(dist))\n"
     ]
    }
   ],
   "source": [
    "import change_path\n",
    "import sequence\n",
    "import train_TFmodel\n",
    "import pandas as pd\n",
    "import numpy as np\n",
    "import matplotlib.pyplot as plt\n",
    "import ucscgenome\n",
    "from tqdm import tqdm\n",
    "import datagen\n",
    "\n",
    "from keras.models import load_model\n",
    "import pickle\n",
    "\n",
    "\n",
    "#load in the DNA\n",
    "genome19 = ucscgenome.Genome('/home/kal/.ucscgenome/hg19.2bit')\n",
    "genome38 = ucscgenome.Genome('/home/kal/.ucscgenome/hg38.2bit')"
   ]
  },
  {
   "cell_type": "code",
   "execution_count": null,
   "metadata": {
    "collapsed": false,
    "deletable": true,
    "editable": true
   },
   "outputs": [],
   "source": [
    "# get some datasets!\n",
    "ibd_c = pd.read_table('/home/kal/K27act_models/eqtl_data/IBD_credible_sets.csv')\n",
    "print(ibd_c.keys())\n",
    "\n",
    "ibd_c['near_gene'] = [d>0 for d in ibd_c['credible_nGene']]\n",
    "ibd_c.head()"
   ]
  },
  {
   "cell_type": "code",
   "execution_count": null,
   "metadata": {
    "collapsed": false,
    "deletable": true,
    "editable": true
   },
   "outputs": [],
   "source": [
    "# make label type enrichemnt plots\n",
    "# replicate previous posterior prob plots from the promotor label\n",
    "num_groups = 5\n",
    "split_column='Prob.lead'\n",
    "test_columns=['near_gene']\n",
    "dataset = ibd_c\n",
    "print(np.max(ibd_c[split_column]))\n",
    "print(np.min(ibd_c[split_column]))\n",
    "bins=[0, .05, .1, .25, .75, 1]\n",
    "for test_column in test_columns:\n",
    "    enrichment_data=list()\n",
    "    names=list()\n",
    "    for i in range(num_groups):\n",
    "        names.append('{:.2f}-{:.2f}'.format(bins[i], bins[i+1]))\n",
    "        subset = dataset[(dataset[split_column] >= bins[i]) & (dataset[split_column] < bins[i+1])]\n",
    "        enrichment_data.append(len(subset[(subset[test_column])])/len(subset))\n",
    "\n",
    "    plt.xticks(range(num_groups), names, rotation=45)\n",
    "    plt.title('{} enrichment for {}'.format(split_column, test_column))\n",
    "    plt.xlabel(test_column)\n",
    "    plt.ylabel('Enrichment (num samples/total num)')\n",
    "    plt.bar(range(num_groups), enrichment_data)\n",
    "    plt.show()"
   ]
  },
  {
   "cell_type": "code",
   "execution_count": null,
   "metadata": {
    "collapsed": false,
    "deletable": true,
    "editable": true
   },
   "outputs": [],
   "source": [
    "ibd_all = pd.read_table('/home/kal/K27act_models/eqtl_data/IBD_list_of_varients.csv')\n",
    "print(ibd_all.keys())\n",
    "ibd_all.head()"
   ]
  },
  {
   "cell_type": "code",
   "execution_count": null,
   "metadata": {
    "collapsed": false,
    "deletable": true,
    "editable": true
   },
   "outputs": [],
   "source": [
    "# make label type enrichemnt plots\n",
    "# replicate previous posterior prob plots from the promotor label\n",
    "num_groups = 5\n",
    "split_column='P_mean_95'\n",
    "test_columns=['Coding', 'TFBS', 'epigenetic']\n",
    "dataset = ibd_all\n",
    "bins=[0, .01, .05, .25, .75, 1]\n",
    "for test_column in test_columns:\n",
    "    enrichment_data=list()\n",
    "    names=list()\n",
    "    for i in range(num_groups):\n",
    "        names.append('{:.2f}-{:.2f}'.format(bins[i], bins[i+1]))\n",
    "        subset = dataset[(dataset[split_column] >= bins[i]) & (dataset[split_column] < bins[i+1])]\n",
    "        enrichment_data.append(len(subset[(subset[test_column] != 'False')])/len(subset))\n",
    "\n",
    "    plt.xticks(range(num_groups), names, rotation=45)\n",
    "    plt.title('{} enrichment for {}'.format(split_column, test_column))\n",
    "    plt.xlabel('Bins for {}'.format(split_column))\n",
    "    plt.ylabel('Enrichment (num samples/total num)')\n",
    "    plt.bar(range(num_groups), enrichment_data)\n",
    "    plt.show()"
   ]
  },
  {
   "cell_type": "code",
   "execution_count": 2,
   "metadata": {
    "collapsed": false,
    "deletable": true,
    "editable": true
   },
   "outputs": [
    {
     "name": "stdout",
     "output_type": "stream",
     "text": [
      "Index(['chr', 'position', 'variant_id', 'refAllele', 'altAllele', 'gene_id',\n",
      "       'variant', 'prob.in.set', 'PosteriorProb', 'gene_name',\n",
      "       'CredibleSetSize', 'CredibleSet', 'CredibleSetName',\n",
      "       'median.expression', 'missingness', 'mappability.k50', 'tss_distance',\n",
      "       'ma_samples', 'ma_count', 'maf', 'pval_nominal', 'slope', 'slope_se',\n",
      "       'eqtl_name'],\n",
      "      dtype='object')\n",
      "235686\n",
      "218779\n",
      "875\n"
     ]
    },
    {
     "data": {
      "text/html": [
       "<div>\n",
       "<table border=\"1\" class=\"dataframe\">\n",
       "  <thead>\n",
       "    <tr style=\"text-align: right;\">\n",
       "      <th></th>\n",
       "      <th>chr</th>\n",
       "      <th>position</th>\n",
       "      <th>variant_id</th>\n",
       "      <th>refAllele</th>\n",
       "      <th>altAllele</th>\n",
       "      <th>gene_id</th>\n",
       "      <th>variant</th>\n",
       "      <th>prob.in.set</th>\n",
       "      <th>PosteriorProb</th>\n",
       "      <th>gene_name</th>\n",
       "      <th>...</th>\n",
       "      <th>mappability.k50</th>\n",
       "      <th>tss_distance</th>\n",
       "      <th>ma_samples</th>\n",
       "      <th>ma_count</th>\n",
       "      <th>maf</th>\n",
       "      <th>pval_nominal</th>\n",
       "      <th>slope</th>\n",
       "      <th>slope_se</th>\n",
       "      <th>eqtl_name</th>\n",
       "      <th>100_tss</th>\n",
       "    </tr>\n",
       "  </thead>\n",
       "  <tbody>\n",
       "    <tr>\n",
       "      <th>0</th>\n",
       "      <td>chr10</td>\n",
       "      <td>102087037</td>\n",
       "      <td>chr10_100327281_T_C_b38</td>\n",
       "      <td>T</td>\n",
       "      <td>C</td>\n",
       "      <td>ENSG00000224934.2</td>\n",
       "      <td>102087038</td>\n",
       "      <td>0.019453</td>\n",
       "      <td>0.023665</td>\n",
       "      <td>RP11-441O15.3</td>\n",
       "      <td>...</td>\n",
       "      <td>1.0</td>\n",
       "      <td>896090</td>\n",
       "      <td>33</td>\n",
       "      <td>36</td>\n",
       "      <td>0.122449</td>\n",
       "      <td>0.000652</td>\n",
       "      <td>0.375461</td>\n",
       "      <td>0.107300</td>\n",
       "      <td>chr10:102087038:RP11-441O15.3</td>\n",
       "      <td>False</td>\n",
       "    </tr>\n",
       "    <tr>\n",
       "      <th>1</th>\n",
       "      <td>chr10</td>\n",
       "      <td>102087112</td>\n",
       "      <td>chr10_100327356_G_T_b38</td>\n",
       "      <td>G</td>\n",
       "      <td>T</td>\n",
       "      <td>ENSG00000224934.2</td>\n",
       "      <td>102087113</td>\n",
       "      <td>0.005739</td>\n",
       "      <td>0.006981</td>\n",
       "      <td>RP11-441O15.3</td>\n",
       "      <td>...</td>\n",
       "      <td>1.0</td>\n",
       "      <td>896165</td>\n",
       "      <td>52</td>\n",
       "      <td>58</td>\n",
       "      <td>0.197279</td>\n",
       "      <td>0.001981</td>\n",
       "      <td>-0.268628</td>\n",
       "      <td>0.084970</td>\n",
       "      <td>chr10:102087113:RP11-441O15.3</td>\n",
       "      <td>False</td>\n",
       "    </tr>\n",
       "    <tr>\n",
       "      <th>2</th>\n",
       "      <td>chr10</td>\n",
       "      <td>102103036</td>\n",
       "      <td>chr10_100343280_C_T_b38</td>\n",
       "      <td>C</td>\n",
       "      <td>T</td>\n",
       "      <td>ENSG00000119929.12</td>\n",
       "      <td>102103037</td>\n",
       "      <td>0.051836</td>\n",
       "      <td>0.047800</td>\n",
       "      <td>CUTC</td>\n",
       "      <td>...</td>\n",
       "      <td>1.0</td>\n",
       "      <td>620362</td>\n",
       "      <td>33</td>\n",
       "      <td>33</td>\n",
       "      <td>0.112245</td>\n",
       "      <td>0.000046</td>\n",
       "      <td>0.452428</td>\n",
       "      <td>0.107065</td>\n",
       "      <td>chr10:102103037:CUTC</td>\n",
       "      <td>False</td>\n",
       "    </tr>\n",
       "    <tr>\n",
       "      <th>3</th>\n",
       "      <td>chr10</td>\n",
       "      <td>102105629</td>\n",
       "      <td>chr10_100345873_T_C_b38</td>\n",
       "      <td>T</td>\n",
       "      <td>C</td>\n",
       "      <td>ENSG00000119929.12</td>\n",
       "      <td>102105630</td>\n",
       "      <td>0.441053</td>\n",
       "      <td>0.406717</td>\n",
       "      <td>CUTC</td>\n",
       "      <td>...</td>\n",
       "      <td>1.0</td>\n",
       "      <td>622955</td>\n",
       "      <td>32</td>\n",
       "      <td>32</td>\n",
       "      <td>0.108844</td>\n",
       "      <td>0.000003</td>\n",
       "      <td>0.502150</td>\n",
       "      <td>0.102816</td>\n",
       "      <td>chr10:102105630:CUTC</td>\n",
       "      <td>False</td>\n",
       "    </tr>\n",
       "    <tr>\n",
       "      <th>4</th>\n",
       "      <td>chr10</td>\n",
       "      <td>102127491</td>\n",
       "      <td>chr10_100367735_A_G_b38</td>\n",
       "      <td>A</td>\n",
       "      <td>G</td>\n",
       "      <td>ENSG00000119929.12</td>\n",
       "      <td>102127492</td>\n",
       "      <td>0.043166</td>\n",
       "      <td>0.039806</td>\n",
       "      <td>CUTC</td>\n",
       "      <td>...</td>\n",
       "      <td>1.0</td>\n",
       "      <td>644817</td>\n",
       "      <td>38</td>\n",
       "      <td>40</td>\n",
       "      <td>0.136054</td>\n",
       "      <td>0.000060</td>\n",
       "      <td>-0.380238</td>\n",
       "      <td>0.091461</td>\n",
       "      <td>chr10:102127492:CUTC</td>\n",
       "      <td>False</td>\n",
       "    </tr>\n",
       "  </tbody>\n",
       "</table>\n",
       "<p>5 rows × 25 columns</p>\n",
       "</div>"
      ],
      "text/plain": [
       "     chr   position               variant_id refAllele altAllele  \\\n",
       "0  chr10  102087037  chr10_100327281_T_C_b38         T         C   \n",
       "1  chr10  102087112  chr10_100327356_G_T_b38         G         T   \n",
       "2  chr10  102103036  chr10_100343280_C_T_b38         C         T   \n",
       "3  chr10  102105629  chr10_100345873_T_C_b38         T         C   \n",
       "4  chr10  102127491  chr10_100367735_A_G_b38         A         G   \n",
       "\n",
       "              gene_id    variant  prob.in.set  PosteriorProb      gene_name  \\\n",
       "0   ENSG00000224934.2  102087038     0.019453       0.023665  RP11-441O15.3   \n",
       "1   ENSG00000224934.2  102087113     0.005739       0.006981  RP11-441O15.3   \n",
       "2  ENSG00000119929.12  102103037     0.051836       0.047800           CUTC   \n",
       "3  ENSG00000119929.12  102105630     0.441053       0.406717           CUTC   \n",
       "4  ENSG00000119929.12  102127492     0.043166       0.039806           CUTC   \n",
       "\n",
       "    ...     mappability.k50 tss_distance ma_samples  ma_count       maf  \\\n",
       "0   ...                 1.0       896090         33        36  0.122449   \n",
       "1   ...                 1.0       896165         52        58  0.197279   \n",
       "2   ...                 1.0       620362         33        33  0.112245   \n",
       "3   ...                 1.0       622955         32        32  0.108844   \n",
       "4   ...                 1.0       644817         38        40  0.136054   \n",
       "\n",
       "   pval_nominal     slope  slope_se                      eqtl_name  100_tss  \n",
       "0      0.000652  0.375461  0.107300  chr10:102087038:RP11-441O15.3    False  \n",
       "1      0.001981 -0.268628  0.084970  chr10:102087113:RP11-441O15.3    False  \n",
       "2      0.000046  0.452428  0.107065           chr10:102103037:CUTC    False  \n",
       "3      0.000003  0.502150  0.102816           chr10:102105630:CUTC    False  \n",
       "4      0.000060 -0.380238  0.091461           chr10:102127492:CUTC    False  \n",
       "\n",
       "[5 rows x 25 columns]"
      ]
     },
     "execution_count": 2,
     "metadata": {},
     "output_type": "execute_result"
    }
   ],
   "source": [
    "# load in eqtl data\n",
    "\n",
    "# posterior prob bins (from joe)\n",
    "pp_bins = [0, .01, .05, .25, .75, 1]\n",
    "\n",
    "eqtl = pd.read_table('/home/kal/K27act_models/eqtl_data/Cells_EBV-transformed_lymphocytes.hg19.csv')\n",
    "print(eqtl.keys())\n",
    "eqtl['100_tss'] = [abs(d) <= 100 for d in eqtl['tss_distance']]\n",
    "print(len(eqtl))\n",
    "print(len(eqtl[eqtl['missingness'] < .02]))\n",
    "print(sum(eqtl['100_tss']))\n",
    "eqtl.head()"
   ]
  },
  {
   "cell_type": "code",
   "execution_count": 3,
   "metadata": {
    "collapsed": false,
    "deletable": true,
    "editable": true
   },
   "outputs": [
    {
     "data": {
      "image/png": "[encoded data removed]",
      "text/plain": [
       "<matplotlib.figure.Figure at 0x7f8dda680080>"
      ]
     },
     "metadata": {},
     "output_type": "display_data"
    }
   ],
   "source": [
    "# make label type enrichemnt plots\n",
    "\n",
    "# replicate previous posterior prob plots\n",
    "num_groups = 5\n",
    "split_column='PosteriorProb'\n",
    "dataset = eqtl\n",
    "bins=pp_bins\n",
    "    \n",
    "test_columns=['100_tss']\n",
    "for test_column in test_columns:\n",
    "    enrichment_data=list()\n",
    "    names=list()\n",
    "    for i in range(num_groups):\n",
    "        names.append('{:.2f}-{:.2f}'.format(bins[i], bins[i+1]))\n",
    "        subset = dataset[(dataset[split_column] >= bins[i]) & (dataset[split_column] < bins[i+1])]\n",
    "        enrichment_data.append(len(subset[(subset[test_column])])/len(subset))\n",
    "\n",
    "    plt.xticks(range(num_groups), names, rotation=45)\n",
    "    plt.title('{} enrichment for {}'.format(split_column, test_column))\n",
    "    plt.xlabel('Bins for {}'.format(split_column))\n",
    "    plt.ylabel('Enrichment (num samples/total num)')\n",
    "    plt.bar(range(num_groups), enrichment_data)\n",
    "    plt.show()"
   ]
  },
  {
   "cell_type": "code",
   "execution_count": 4,
   "metadata": {
    "collapsed": false,
    "deletable": true,
    "editable": true
   },
   "outputs": [],
   "source": [
    "# get some models! \n",
    "ml_models = {'sum_pwm':load_model('/home/kal/K27act_models/convolution_model/20180711_144600_counts_pwm_sum/final_model.h5')}"
   ]
  },
  {
   "cell_type": "code",
   "execution_count": 5,
   "metadata": {
    "collapsed": false,
    "deletable": true,
    "editable": true
   },
   "outputs": [],
   "source": [
    "def snv_gen(peaks, genome, alt=False, seq_length=1024):\n",
    "    \"\"\"Generate sequnces from snv data.\n",
    "    \n",
    "    Arguments:\n",
    "        peaks -- from a bed file.\n",
    "        genome -- to pull bed from.\n",
    "    Keywords:\n",
    "        alt -- give alternate allele version.\n",
    "    Returns:\n",
    "        seq -- sequence with the alternate or refernce allele, centered around the position. \"\"\"\n",
    "    for index, row in peaks.iterrows():\n",
    "        try:\n",
    "            seq = datagen.get_sample(row, genome=genome)[0]\n",
    "            if alt:\n",
    "                new_seq = np.insert(sequence.encode_to_onehot(row.altAllele.lower()), 0, seq[seq_length//2:seq_length//2+len(row.altAllele)][:,0], axis=1)\n",
    "                part_seq = np.append(seq[:seq_length//2], new_seq, axis=0)\n",
    "                seq = np.append(part_seq, seq[seq_length//2+len(row.refAllele):], axis=0) \n",
    "            else:\n",
    "                new_seq = np.insert(sequence.encode_to_onehot(row.refAllele.lower()), 0, seq[seq_length//2:seq_length//2+len(row.refAllele)][:,0], axis=1)\n",
    "                part_seq = np.append(seq[:seq_length//2], new_seq, axis=0)\n",
    "                seq = np.append(part_seq, seq[seq_length//2+len(row.refAllele):], axis=0)\n",
    "            if (row.refAllele).lower()[0] != (genome[row.chr][row.position]).lower():\n",
    "                print('Should be {}'.format(genome[row.chr][row.position].lower()))\n",
    "                print('Actually is {}'.format(row.refAllele.lower()))\n",
    "                print('Alternate is {}'.format(row.altAllele.lower()))\n",
    "                raise IndexError('Reference allele does not match reference genome')\n",
    "            yield seq\n",
    "        except IndentationError as e:\n",
    "            print(e)\n",
    "            print(row)\n",
    "        "
   ]
  },
  {
   "cell_type": "code",
   "execution_count": 18,
   "metadata": {
    "collapsed": true,
    "deletable": true,
    "editable": true
   },
   "outputs": [],
   "source": [
    "def predict_snv(model, peaks, genome=None, act=False, seq_length=1024):\n",
    "    \"\"\"Predict from a bed file with chr, position, refAllele, altAllele.\n",
    " \n",
    "    Arguments:\n",
    "        peaks -- the bed file in pd table form.\n",
    "    Keywords:\n",
    "        genome -- default is hg19.\n",
    "    Outputs:\n",
    "        refpreds -- predictions for each row with reference allele. \n",
    "        altpreds -- predictions for each row with alternate allele. \n",
    "    \"\"\"\n",
    "     # get the genome and bed file regions\n",
    "    if genome == None:\n",
    "        genome = ucscgenome.Genome('/home/kal/.ucscgenome/hg19.2bit')\n",
    "    # predict over the rows\n",
    "    refpreds = []\n",
    "    peaks['end'] = peaks['refend']\n",
    "    batchgen = train_TFmodel.filled_batch(snv_gen(peaks, genome, alt=False, seq_length=seq_length), fillvalue=np.zeros((seq_length, 5)))\n",
    "    for batch in batchgen:\n",
    "        if batch.shape == (32, seq_length, 5):\n",
    "            refpreds.append(model.predict_on_batch(batch))\n",
    "    refpreds = np.asarray(refpreds).flatten()[:len(peaks)]\n",
    "\n",
    "    altpreds = []\n",
    "    peaks['end'] = peaks['altend']\n",
    "    batchgen = train_TFmodel.filled_batch(snv_gen(peaks, genome, alt=True, seq_length=seq_length), fillvalue=np.zeros((seq_length, 5)))\n",
    "    for batch in batchgen:\n",
    "        if batch.shape == (32, seq_length, 5):\n",
    "            altpreds.append(model.predict_on_batch(batch))\n",
    "    altpreds = np.asarray(altpreds).flatten()[:len(peaks)]\n",
    "    return refpreds, altpreds\n"
   ]
  },
  {
   "cell_type": "code",
   "execution_count": 14,
   "metadata": {
    "collapsed": false,
    "deletable": true,
    "editable": true
   },
   "outputs": [
    {
     "data": {
      "text/plain": [
       "Index(['chr', 'position', 'variant_id', 'refAllele', 'altAllele', 'gene_id',\n",
       "       'variant', 'prob.in.set', 'PosteriorProb', 'gene_name',\n",
       "       'CredibleSetSize', 'CredibleSet', 'CredibleSetName',\n",
       "       'median.expression', 'missingness', 'mappability.k50', 'tss_distance',\n",
       "       'ma_samples', 'ma_count', 'maf', 'pval_nominal', 'slope', 'slope_se',\n",
       "       'eqtl_name', '100_tss', 'altend', 'start', 'refend', 'score'],\n",
       "      dtype='object')"
      ]
     },
     "execution_count": 14,
     "metadata": {},
     "output_type": "execute_result"
    }
   ],
   "source": [
    "# predictions at p values\n",
    "key='sum_pwm'\n",
    "model=ml_models[key]\n",
    "seq_length=1024\n",
    "dataset = eqtl.sample(1000)\n",
    "dividing_key='PosteriorProb'\n",
    "genome=genome19\n",
    "dataset.keys()"
   ]
  },
  {
   "cell_type": "code",
   "execution_count": 15,
   "metadata": {
    "collapsed": false,
    "deletable": true,
    "editable": true,
    "scrolled": true
   },
   "outputs": [
    {
     "name": "stderr",
     "output_type": "stream",
     "text": [
      "100%|██████████| 1000/1000 [00:00<00:00, 11228.38it/s]\n"
     ]
    }
   ],
   "source": [
    "# prepare for testing\n",
    "altend=list()\n",
    "for index, row in tqdm(dataset.iterrows(), total=len(dataset)):\n",
    "    if len(row.refAllele) == len(row.altAllele):\n",
    "        altend.append(row.position+seq_length//2)\n",
    "    else:\n",
    "        altend.append(row.position+seq_length//2 + len(row.refAllele) - len(row.altAllele))\n",
    "dataset['altend'] = altend\n",
    "dataset['start'] = dataset.position-seq_length//2\n",
    "dataset['refend'] = dataset.position+seq_length//2\n",
    "dataset['score'] = np.nan\n",
    "dataset['altend'] = dataset['altend'].astype(int)\n",
    "\n",
    "dataset = dataset[(dataset['refAllele'] !='D') & (dataset['refAllele'] !='I')]# I can't deal with deletions or insertions"
   ]
  },
  {
   "cell_type": "code",
   "execution_count": 30,
   "metadata": {
    "collapsed": false,
    "deletable": true,
    "editable": true
   },
   "outputs": [
    {
     "data": {
      "image/png": "[encoded data removed]",
      "text/plain": [
       "<matplotlib.figure.Figure at 0x7f8d488a5908>"
      ]
     },
     "metadata": {},
     "output_type": "display_data"
    }
   ],
   "source": [
    "# hexbin correlations\n",
    "r, a = predict_snv(model, dataset, genome)\n",
    "diff = r-a\n",
    "\n",
    "plt.scatter(dataset[dividing_key], diff, alpha=0.5)\n",
    "plt.title('{} model prediction difference vs {}'.format(key, dividing_key))\n",
    "plt.show()"
   ]
  },
  {
   "cell_type": "code",
   "execution_count": 26,
   "metadata": {
    "collapsed": false,
    "deletable": true,
    "editable": true
   },
   "outputs": [
    {
     "name": "stderr",
     "output_type": "stream",
     "text": [
      "/home/thouis/VENV/lib/python3.5/site-packages/ipykernel/__main__.py:17: SettingWithCopyWarning: \n",
      "A value is trying to be set on a copy of a slice from a DataFrame.\n",
      "Try using .loc[row_indexer,col_indexer] = value instead\n",
      "\n",
      "See the caveats in the documentation: http://pandas.pydata.org/pandas-docs/stable/indexing.html#indexing-view-versus-copy\n",
      "/home/thouis/VENV/lib/python3.5/site-packages/ipykernel/__main__.py:25: SettingWithCopyWarning: \n",
      "A value is trying to be set on a copy of a slice from a DataFrame.\n",
      "Try using .loc[row_indexer,col_indexer] = value instead\n",
      "\n",
      "See the caveats in the documentation: http://pandas.pydata.org/pandas-docs/stable/indexing.html#indexing-view-versus-copy\n"
     ]
    },
    {
     "name": "stdout",
     "output_type": "stream",
     "text": [
      "0.00-0.01: 477 total, 264 with difference\n",
      "0.01-0.05: 392 total, 217 with difference\n",
      "0.05-0.25: 112 total, 65 with difference\n",
      "0.25-0.75: 13 total, 7 with difference\n",
      "0.75-1.00: 5 total, 3 with difference\n"
     ]
    },
    {
     "data": {
      "image/png": "[encoded data removed]",
      "text/plain": [
       "<matplotlib.figure.Figure at 0x7f8d4e598630>"
      ]
     },
     "metadata": {},
     "output_type": "display_data"
    }
   ],
   "source": [
    "# make the chart\n",
    "num_groups = 5\n",
    "enrichment=[0]*num_groups\n",
    "name=list()\n",
    "bins=pp_bins\n",
    "min_diff = 0.005\n",
    "for i in range(num_groups):\n",
    "    subset = dataset[(dataset[dividing_key] >= bins[i]) & (dataset[dividing_key] < bins[i+1])]\n",
    "    r, a = predict_snv(model, subset, genome)\n",
    "    diff = r-a\n",
    "    enrichment[i] = sum([abs(d) for d in diff if abs(d) > min_diff])/len(diff)\n",
    "    name.append('{:.2f}-{:.2f}'.format(bins[i], bins[i+1]))\n",
    "    print('{}: {} total, {} with difference'.format(name[i], len(subset), len([d for d in diff if abs(d) > min_diff])))\n",
    "\n",
    "plt.title('Grouped prediction differnces for {} model'.format(key))\n",
    "plt.bar(range(num_groups), enrichment)\n",
    "plt.xticks(range(num_groups), name, rotation=45)\n",
    "plt.xlabel('{} groupings'.format(dividing_key))\n",
    "plt.ylabel('Average value for difference')\n",
    "plt.show()"
   ]
  },
  {
   "cell_type": "code",
   "execution_count": 27,
   "metadata": {
    "collapsed": false,
    "deletable": true,
    "editable": true
   },
   "outputs": [
    {
     "name": "stderr",
     "output_type": "stream",
     "text": [
      "/home/thouis/VENV/lib/python3.5/site-packages/ipykernel/__main__.py:17: SettingWithCopyWarning: \n",
      "A value is trying to be set on a copy of a slice from a DataFrame.\n",
      "Try using .loc[row_indexer,col_indexer] = value instead\n",
      "\n",
      "See the caveats in the documentation: http://pandas.pydata.org/pandas-docs/stable/indexing.html#indexing-view-versus-copy\n",
      "/home/thouis/VENV/lib/python3.5/site-packages/ipykernel/__main__.py:25: SettingWithCopyWarning: \n",
      "A value is trying to be set on a copy of a slice from a DataFrame.\n",
      "Try using .loc[row_indexer,col_indexer] = value instead\n",
      "\n",
      "See the caveats in the documentation: http://pandas.pydata.org/pandas-docs/stable/indexing.html#indexing-view-versus-copy\n"
     ]
    },
    {
     "name": "stdout",
     "output_type": "stream",
     "text": [
      "0.00-0.01: 477 total, 264 with difference\n",
      "0.01-0.05: 392 total, 217 with difference\n",
      "0.05-0.25: 112 total, 65 with difference\n",
      "0.25-0.75: 13 total, 7 with difference\n",
      "0.75-1.00: 5 total, 3 with difference\n"
     ]
    },
    {
     "data": {
      "image/png": "[encoded data removed]",
      "text/plain": [
       "<matplotlib.figure.Figure at 0x7f8cff984518>"
      ]
     },
     "metadata": {},
     "output_type": "display_data"
    }
   ],
   "source": [
    "# make the chart\n",
    "num_groups = 5\n",
    "enrichment=[0]*num_groups\n",
    "name=list()\n",
    "bins=pp_bins\n",
    "for i in range(num_groups):\n",
    "    subset = dataset[(dataset[dividing_key] >= bins[i]) & (dataset[dividing_key] < bins[i+1])]\n",
    "    r, a = predict_snv(model, subset, genome)\n",
    "    diff = r-a\n",
    "    enrichment[i] = len([d for d in diff if abs(d) > min_diff])/len(diff)\n",
    "    name.append('{:.2f}-{:.2f}'.format(bins[i], bins[i+1]))\n",
    "    print('{}: {} total, {} with difference'.format(name[i], len(subset), len([d for d in diff if abs(d) > min_diff])))\n",
    "\n",
    "plt.title('Enrichment for for {} model'.format(key))\n",
    "plt.bar(range(num_groups), enrichment)\n",
    "plt.xticks(range(num_groups), name, rotation=45)\n",
    "plt.xlabel('{} groupings'.format(dividing_key))\n",
    "plt.ylabel('Enrichment (num samples/total num)')\n",
    "plt.show()"
   ]
  },
  {
   "cell_type": "code",
   "execution_count": null,
   "metadata": {
    "collapsed": true,
    "deletable": true,
    "editable": true
   },
   "outputs": [],
   "source": [
    "import imp\n",
    "datagen = imp.reload(datagen)"
   ]
  },
  {
   "cell_type": "code",
   "execution_count": null,
   "metadata": {
    "collapsed": true
   },
   "outputs": [],
   "source": []
  }
 ],
 "metadata": {
  "kernelspec": {
   "display_name": "Python 3",
   "language": "python",
   "name": "python3"
  },
  "language_info": {
   "codemirror_mode": {
    "name": "ipython",
    "version": 3
   },
   "file_extension": ".py",
   "mimetype": "text/x-python",
   "name": "python",
   "nbconvert_exporter": "python",
   "pygments_lexer": "ipython3",
   "version": "3.5.2"
  }
 },
 "nbformat": 4,
 "nbformat_minor": 2
}
