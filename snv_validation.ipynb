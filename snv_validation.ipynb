{
 "cells": [
  {
   "cell_type": "markdown",
   "metadata": {
    "deletable": true,
    "editable": true
   },
   "source": [
    "make enrichment plots for snvs!"
   ]
  },
  {
   "cell_type": "code",
   "execution_count": 1,
   "metadata": {
    "collapsed": false,
    "deletable": true,
    "editable": true
   },
   "outputs": [
    {
     "name": "stdout",
     "output_type": "stream",
     "text": [
      "['', '/usr/lib/python35.zip', '/usr/lib/python3.5', '/usr/lib/python3.5/plat-x86_64-linux-gnu', '/usr/lib/python3.5/lib-dynload', '/home/kal/VENV/lib/python3.5/site-packages/', '/home/kal/VENV/lib64/python3.5/site-packages/', '/home/kal/VENV/lib/python3.5/site-packages/IPython/extensions/', '/home/kal/K27act_models/bin/', '/home/kal/TF_models/bin/', '/home/kal/.ipython']\n"
     ]
    },
    {
     "name": "stderr",
     "output_type": "stream",
     "text": [
      "Using TensorFlow backend.\n",
      "/home/kal/TF_models/bin/sequence.py:275: RuntimeWarning: divide by zero encountered in log\n",
      "  self.seq = helper.softmax(np.log(dist))\n"
     ]
    }
   ],
   "source": [
    "import change_path\n",
    "import sequence\n",
    "import train_TFmodel\n",
    "import pandas as pd\n",
    "import numpy as np\n",
    "import matplotlib.pyplot as plt\n",
    "import ucscgenome\n",
    "from tqdm import tqdm\n",
    "import datagen\n",
    "\n",
    "from keras.models import load_model\n",
    "import pickle\n",
    "\n",
    "\n",
    "#load in the DNA\n",
    "genome19 = ucscgenome.Genome('/home/kal/.ucscgenome/hg19.2bit')\n",
    "genome38 = ucscgenome.Genome('/home/kal/.ucscgenome/hg38.2bit')"
   ]
  },
  {
   "cell_type": "code",
   "execution_count": 2,
   "metadata": {
    "collapsed": false,
    "deletable": true,
    "editable": true
   },
   "outputs": [
    {
     "name": "stdout",
     "output_type": "stream",
     "text": [
      "Index(['HD', 'chr', 'signal', 'tier2', ' region_start ', ' region_end ',\n",
      "       ' region_len ', ' credible_start ', ' credible_end ', ' credible_len ',\n",
      "       'region_nSNP_total', 'region_nSNP_imp', 'region_nSNP_gen',\n",
      "       'credible_nSNP', 'credible_nSNP_extra1KG_highLD',\n",
      "       'credible_nSNP_extraUK10K_highLD', 'region_nGene', 'credible_nGene',\n",
      "       'p_multi', 'p_single', 'trait', 'trait.reassigned', 'Prob.lead',\n",
      "       'sharingBF', 'OR_CD', 'OR_UC', 'AF_1KG', 'AF_HC', 'AF_CD', 'AF_UC',\n",
      "       'INFO.best', 'variant.lead', 'position', 'refAllele', 'altAllele',\n",
      "       'all.variant', 'good'],\n",
      "      dtype='object')\n"
     ]
    },
    {
     "data": {
      "text/html": [
       "<div>\n",
       "<table border=\"1\" class=\"dataframe\">\n",
       "  <thead>\n",
       "    <tr style=\"text-align: right;\">\n",
       "      <th></th>\n",
       "      <th>HD</th>\n",
       "      <th>chr</th>\n",
       "      <th>signal</th>\n",
       "      <th>tier2</th>\n",
       "      <th>region_start</th>\n",
       "      <th>region_end</th>\n",
       "      <th>region_len</th>\n",
       "      <th>credible_start</th>\n",
       "      <th>credible_end</th>\n",
       "      <th>credible_len</th>\n",
       "      <th>...</th>\n",
       "      <th>AF_CD</th>\n",
       "      <th>AF_UC</th>\n",
       "      <th>INFO.best</th>\n",
       "      <th>variant.lead</th>\n",
       "      <th>position</th>\n",
       "      <th>refAllele</th>\n",
       "      <th>altAllele</th>\n",
       "      <th>all.variant</th>\n",
       "      <th>good</th>\n",
       "      <th>near_gene</th>\n",
       "    </tr>\n",
       "  </thead>\n",
       "  <tbody>\n",
       "    <tr>\n",
       "      <th>0</th>\n",
       "      <td>1</td>\n",
       "      <td>chr1</td>\n",
       "      <td>1</td>\n",
       "      <td>No</td>\n",
       "      <td>2,356,887</td>\n",
       "      <td>2,835,671</td>\n",
       "      <td>478,784</td>\n",
       "      <td>2,472,081</td>\n",
       "      <td>2,563,250</td>\n",
       "      <td>91,169</td>\n",
       "      <td>...</td>\n",
       "      <td>0.487</td>\n",
       "      <td>0.472</td>\n",
       "      <td>1.0</td>\n",
       "      <td>rs2495365</td>\n",
       "      <td>2498026</td>\n",
       "      <td>A</td>\n",
       "      <td>G</td>\n",
       "      <td>rs2495365,rs143280171,rs7515633,rs2147905,rs10...</td>\n",
       "      <td>True</td>\n",
       "      <td>True</td>\n",
       "    </tr>\n",
       "    <tr>\n",
       "      <th>1</th>\n",
       "      <td>2</td>\n",
       "      <td>chr1</td>\n",
       "      <td>1</td>\n",
       "      <td>No</td>\n",
       "      <td>7,688,180</td>\n",
       "      <td>8,256,130</td>\n",
       "      <td>567,950</td>\n",
       "      <td>8,021,740</td>\n",
       "      <td>8,185,902</td>\n",
       "      <td>164,162</td>\n",
       "      <td>...</td>\n",
       "      <td>0.150</td>\n",
       "      <td>0.147</td>\n",
       "      <td>1.0</td>\n",
       "      <td>rs36016881</td>\n",
       "      <td>8051240</td>\n",
       "      <td>A</td>\n",
       "      <td>G</td>\n",
       "      <td>rs36016881,rs67717282,rs60094536,chr1:8059336,...</td>\n",
       "      <td>True</td>\n",
       "      <td>True</td>\n",
       "    </tr>\n",
       "    <tr>\n",
       "      <th>2</th>\n",
       "      <td>4</td>\n",
       "      <td>chr1</td>\n",
       "      <td>1</td>\n",
       "      <td>No</td>\n",
       "      <td>20,098,249</td>\n",
       "      <td>20,303,899</td>\n",
       "      <td>205,650</td>\n",
       "      <td>20,165,971</td>\n",
       "      <td>20,171,860</td>\n",
       "      <td>5,889</td>\n",
       "      <td>...</td>\n",
       "      <td>0.554</td>\n",
       "      <td>0.606</td>\n",
       "      <td>1.0</td>\n",
       "      <td>rs6426833</td>\n",
       "      <td>20171859</td>\n",
       "      <td>G</td>\n",
       "      <td>A</td>\n",
       "      <td>rs6426833,rs7523442</td>\n",
       "      <td>True</td>\n",
       "      <td>True</td>\n",
       "    </tr>\n",
       "    <tr>\n",
       "      <th>3</th>\n",
       "      <td>4</td>\n",
       "      <td>chr1</td>\n",
       "      <td>2</td>\n",
       "      <td>No</td>\n",
       "      <td>False</td>\n",
       "      <td>False</td>\n",
       "      <td>False</td>\n",
       "      <td>20,142,270</td>\n",
       "      <td>20,143,706</td>\n",
       "      <td>1,436</td>\n",
       "      <td>...</td>\n",
       "      <td>0.360</td>\n",
       "      <td>0.330</td>\n",
       "      <td>1.0</td>\n",
       "      <td>rs3806308</td>\n",
       "      <td>20142865</td>\n",
       "      <td>C</td>\n",
       "      <td>T</td>\n",
       "      <td>rs3806308,rs10917548,rs10917547,rs3806306,rs12...</td>\n",
       "      <td>True</td>\n",
       "      <td>False</td>\n",
       "    </tr>\n",
       "    <tr>\n",
       "      <th>4</th>\n",
       "      <td>4</td>\n",
       "      <td>chr1</td>\n",
       "      <td>3</td>\n",
       "      <td>No</td>\n",
       "      <td>False</td>\n",
       "      <td>False</td>\n",
       "      <td>False</td>\n",
       "      <td>20,135,822</td>\n",
       "      <td>20,137,714</td>\n",
       "      <td>1,892</td>\n",
       "      <td>...</td>\n",
       "      <td>0.770</td>\n",
       "      <td>0.744</td>\n",
       "      <td>1.0</td>\n",
       "      <td>rs4655215</td>\n",
       "      <td>20137713</td>\n",
       "      <td>T</td>\n",
       "      <td>C</td>\n",
       "      <td>rs4655215,rs10799838</td>\n",
       "      <td>True</td>\n",
       "      <td>False</td>\n",
       "    </tr>\n",
       "  </tbody>\n",
       "</table>\n",
       "<p>5 rows × 38 columns</p>\n",
       "</div>"
      ],
      "text/plain": [
       "   HD   chr  signal tier2  region_start    region_end   region_len   \\\n",
       "0   1  chr1       1    No     2,356,887     2,835,671      478,784    \n",
       "1   2  chr1       1    No     7,688,180     8,256,130      567,950    \n",
       "2   4  chr1       1    No    20,098,249    20,303,899      205,650    \n",
       "3   4  chr1       2    No          False         False        False   \n",
       "4   4  chr1       3    No          False         False        False   \n",
       "\n",
       "   credible_start   credible_end   credible_len     ...      AF_CD  AF_UC  \\\n",
       "0       2,472,081      2,563,250          91,169    ...      0.487  0.472   \n",
       "1       8,021,740      8,185,902         164,162    ...      0.150  0.147   \n",
       "2      20,165,971     20,171,860           5,889    ...      0.554  0.606   \n",
       "3      20,142,270     20,143,706           1,436    ...      0.360  0.330   \n",
       "4      20,135,822     20,137,714           1,892    ...      0.770  0.744   \n",
       "\n",
       "   INFO.best  variant.lead  position  refAllele  altAllele  \\\n",
       "0        1.0     rs2495365   2498026          A          G   \n",
       "1        1.0    rs36016881   8051240          A          G   \n",
       "2        1.0     rs6426833  20171859          G          A   \n",
       "3        1.0     rs3806308  20142865          C          T   \n",
       "4        1.0     rs4655215  20137713          T          C   \n",
       "\n",
       "                                         all.variant  good  near_gene  \n",
       "0  rs2495365,rs143280171,rs7515633,rs2147905,rs10...  True       True  \n",
       "1  rs36016881,rs67717282,rs60094536,chr1:8059336,...  True       True  \n",
       "2                                rs6426833,rs7523442  True       True  \n",
       "3  rs3806308,rs10917548,rs10917547,rs3806306,rs12...  True      False  \n",
       "4                               rs4655215,rs10799838  True      False  \n",
       "\n",
       "[5 rows x 38 columns]"
      ]
     },
     "execution_count": 2,
     "metadata": {},
     "output_type": "execute_result"
    }
   ],
   "source": [
    "# get some datasets!\n",
    "ibd_c = pd.read_table('/home/kal/K27act_models/eqtl_data/IBD_credible_sets.csv')\n",
    "print(ibd_c.keys())\n",
    "\n",
    "ibd_c['near_gene'] = [d>0 for d in ibd_c['credible_nGene']]\n",
    "ibd_c.head()"
   ]
  },
  {
   "cell_type": "code",
   "execution_count": 3,
   "metadata": {
    "collapsed": false,
    "deletable": true,
    "editable": true
   },
   "outputs": [
    {
     "name": "stdout",
     "output_type": "stream",
     "text": [
      "0.9999\n",
      "0.0415\n"
     ]
    },
    {
     "data": {
      "image/png": "[encoded data removed]",
      "text/plain": [
       "<matplotlib.figure.Figure at 0x7ff7d2c197f0>"
      ]
     },
     "metadata": {},
     "output_type": "display_data"
    }
   ],
   "source": [
    "# make label type enrichemnt plots\n",
    "# replicate previous posterior prob plots from the promotor label\n",
    "num_groups = 5\n",
    "split_column='Prob.lead'\n",
    "test_columns=['near_gene']\n",
    "dataset = ibd_c\n",
    "print(np.max(ibd_c[split_column]))\n",
    "print(np.min(ibd_c[split_column]))\n",
    "bins=[0, .05, .1, .25, .75, 1]\n",
    "for test_column in test_columns:\n",
    "    enrichment_data=list()\n",
    "    names=list()\n",
    "    for i in range(num_groups):\n",
    "        names.append('{:.2f}-{:.2f}'.format(bins[i], bins[i+1]))\n",
    "        subset = dataset[(dataset[split_column] >= bins[i]) & (dataset[split_column] < bins[i+1])]\n",
    "        enrichment_data.append(len(subset[(subset[test_column])])/len(subset))\n",
    "\n",
    "    plt.xticks(range(num_groups), names, rotation=45)\n",
    "    plt.title('{} enrichment for {}'.format(split_column, test_column))\n",
    "    plt.xlabel(test_column)\n",
    "    plt.ylabel('Enrichment (num samples/total num)')\n",
    "    plt.bar(range(num_groups), enrichment_data)\n",
    "    plt.show()"
   ]
  },
  {
   "cell_type": "code",
   "execution_count": 4,
   "metadata": {
    "collapsed": false,
    "deletable": true,
    "editable": true
   },
   "outputs": [
    {
     "name": "stdout",
     "output_type": "stream",
     "text": [
      "Index(['HD', 'chr', 'region (mb)', 'signal', 'credible_nSNP', 'tier2', 'trait',\n",
      "       'trait.reassigned', 'variant', 'OR_CD', 'OR_UC', 'p_multi', 'position',\n",
      "       'refAllele', 'altAllele', 'AF_1KG', 'info', 'P_mean_95', 'Func.refGene',\n",
      "       'Gene.refGene', 'Coding', 'TFBS', 'epigenetic', 'good'],\n",
      "      dtype='object')\n"
     ]
    },
    {
     "data": {
      "text/html": [
       "<div>\n",
       "<table border=\"1\" class=\"dataframe\">\n",
       "  <thead>\n",
       "    <tr style=\"text-align: right;\">\n",
       "      <th></th>\n",
       "      <th>HD</th>\n",
       "      <th>chr</th>\n",
       "      <th>region (mb)</th>\n",
       "      <th>signal</th>\n",
       "      <th>credible_nSNP</th>\n",
       "      <th>tier2</th>\n",
       "      <th>trait</th>\n",
       "      <th>trait.reassigned</th>\n",
       "      <th>variant</th>\n",
       "      <th>OR_CD</th>\n",
       "      <th>...</th>\n",
       "      <th>altAllele</th>\n",
       "      <th>AF_1KG</th>\n",
       "      <th>info</th>\n",
       "      <th>P_mean_95</th>\n",
       "      <th>Func.refGene</th>\n",
       "      <th>Gene.refGene</th>\n",
       "      <th>Coding</th>\n",
       "      <th>TFBS</th>\n",
       "      <th>epigenetic</th>\n",
       "      <th>good</th>\n",
       "    </tr>\n",
       "  </thead>\n",
       "  <tbody>\n",
       "    <tr>\n",
       "      <th>0</th>\n",
       "      <td>1</td>\n",
       "      <td>chr1</td>\n",
       "      <td>2.36-2.84</td>\n",
       "      <td>1</td>\n",
       "      <td>71</td>\n",
       "      <td>No</td>\n",
       "      <td>UC</td>\n",
       "      <td>UC</td>\n",
       "      <td>rs2495365</td>\n",
       "      <td>1.0</td>\n",
       "      <td>...</td>\n",
       "      <td>G</td>\n",
       "      <td>0.484</td>\n",
       "      <td>0.997</td>\n",
       "      <td>0.0472</td>\n",
       "      <td>ncRNA_exonic</td>\n",
       "      <td>LOC100996583</td>\n",
       "      <td>False</td>\n",
       "      <td>False</td>\n",
       "      <td>False</td>\n",
       "      <td>1.0</td>\n",
       "    </tr>\n",
       "    <tr>\n",
       "      <th>1</th>\n",
       "      <td>1</td>\n",
       "      <td>chr1</td>\n",
       "      <td>2.36-2.84</td>\n",
       "      <td>1</td>\n",
       "      <td>71</td>\n",
       "      <td>No</td>\n",
       "      <td>UC</td>\n",
       "      <td>UC</td>\n",
       "      <td>rs143280171</td>\n",
       "      <td>1.0</td>\n",
       "      <td>...</td>\n",
       "      <td>A</td>\n",
       "      <td>0.483</td>\n",
       "      <td>0.998</td>\n",
       "      <td>0.0426</td>\n",
       "      <td>ncRNA_intronic</td>\n",
       "      <td>LOC100996583</td>\n",
       "      <td>False</td>\n",
       "      <td>False</td>\n",
       "      <td>False</td>\n",
       "      <td>1.0</td>\n",
       "    </tr>\n",
       "    <tr>\n",
       "      <th>2</th>\n",
       "      <td>1</td>\n",
       "      <td>chr1</td>\n",
       "      <td>2.36-2.84</td>\n",
       "      <td>1</td>\n",
       "      <td>71</td>\n",
       "      <td>No</td>\n",
       "      <td>UC</td>\n",
       "      <td>UC</td>\n",
       "      <td>rs7515633</td>\n",
       "      <td>1.0</td>\n",
       "      <td>...</td>\n",
       "      <td>G</td>\n",
       "      <td>0.484</td>\n",
       "      <td>0.996</td>\n",
       "      <td>0.0407</td>\n",
       "      <td>UTR3</td>\n",
       "      <td>TNFRSF14</td>\n",
       "      <td>False</td>\n",
       "      <td>False</td>\n",
       "      <td>Gut_H3K27ac</td>\n",
       "      <td>1.0</td>\n",
       "    </tr>\n",
       "    <tr>\n",
       "      <th>3</th>\n",
       "      <td>1</td>\n",
       "      <td>chr1</td>\n",
       "      <td>2.36-2.84</td>\n",
       "      <td>1</td>\n",
       "      <td>71</td>\n",
       "      <td>No</td>\n",
       "      <td>UC</td>\n",
       "      <td>UC</td>\n",
       "      <td>rs2147905</td>\n",
       "      <td>1.0</td>\n",
       "      <td>...</td>\n",
       "      <td>C</td>\n",
       "      <td>0.490</td>\n",
       "      <td>1.000</td>\n",
       "      <td>0.0405</td>\n",
       "      <td>ncRNA_exonic</td>\n",
       "      <td>LOC115110</td>\n",
       "      <td>False</td>\n",
       "      <td>False</td>\n",
       "      <td>False</td>\n",
       "      <td>1.0</td>\n",
       "    </tr>\n",
       "    <tr>\n",
       "      <th>4</th>\n",
       "      <td>1</td>\n",
       "      <td>chr1</td>\n",
       "      <td>2.36-2.84</td>\n",
       "      <td>1</td>\n",
       "      <td>71</td>\n",
       "      <td>No</td>\n",
       "      <td>UC</td>\n",
       "      <td>UC</td>\n",
       "      <td>rs10910089</td>\n",
       "      <td>1.0</td>\n",
       "      <td>...</td>\n",
       "      <td>T</td>\n",
       "      <td>0.484</td>\n",
       "      <td>0.998</td>\n",
       "      <td>0.0366</td>\n",
       "      <td>ncRNA_intronic</td>\n",
       "      <td>LOC100996583</td>\n",
       "      <td>False</td>\n",
       "      <td>False</td>\n",
       "      <td>False</td>\n",
       "      <td>1.0</td>\n",
       "    </tr>\n",
       "  </tbody>\n",
       "</table>\n",
       "<p>5 rows × 24 columns</p>\n",
       "</div>"
      ],
      "text/plain": [
       "   HD   chr region (mb)  signal  credible_nSNP tier2 trait trait.reassigned  \\\n",
       "0   1  chr1   2.36-2.84       1             71    No    UC               UC   \n",
       "1   1  chr1   2.36-2.84       1             71    No    UC               UC   \n",
       "2   1  chr1   2.36-2.84       1             71    No    UC               UC   \n",
       "3   1  chr1   2.36-2.84       1             71    No    UC               UC   \n",
       "4   1  chr1   2.36-2.84       1             71    No    UC               UC   \n",
       "\n",
       "       variant  OR_CD ...   altAllele  AF_1KG   info P_mean_95  \\\n",
       "0    rs2495365    1.0 ...           G   0.484  0.997    0.0472   \n",
       "1  rs143280171    1.0 ...           A   0.483  0.998    0.0426   \n",
       "2    rs7515633    1.0 ...           G   0.484  0.996    0.0407   \n",
       "3    rs2147905    1.0 ...           C   0.490  1.000    0.0405   \n",
       "4   rs10910089    1.0 ...           T   0.484  0.998    0.0366   \n",
       "\n",
       "     Func.refGene  Gene.refGene  Coding   TFBS   epigenetic good  \n",
       "0    ncRNA_exonic  LOC100996583   False  False        False  1.0  \n",
       "1  ncRNA_intronic  LOC100996583   False  False        False  1.0  \n",
       "2            UTR3      TNFRSF14   False  False  Gut_H3K27ac  1.0  \n",
       "3    ncRNA_exonic     LOC115110   False  False        False  1.0  \n",
       "4  ncRNA_intronic  LOC100996583   False  False        False  1.0  \n",
       "\n",
       "[5 rows x 24 columns]"
      ]
     },
     "execution_count": 4,
     "metadata": {},
     "output_type": "execute_result"
    }
   ],
   "source": [
    "ibd_all = pd.read_table('/home/kal/K27act_models/eqtl_data/IBD_list_of_varients.csv')\n",
    "print(ibd_all.keys())\n",
    "ibd_all.head()"
   ]
  },
  {
   "cell_type": "code",
   "execution_count": 17,
   "metadata": {
    "collapsed": false,
    "deletable": true,
    "editable": true
   },
   "outputs": [
    {
     "data": {
      "image/png": "[encoded data removed]",
      "text/plain": [
       "<matplotlib.figure.Figure at 0x7ff81a2ceef0>"
      ]
     },
     "metadata": {},
     "output_type": "display_data"
    },
    {
     "data": {
      "image/png": "[encoded data removed]",
      "text/plain": [
       "<matplotlib.figure.Figure at 0x7ff7d01a0780>"
      ]
     },
     "metadata": {},
     "output_type": "display_data"
    },
    {
     "data": {
      "image/png": "[encoded data removed]",
      "text/plain": [
       "<matplotlib.figure.Figure at 0x7ff7c4c34da0>"
      ]
     },
     "metadata": {},
     "output_type": "display_data"
    }
   ],
   "source": [
    "# make label type enrichemnt plots\n",
    "# replicate previous posterior prob plots from the promotor label\n",
    "num_groups = 5\n",
    "split_column='P_mean_95'\n",
    "test_columns=['Coding', 'TFBS', 'epigenetic']\n",
    "dataset = ibd_all\n",
    "bins=[0, .01, .05, .25, .75, 1]\n",
    "for test_column in test_columns:\n",
    "    enrichment_data=list()\n",
    "    names=list()\n",
    "    for i in range(num_groups):\n",
    "        names.append('{:.2f}-{:.2f}'.format(bins[i], bins[i+1]))\n",
    "        subset = dataset[(dataset[split_column] >= bins[i]) & (dataset[split_column] < bins[i+1])]\n",
    "        enrichment_data.append(len(subset[(subset[test_column] != 'False')])/len(subset))\n",
    "\n",
    "    plt.xticks(range(num_groups), names, rotation=45)\n",
    "    plt.title('{} enrichment for {}'.format(split_column, test_column))\n",
    "    plt.xlabel('Bins for {}'.format(split_column))\n",
    "    plt.ylabel('Fraction Samples (num samples/total num)')\n",
    "    plt.bar(range(num_groups), enrichment_data)\n",
    "    plt.show()"
   ]
  },
  {
   "cell_type": "code",
   "execution_count": 6,
   "metadata": {
    "collapsed": false,
    "deletable": true,
    "editable": true
   },
   "outputs": [
    {
     "name": "stdout",
     "output_type": "stream",
     "text": [
      "Index(['chr', 'position', 'variant_id', 'refAllele', 'altAllele', 'gene_id',\n",
      "       'variant', 'prob.in.set', 'PosteriorProb', 'gene_name',\n",
      "       'CredibleSetSize', 'CredibleSet', 'CredibleSetName',\n",
      "       'median.expression', 'missingness', 'mappability.k50', 'tss_distance',\n",
      "       'ma_samples', 'ma_count', 'maf', 'pval_nominal', 'slope', 'slope_se',\n",
      "       'eqtl_name'],\n",
      "      dtype='object')\n",
      "235686\n",
      "218779\n",
      "875\n"
     ]
    },
    {
     "data": {
      "text/html": [
       "<div>\n",
       "<table border=\"1\" class=\"dataframe\">\n",
       "  <thead>\n",
       "    <tr style=\"text-align: right;\">\n",
       "      <th></th>\n",
       "      <th>chr</th>\n",
       "      <th>position</th>\n",
       "      <th>variant_id</th>\n",
       "      <th>refAllele</th>\n",
       "      <th>altAllele</th>\n",
       "      <th>gene_id</th>\n",
       "      <th>variant</th>\n",
       "      <th>prob.in.set</th>\n",
       "      <th>PosteriorProb</th>\n",
       "      <th>gene_name</th>\n",
       "      <th>...</th>\n",
       "      <th>mappability.k50</th>\n",
       "      <th>tss_distance</th>\n",
       "      <th>ma_samples</th>\n",
       "      <th>ma_count</th>\n",
       "      <th>maf</th>\n",
       "      <th>pval_nominal</th>\n",
       "      <th>slope</th>\n",
       "      <th>slope_se</th>\n",
       "      <th>eqtl_name</th>\n",
       "      <th>100_tss</th>\n",
       "    </tr>\n",
       "  </thead>\n",
       "  <tbody>\n",
       "    <tr>\n",
       "      <th>0</th>\n",
       "      <td>chr10</td>\n",
       "      <td>102087037</td>\n",
       "      <td>chr10_100327281_T_C_b38</td>\n",
       "      <td>T</td>\n",
       "      <td>C</td>\n",
       "      <td>ENSG00000224934.2</td>\n",
       "      <td>102087038</td>\n",
       "      <td>0.019453</td>\n",
       "      <td>0.023665</td>\n",
       "      <td>RP11-441O15.3</td>\n",
       "      <td>...</td>\n",
       "      <td>1.0</td>\n",
       "      <td>896090</td>\n",
       "      <td>33</td>\n",
       "      <td>36</td>\n",
       "      <td>0.122449</td>\n",
       "      <td>0.000652</td>\n",
       "      <td>0.375461</td>\n",
       "      <td>0.107300</td>\n",
       "      <td>chr10:102087038:RP11-441O15.3</td>\n",
       "      <td>False</td>\n",
       "    </tr>\n",
       "    <tr>\n",
       "      <th>1</th>\n",
       "      <td>chr10</td>\n",
       "      <td>102087112</td>\n",
       "      <td>chr10_100327356_G_T_b38</td>\n",
       "      <td>G</td>\n",
       "      <td>T</td>\n",
       "      <td>ENSG00000224934.2</td>\n",
       "      <td>102087113</td>\n",
       "      <td>0.005739</td>\n",
       "      <td>0.006981</td>\n",
       "      <td>RP11-441O15.3</td>\n",
       "      <td>...</td>\n",
       "      <td>1.0</td>\n",
       "      <td>896165</td>\n",
       "      <td>52</td>\n",
       "      <td>58</td>\n",
       "      <td>0.197279</td>\n",
       "      <td>0.001981</td>\n",
       "      <td>-0.268628</td>\n",
       "      <td>0.084970</td>\n",
       "      <td>chr10:102087113:RP11-441O15.3</td>\n",
       "      <td>False</td>\n",
       "    </tr>\n",
       "    <tr>\n",
       "      <th>2</th>\n",
       "      <td>chr10</td>\n",
       "      <td>102103036</td>\n",
       "      <td>chr10_100343280_C_T_b38</td>\n",
       "      <td>C</td>\n",
       "      <td>T</td>\n",
       "      <td>ENSG00000119929.12</td>\n",
       "      <td>102103037</td>\n",
       "      <td>0.051836</td>\n",
       "      <td>0.047800</td>\n",
       "      <td>CUTC</td>\n",
       "      <td>...</td>\n",
       "      <td>1.0</td>\n",
       "      <td>620362</td>\n",
       "      <td>33</td>\n",
       "      <td>33</td>\n",
       "      <td>0.112245</td>\n",
       "      <td>0.000046</td>\n",
       "      <td>0.452428</td>\n",
       "      <td>0.107065</td>\n",
       "      <td>chr10:102103037:CUTC</td>\n",
       "      <td>False</td>\n",
       "    </tr>\n",
       "    <tr>\n",
       "      <th>3</th>\n",
       "      <td>chr10</td>\n",
       "      <td>102105629</td>\n",
       "      <td>chr10_100345873_T_C_b38</td>\n",
       "      <td>T</td>\n",
       "      <td>C</td>\n",
       "      <td>ENSG00000119929.12</td>\n",
       "      <td>102105630</td>\n",
       "      <td>0.441053</td>\n",
       "      <td>0.406717</td>\n",
       "      <td>CUTC</td>\n",
       "      <td>...</td>\n",
       "      <td>1.0</td>\n",
       "      <td>622955</td>\n",
       "      <td>32</td>\n",
       "      <td>32</td>\n",
       "      <td>0.108844</td>\n",
       "      <td>0.000003</td>\n",
       "      <td>0.502150</td>\n",
       "      <td>0.102816</td>\n",
       "      <td>chr10:102105630:CUTC</td>\n",
       "      <td>False</td>\n",
       "    </tr>\n",
       "    <tr>\n",
       "      <th>4</th>\n",
       "      <td>chr10</td>\n",
       "      <td>102127491</td>\n",
       "      <td>chr10_100367735_A_G_b38</td>\n",
       "      <td>A</td>\n",
       "      <td>G</td>\n",
       "      <td>ENSG00000119929.12</td>\n",
       "      <td>102127492</td>\n",
       "      <td>0.043166</td>\n",
       "      <td>0.039806</td>\n",
       "      <td>CUTC</td>\n",
       "      <td>...</td>\n",
       "      <td>1.0</td>\n",
       "      <td>644817</td>\n",
       "      <td>38</td>\n",
       "      <td>40</td>\n",
       "      <td>0.136054</td>\n",
       "      <td>0.000060</td>\n",
       "      <td>-0.380238</td>\n",
       "      <td>0.091461</td>\n",
       "      <td>chr10:102127492:CUTC</td>\n",
       "      <td>False</td>\n",
       "    </tr>\n",
       "  </tbody>\n",
       "</table>\n",
       "<p>5 rows × 25 columns</p>\n",
       "</div>"
      ],
      "text/plain": [
       "     chr   position               variant_id refAllele altAllele  \\\n",
       "0  chr10  102087037  chr10_100327281_T_C_b38         T         C   \n",
       "1  chr10  102087112  chr10_100327356_G_T_b38         G         T   \n",
       "2  chr10  102103036  chr10_100343280_C_T_b38         C         T   \n",
       "3  chr10  102105629  chr10_100345873_T_C_b38         T         C   \n",
       "4  chr10  102127491  chr10_100367735_A_G_b38         A         G   \n",
       "\n",
       "              gene_id    variant  prob.in.set  PosteriorProb      gene_name  \\\n",
       "0   ENSG00000224934.2  102087038     0.019453       0.023665  RP11-441O15.3   \n",
       "1   ENSG00000224934.2  102087113     0.005739       0.006981  RP11-441O15.3   \n",
       "2  ENSG00000119929.12  102103037     0.051836       0.047800           CUTC   \n",
       "3  ENSG00000119929.12  102105630     0.441053       0.406717           CUTC   \n",
       "4  ENSG00000119929.12  102127492     0.043166       0.039806           CUTC   \n",
       "\n",
       "    ...     mappability.k50 tss_distance ma_samples  ma_count       maf  \\\n",
       "0   ...                 1.0       896090         33        36  0.122449   \n",
       "1   ...                 1.0       896165         52        58  0.197279   \n",
       "2   ...                 1.0       620362         33        33  0.112245   \n",
       "3   ...                 1.0       622955         32        32  0.108844   \n",
       "4   ...                 1.0       644817         38        40  0.136054   \n",
       "\n",
       "   pval_nominal     slope  slope_se                      eqtl_name  100_tss  \n",
       "0      0.000652  0.375461  0.107300  chr10:102087038:RP11-441O15.3    False  \n",
       "1      0.001981 -0.268628  0.084970  chr10:102087113:RP11-441O15.3    False  \n",
       "2      0.000046  0.452428  0.107065           chr10:102103037:CUTC    False  \n",
       "3      0.000003  0.502150  0.102816           chr10:102105630:CUTC    False  \n",
       "4      0.000060 -0.380238  0.091461           chr10:102127492:CUTC    False  \n",
       "\n",
       "[5 rows x 25 columns]"
      ]
     },
     "execution_count": 6,
     "metadata": {},
     "output_type": "execute_result"
    }
   ],
   "source": [
    "# load in eqtl data\n",
    "\n",
    "# posterior prob bins (from joe)\n",
    "pp_bins = [0, .01, .05, .25, .75, 1]\n",
    "\n",
    "eqtl = pd.read_table('/home/kal/K27act_models/eqtl_data/Cells_EBV-transformed_lymphocytes.hg19.csv')\n",
    "print(eqtl.keys())\n",
    "eqtl['100_tss'] = [abs(d) <= 100 for d in eqtl['tss_distance']]\n",
    "print(len(eqtl))\n",
    "print(len(eqtl[eqtl['missingness'] < .02]))\n",
    "print(sum(eqtl['100_tss']))\n",
    "eqtl.head()"
   ]
  },
  {
   "cell_type": "code",
   "execution_count": 7,
   "metadata": {
    "collapsed": false,
    "deletable": true,
    "editable": true
   },
   "outputs": [
    {
     "data": {
      "image/png": "[encoded data removed]",
      "text/plain": [
       "<matplotlib.figure.Figure at 0x7ff7d2b50438>"
      ]
     },
     "metadata": {},
     "output_type": "display_data"
    }
   ],
   "source": [
    "# make label type enrichemnt plots\n",
    "\n",
    "# replicate previous posterior prob plots\n",
    "num_groups = 5\n",
    "split_column='PosteriorProb'\n",
    "dataset = eqtl\n",
    "bins=pp_bins\n",
    "    \n",
    "test_columns=['100_tss']\n",
    "for test_column in test_columns:\n",
    "    enrichment_data=list()\n",
    "    names=list()\n",
    "    for i in range(num_groups):\n",
    "        names.append('{:.2f}-{:.2f}'.format(bins[i], bins[i+1]))\n",
    "        subset = dataset[(dataset[split_column] >= bins[i]) & (dataset[split_column] < bins[i+1])]\n",
    "        enrichment_data.append(len(subset[(subset[test_column])])/len(subset))\n",
    "\n",
    "    plt.xticks(range(num_groups), names, rotation=45)\n",
    "    plt.title('{} enrichment for {}'.format(split_column, test_column))\n",
    "    plt.xlabel('Bins for {}'.format(split_column))\n",
    "    plt.ylabel('Enrichment (num samples/total num)')\n",
    "    plt.bar(range(num_groups), enrichment_data)\n",
    "    plt.show()"
   ]
  },
  {
   "cell_type": "code",
   "execution_count": 8,
   "metadata": {
    "collapsed": false,
    "deletable": true,
    "editable": true
   },
   "outputs": [],
   "source": [
    "# get some models! \n",
    "ml_models = {'sum_pwm':load_model('/home/kal/K27act_models/convolution_model/20180711_144600_counts_pwm_sum/final_model.h5')}"
   ]
  },
  {
   "cell_type": "code",
   "execution_count": 9,
   "metadata": {
    "collapsed": false,
    "deletable": true,
    "editable": true
   },
   "outputs": [],
   "source": [
    "def snv_gen(peaks, genome, alt=False, seq_length=131072):\n",
    "    \"\"\"Generate sequnces from snv data.\n",
    "    \n",
    "    Arguments:\n",
    "        peaks -- from a bed file.\n",
    "        genome -- to pull bed from.\n",
    "    Keywords:\n",
    "        alt -- give alternate allele version.\n",
    "    Returns:\n",
    "        seq -- sequence with the alternate or refernce allele, centered around the position. \"\"\"\n",
    "    for index, row in peaks.iterrows():\n",
    "        try:\n",
    "            seq = datagen.get_sample(row, genome=genome)[0]\n",
    "            if alt:\n",
    "                new_seq = np.insert(sequence.encode_to_onehot(row.altAllele.lower()), 0, seq[seq_length//2:seq_length//2+len(row.altAllele)][:,0], axis=1)\n",
    "                part_seq = np.append(seq[:seq_length//2], new_seq, axis=0)\n",
    "                seq = np.append(part_seq, seq[seq_length//2+len(row.refAllele):], axis=0) \n",
    "            else:\n",
    "                new_seq = np.insert(sequence.encode_to_onehot(row.refAllele.lower()), 0, seq[seq_length//2:seq_length//2+len(row.refAllele)][:,0], axis=1)\n",
    "                part_seq = np.append(seq[:seq_length//2], new_seq, axis=0)\n",
    "                seq = np.append(part_seq, seq[seq_length//2+len(row.refAllele):], axis=0)\n",
    "            if (row.refAllele).lower()[0] != (genome[row.chr][row.position]).lower():\n",
    "                print('Should be {}'.format(genome[row.chr][row.position].lower()))\n",
    "                print('Actually is {}'.format(row.refAllele.lower()))\n",
    "                print('Alternate is {}'.format(row.altAllele.lower()))\n",
    "                raise IndexError('Reference allele does not match reference genome')\n",
    "            yield seq\n",
    "        except IndentationError as e:\n",
    "            print(e)\n",
    "            print(row)\n",
    "        "
   ]
  },
  {
   "cell_type": "code",
   "execution_count": 10,
   "metadata": {
    "collapsed": true,
    "deletable": true,
    "editable": true
   },
   "outputs": [],
   "source": [
    "def predict_snv(model, peaks, genome=None, act=False, seq_length=131072):\n",
    "    \"\"\"Predict from a bed file with chr, position, refAllele, altAllele.\n",
    " \n",
    "    Arguments:\n",
    "        peaks -- the bed file in pd table form.\n",
    "    Keywords:\n",
    "        genome -- default is hg19.\n",
    "    Outputs:\n",
    "        refpreds -- predictions for each row with reference allele. \n",
    "        altpreds -- predictions for each row with alternate allele. \n",
    "    \"\"\"\n",
    "     # get the genome and bed file regions\n",
    "    if genome == None:\n",
    "        genome = ucscgenome.Genome('/home/kal/.ucscgenome/hg19.2bit')\n",
    "    # predict over the rows\n",
    "    refpreds = []\n",
    "    peaks['end'] = peaks['refend']\n",
    "    batchgen = train_TFmodel.filled_batch(snv_gen(peaks, genome, alt=False, seq_length=seq_length), fillvalue=np.zeros((seq_length, 5)))\n",
    "    for batch in batchgen:\n",
    "        if batch.shape == (32, seq_length, 5):\n",
    "            refpreds.append(model.predict_on_batch(batch))\n",
    "    refpreds = np.asarray(refpreds).flatten()[:len(peaks)]\n",
    "\n",
    "    altpreds = []\n",
    "    peaks['end'] = peaks['altend']\n",
    "    batchgen = train_TFmodel.filled_batch(snv_gen(peaks, genome, alt=True, seq_length=seq_length), fillvalue=np.zeros((seq_length, 5)))\n",
    "    for batch in batchgen:\n",
    "        if batch.shape == (32, seq_length, 5):\n",
    "            altpreds.append(model.predict_on_batch(batch))\n",
    "    altpreds = np.asarray(altpreds).flatten()[:len(peaks)]\n",
    "    return refpreds, altpreds\n"
   ]
  },
  {
   "cell_type": "code",
   "execution_count": 11,
   "metadata": {
    "collapsed": false,
    "deletable": true,
    "editable": true
   },
   "outputs": [
    {
     "data": {
      "text/plain": [
       "Index(['chr', 'position', 'variant_id', 'refAllele', 'altAllele', 'gene_id',\n",
       "       'variant', 'prob.in.set', 'PosteriorProb', 'gene_name',\n",
       "       'CredibleSetSize', 'CredibleSet', 'CredibleSetName',\n",
       "       'median.expression', 'missingness', 'mappability.k50', 'tss_distance',\n",
       "       'ma_samples', 'ma_count', 'maf', 'pval_nominal', 'slope', 'slope_se',\n",
       "       'eqtl_name', '100_tss'],\n",
       "      dtype='object')"
      ]
     },
     "execution_count": 11,
     "metadata": {},
     "output_type": "execute_result"
    }
   ],
   "source": [
    "# predictions at p values\n",
    "key='sum_pwm'\n",
    "model=ml_models[key]\n",
    "seq_length=1024\n",
    "dataset = eqtl.sample(1000)\n",
    "dividing_key='PosteriorProb'\n",
    "genome=genome19\n",
    "dataset.keys()"
   ]
  },
  {
   "cell_type": "code",
   "execution_count": 12,
   "metadata": {
    "collapsed": false,
    "deletable": true,
    "editable": true,
    "scrolled": true
   },
   "outputs": [
    {
     "name": "stderr",
     "output_type": "stream",
     "text": [
      "100%|██████████| 1000/1000 [00:00<00:00, 9755.56it/s]\n"
     ]
    }
   ],
   "source": [
    "# prepare for testing\n",
    "altend=list()\n",
    "for index, row in tqdm(dataset.iterrows(), total=len(dataset)):\n",
    "    if len(row.refAllele) == len(row.altAllele):\n",
    "        altend.append(row.position+seq_length//2)\n",
    "    else:\n",
    "        altend.append(row.position+seq_length//2 + len(row.refAllele) - len(row.altAllele))\n",
    "dataset['altend'] = altend\n",
    "dataset['start'] = dataset.position-seq_length//2\n",
    "dataset['refend'] = dataset.position+seq_length//2\n",
    "dataset['score'] = np.nan\n",
    "dataset['altend'] = dataset['altend'].astype(int)\n",
    "\n",
    "dataset = dataset[(dataset['refAllele'] !='D') & (dataset['refAllele'] !='I')]# I can't deal with deletions or insertions"
   ]
  },
  {
   "cell_type": "code",
   "execution_count": 13,
   "metadata": {
    "collapsed": false,
    "deletable": true,
    "editable": true
   },
   "outputs": [
    {
     "data": {
      "image/png": "[encoded data removed]",
      "text/plain": [
       "<matplotlib.figure.Figure at 0x7ff7d0198358>"
      ]
     },
     "metadata": {},
     "output_type": "display_data"
    }
   ],
   "source": [
    "# hexbin correlations\n",
    "r, a = predict_snv(model, dataset, genome)\n",
    "diff = r-a\n",
    "\n",
    "plt.scatter(dataset[dividing_key], diff, alpha=0.5)\n",
    "plt.title('{} model prediction difference vs {}'.format(key, dividing_key))\n",
    "plt.show()"
   ]
  },
  {
   "cell_type": "code",
   "execution_count": 14,
   "metadata": {
    "collapsed": false,
    "deletable": true,
    "editable": true
   },
   "outputs": [
    {
     "name": "stderr",
     "output_type": "stream",
     "text": [
      "/home/thouis/VENV/lib/python3.5/site-packages/ipykernel/__main__.py:17: SettingWithCopyWarning: \n",
      "A value is trying to be set on a copy of a slice from a DataFrame.\n",
      "Try using .loc[row_indexer,col_indexer] = value instead\n",
      "\n",
      "See the caveats in the documentation: http://pandas.pydata.org/pandas-docs/stable/indexing.html#indexing-view-versus-copy\n",
      "/home/thouis/VENV/lib/python3.5/site-packages/ipykernel/__main__.py:25: SettingWithCopyWarning: \n",
      "A value is trying to be set on a copy of a slice from a DataFrame.\n",
      "Try using .loc[row_indexer,col_indexer] = value instead\n",
      "\n",
      "See the caveats in the documentation: http://pandas.pydata.org/pandas-docs/stable/indexing.html#indexing-view-versus-copy\n"
     ]
    },
    {
     "name": "stdout",
     "output_type": "stream",
     "text": [
      "0.00-0.01: 463 total, 280 with difference\n",
      "0.01-0.05: 426 total, 257 with difference\n",
      "0.05-0.25: 95 total, 55 with difference\n",
      "0.25-0.75: 12 total, 3 with difference\n",
      "0.75-1.00: 3 total, 1 with difference\n"
     ]
    },
    {
     "data": {
      "image/png": "[encoded data removed]",
      "text/plain": [
       "<matplotlib.figure.Figure at 0x7ff7d01f3518>"
      ]
     },
     "metadata": {},
     "output_type": "display_data"
    }
   ],
   "source": [
    "# make the chart\n",
    "num_groups = 5\n",
    "enrichment=[0]*num_groups\n",
    "name=list()\n",
    "bins=pp_bins\n",
    "min_diff = 0.005\n",
    "for i in range(num_groups):\n",
    "    subset = dataset[(dataset[dividing_key] >= bins[i]) & (dataset[dividing_key] < bins[i+1])]\n",
    "    r, a = predict_snv(model, subset, genome)\n",
    "    diff = r-a\n",
    "    enrichment[i] = sum([abs(d) for d in diff if abs(d) > min_diff])/len(diff)\n",
    "    name.append('{:.2f}-{:.2f}'.format(bins[i], bins[i+1]))\n",
    "    print('{}: {} total, {} with difference'.format(name[i], len(subset), len([d for d in diff if abs(d) > min_diff])))\n",
    "\n",
    "plt.title('Grouped prediction differnces for {} model'.format(key))\n",
    "plt.bar(range(num_groups), enrichment)\n",
    "plt.xticks(range(num_groups), name, rotation=45)\n",
    "plt.xlabel('{} groupings'.format(dividing_key))\n",
    "plt.ylabel('Average value for difference')\n",
    "plt.show()"
   ]
  },
  {
   "cell_type": "code",
   "execution_count": 15,
   "metadata": {
    "collapsed": false,
    "deletable": true,
    "editable": true
   },
   "outputs": [
    {
     "name": "stderr",
     "output_type": "stream",
     "text": [
      "/home/thouis/VENV/lib/python3.5/site-packages/ipykernel/__main__.py:17: SettingWithCopyWarning: \n",
      "A value is trying to be set on a copy of a slice from a DataFrame.\n",
      "Try using .loc[row_indexer,col_indexer] = value instead\n",
      "\n",
      "See the caveats in the documentation: http://pandas.pydata.org/pandas-docs/stable/indexing.html#indexing-view-versus-copy\n",
      "/home/thouis/VENV/lib/python3.5/site-packages/ipykernel/__main__.py:25: SettingWithCopyWarning: \n",
      "A value is trying to be set on a copy of a slice from a DataFrame.\n",
      "Try using .loc[row_indexer,col_indexer] = value instead\n",
      "\n",
      "See the caveats in the documentation: http://pandas.pydata.org/pandas-docs/stable/indexing.html#indexing-view-versus-copy\n"
     ]
    },
    {
     "name": "stdout",
     "output_type": "stream",
     "text": [
      "0.00-0.01: 463 total, 280 with difference\n",
      "0.01-0.05: 426 total, 257 with difference\n",
      "0.05-0.25: 95 total, 55 with difference\n",
      "0.25-0.75: 12 total, 3 with difference\n",
      "0.75-1.00: 3 total, 1 with difference\n"
     ]
    },
    {
     "data": {
      "image/png": "[encoded data removed]",
      "text/plain": [
       "<matplotlib.figure.Figure at 0x7ff7d022d780>"
      ]
     },
     "metadata": {},
     "output_type": "display_data"
    }
   ],
   "source": [
    "# make the chart\n",
    "num_groups = 5\n",
    "enrichment=[0]*num_groups\n",
    "name=list()\n",
    "bins=pp_bins\n",
    "for i in range(num_groups):\n",
    "    subset = dataset[(dataset[dividing_key] >= bins[i]) & (dataset[dividing_key] < bins[i+1])]\n",
    "    r, a = predict_snv(model, subset, genome)\n",
    "    diff = r-a\n",
    "    enrichment[i] = len([d for d in diff if abs(d) > min_diff])/len(diff)\n",
    "    name.append('{:.2f}-{:.2f}'.format(bins[i], bins[i+1]))\n",
    "    print('{}: {} total, {} with difference'.format(name[i], len(subset), len([d for d in diff if abs(d) > min_diff])))\n",
    "\n",
    "plt.title('Enrichment for for {} model'.format(key))\n",
    "plt.bar(range(num_groups), enrichment)\n",
    "plt.xticks(range(num_groups), name, rotation=45)\n",
    "plt.xlabel('{} groupings'.format(dividing_key))\n",
    "plt.ylabel('Enrichment (num samples/total num)')\n",
    "plt.show()"
   ]
  },
  {
   "cell_type": "code",
   "execution_count": 16,
   "metadata": {
    "collapsed": true,
    "deletable": true,
    "editable": true
   },
   "outputs": [],
   "source": [
    "import imp\n",
    "datagen = imp.reload(datagen)"
   ]
  },
  {
   "cell_type": "code",
   "execution_count": null,
   "metadata": {
    "collapsed": true,
    "deletable": true,
    "editable": true
   },
   "outputs": [],
   "source": []
  }
 ],
 "metadata": {
  "kernelspec": {
   "display_name": "Python 3",
   "language": "python",
   "name": "python3"
  },
  "language_info": {
   "codemirror_mode": {
    "name": "ipython",
    "version": 3
   },
   "file_extension": ".py",
   "mimetype": "text/x-python",
   "name": "python",
   "nbconvert_exporter": "python",
   "pygments_lexer": "ipython3",
   "version": "3.5.2"
  }
 },
 "nbformat": 4,
 "nbformat_minor": 2
}
