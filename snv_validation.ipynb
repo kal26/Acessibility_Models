{
 "cells": [
  {
   "cell_type": "markdown",
   "metadata": {
    "deletable": true,
    "editable": true
   },
   "source": [
    "make enrichment plots for snvs!"
   ]
  },
  {
   "cell_type": "code",
   "execution_count": 2,
   "metadata": {
    "collapsed": false,
    "deletable": true,
    "editable": true
   },
   "outputs": [
    {
     "name": "stderr",
     "output_type": "stream",
     "text": [
      "Using TensorFlow backend.\n",
      "/home/kal/TF_models/bin/sequence.py:275: RuntimeWarning: divide by zero encountered in log\n",
      "  self.seq = helper.softmax(np.log(dist))\n"
     ]
    }
   ],
   "source": [
    "import sys\n",
    "sys.path.append('/home/kal/K27act_models/convolution_model/')\n",
    "sys.path.append('/home/kal/K27act_models/cg_model/')\n",
    "sys.path.append('/home/kal/TF_models/bin/')\n",
    "\n",
    "import sequence\n",
    "import train_TFmodel\n",
    "import pandas as pd\n",
    "import numpy as np\n",
    "import matplotlib.pyplot as plt\n",
    "import ucscgenome\n",
    "from tqdm import tqdm\n",
    "import datagen\n",
    "\n",
    "from keras.models import load_model\n",
    "import pickle\n",
    "\n",
    "\n",
    "#load in the DNA\n",
    "genome19 = ucscgenome.Genome('/home/kal/.ucscgenome/hg19.2bit')\n",
    "genome38 = ucscgenome.Genome('/home/kal/.ucscgenome/hg38.2bit')"
   ]
  },
  {
   "cell_type": "code",
   "execution_count": null,
   "metadata": {
    "collapsed": false,
    "deletable": true,
    "editable": true
   },
   "outputs": [],
   "source": [
    "# get some datasets!\n",
    "ibd_c = pd.read_table('/home/kal/K27act_models/eqtl_data/IBD_credible_sets.csv')\n",
    "print(ibd_c.keys())\n",
    "ibd_c.head()"
   ]
  },
  {
   "cell_type": "code",
   "execution_count": null,
   "metadata": {
    "collapsed": false,
    "deletable": true,
    "editable": true
   },
   "outputs": [],
   "source": [
    "# make label type enrichemnt plots\n",
    "# replicate previous posterior prob plots from the promotor label\n",
    "num_groups = 5\n",
    "split_column='Prob.lead'\n",
    "test_columns=['region_nGene', 'credible_nGene']\n",
    "dataset = ibd_c\n",
    "bins=np.linspace(0, 1, num_groups+1)\n",
    "for test_column in test_columns:\n",
    "    enrichment_data=list()\n",
    "    names=list()\n",
    "    for i in range(num_groups):\n",
    "        names.append('{:.2f}-{:.2f}'.format(bins[i], bins[i+1]))\n",
    "        subset = dataset[(dataset[split_column] >= bins[i]) & (dataset[split_column] < bins[i+1])]\n",
    "        enrichment_data.append(np.average([abs(d) for d in subset[test_column]]))\n",
    "\n",
    "    plt.xticks(range(num_groups), names, rotation=45)\n",
    "    plt.title('{} enrichment for {}'.format(split_column, test_column))\n",
    "    plt.xlabel(test_column)\n",
    "    plt.ylabel('Enrichment (num samples/total num)')\n",
    "    plt.bar(range(num_groups), enrichment_data)\n",
    "    plt.show()"
   ]
  },
  {
   "cell_type": "code",
   "execution_count": null,
   "metadata": {
    "collapsed": false,
    "deletable": true,
    "editable": true
   },
   "outputs": [],
   "source": [
    "ibd_all = pd.read_table('/home/kal/K27act_models/eqtl_data/IBD_list_of_varients.csv')\n",
    "print(ibd_all.keys())\n",
    "ibd_all.head()"
   ]
  },
  {
   "cell_type": "code",
   "execution_count": null,
   "metadata": {
    "collapsed": false,
    "deletable": true,
    "editable": true
   },
   "outputs": [],
   "source": [
    "# make label type enrichemnt plots\n",
    "# replicate previous posterior prob plots from the promotor label\n",
    "num_groups = 5\n",
    "split_column='P_mean_95'\n",
    "test_columns=['Coding', 'TFBS', 'epigenetic']\n",
    "dataset = ibd_all\n",
    "bins=np.linspace(0, 1, num_groups+1)\n",
    "for test_column in test_columns:\n",
    "    enrichment_data=list()\n",
    "    names=list()\n",
    "    for i in range(num_groups):\n",
    "        names.append('{:.2f}-{:.2f}'.format(bins[i], bins[i+1]))\n",
    "        subset = dataset[(dataset[split_column] >= bins[i]) & (dataset[split_column] < bins[i+1])]\n",
    "        enrichment_data.append(len(subset[(subset[test_column] != 'False')])/len(subset))\n",
    "\n",
    "    plt.xticks(range(num_groups), names, rotation=45)\n",
    "    plt.title('{} enrichment for {}'.format(split_column, test_column))\n",
    "    plt.xlabel('Bins for {}'.format(split_column))\n",
    "    plt.ylabel('Enrichment (num samples/total num)')\n",
    "    plt.bar(range(num_groups), enrichment_data)\n",
    "    plt.show()"
   ]
  },
  {
   "cell_type": "code",
   "execution_count": 7,
   "metadata": {
    "collapsed": false,
    "deletable": true,
    "editable": true
   },
   "outputs": [
    {
     "name": "stdout",
     "output_type": "stream",
     "text": [
      "Index(['chr', 'position', 'variant_id', 'refAllele', 'altAllele', 'gene_id',\n",
      "       'variant', 'prob.in.set', 'PosteriorProb', 'gene_name',\n",
      "       'CredibleSetSize', 'CredibleSet', 'CredibleSetName',\n",
      "       'median.expression', 'missingness', 'mappability.k50', 'tss_distance',\n",
      "       'ma_samples', 'ma_count', 'maf', 'pval_nominal', 'slope', 'slope_se',\n",
      "       'eqtl_name'],\n",
      "      dtype='object')\n",
      "239048\n",
      "221516\n",
      "885\n"
     ]
    },
    {
     "data": {
      "text/html": [
       "<div>\n",
       "<table border=\"1\" class=\"dataframe\">\n",
       "  <thead>\n",
       "    <tr style=\"text-align: right;\">\n",
       "      <th></th>\n",
       "      <th>chr</th>\n",
       "      <th>position</th>\n",
       "      <th>variant_id</th>\n",
       "      <th>refAllele</th>\n",
       "      <th>altAllele</th>\n",
       "      <th>gene_id</th>\n",
       "      <th>variant</th>\n",
       "      <th>prob.in.set</th>\n",
       "      <th>PosteriorProb</th>\n",
       "      <th>gene_name</th>\n",
       "      <th>...</th>\n",
       "      <th>mappability.k50</th>\n",
       "      <th>tss_distance</th>\n",
       "      <th>ma_samples</th>\n",
       "      <th>ma_count</th>\n",
       "      <th>maf</th>\n",
       "      <th>pval_nominal</th>\n",
       "      <th>slope</th>\n",
       "      <th>slope_se</th>\n",
       "      <th>eqtl_name</th>\n",
       "      <th>100_tss</th>\n",
       "    </tr>\n",
       "  </thead>\n",
       "  <tbody>\n",
       "    <tr>\n",
       "      <th>0</th>\n",
       "      <td>chr10</td>\n",
       "      <td>100327280</td>\n",
       "      <td>chr10_100327281_T_C_b38</td>\n",
       "      <td>T</td>\n",
       "      <td>C</td>\n",
       "      <td>ENSG00000224934.2</td>\n",
       "      <td>102087038</td>\n",
       "      <td>0.019453</td>\n",
       "      <td>0.023665</td>\n",
       "      <td>RP11-441O15.3</td>\n",
       "      <td>...</td>\n",
       "      <td>1.0</td>\n",
       "      <td>896090</td>\n",
       "      <td>33</td>\n",
       "      <td>36</td>\n",
       "      <td>0.122449</td>\n",
       "      <td>0.000652</td>\n",
       "      <td>0.375461</td>\n",
       "      <td>0.107300</td>\n",
       "      <td>chr10:102087038:RP11-441O15.3</td>\n",
       "      <td>False</td>\n",
       "    </tr>\n",
       "    <tr>\n",
       "      <th>1</th>\n",
       "      <td>chr10</td>\n",
       "      <td>100327355</td>\n",
       "      <td>chr10_100327356_G_T_b38</td>\n",
       "      <td>G</td>\n",
       "      <td>T</td>\n",
       "      <td>ENSG00000224934.2</td>\n",
       "      <td>102087113</td>\n",
       "      <td>0.005739</td>\n",
       "      <td>0.006981</td>\n",
       "      <td>RP11-441O15.3</td>\n",
       "      <td>...</td>\n",
       "      <td>1.0</td>\n",
       "      <td>896165</td>\n",
       "      <td>52</td>\n",
       "      <td>58</td>\n",
       "      <td>0.197279</td>\n",
       "      <td>0.001981</td>\n",
       "      <td>-0.268628</td>\n",
       "      <td>0.084970</td>\n",
       "      <td>chr10:102087113:RP11-441O15.3</td>\n",
       "      <td>False</td>\n",
       "    </tr>\n",
       "    <tr>\n",
       "      <th>2</th>\n",
       "      <td>chr10</td>\n",
       "      <td>100343279</td>\n",
       "      <td>chr10_100343280_C_T_b38</td>\n",
       "      <td>C</td>\n",
       "      <td>T</td>\n",
       "      <td>ENSG00000119929.12</td>\n",
       "      <td>102103037</td>\n",
       "      <td>0.051836</td>\n",
       "      <td>0.047800</td>\n",
       "      <td>CUTC</td>\n",
       "      <td>...</td>\n",
       "      <td>1.0</td>\n",
       "      <td>620362</td>\n",
       "      <td>33</td>\n",
       "      <td>33</td>\n",
       "      <td>0.112245</td>\n",
       "      <td>0.000046</td>\n",
       "      <td>0.452428</td>\n",
       "      <td>0.107065</td>\n",
       "      <td>chr10:102103037:CUTC</td>\n",
       "      <td>False</td>\n",
       "    </tr>\n",
       "    <tr>\n",
       "      <th>3</th>\n",
       "      <td>chr10</td>\n",
       "      <td>100345872</td>\n",
       "      <td>chr10_100345873_T_C_b38</td>\n",
       "      <td>T</td>\n",
       "      <td>C</td>\n",
       "      <td>ENSG00000119929.12</td>\n",
       "      <td>102105630</td>\n",
       "      <td>0.441053</td>\n",
       "      <td>0.406717</td>\n",
       "      <td>CUTC</td>\n",
       "      <td>...</td>\n",
       "      <td>1.0</td>\n",
       "      <td>622955</td>\n",
       "      <td>32</td>\n",
       "      <td>32</td>\n",
       "      <td>0.108844</td>\n",
       "      <td>0.000003</td>\n",
       "      <td>0.502150</td>\n",
       "      <td>0.102816</td>\n",
       "      <td>chr10:102105630:CUTC</td>\n",
       "      <td>False</td>\n",
       "    </tr>\n",
       "    <tr>\n",
       "      <th>4</th>\n",
       "      <td>chr10</td>\n",
       "      <td>100367734</td>\n",
       "      <td>chr10_100367735_A_G_b38</td>\n",
       "      <td>A</td>\n",
       "      <td>G</td>\n",
       "      <td>ENSG00000119929.12</td>\n",
       "      <td>102127492</td>\n",
       "      <td>0.043166</td>\n",
       "      <td>0.039806</td>\n",
       "      <td>CUTC</td>\n",
       "      <td>...</td>\n",
       "      <td>1.0</td>\n",
       "      <td>644817</td>\n",
       "      <td>38</td>\n",
       "      <td>40</td>\n",
       "      <td>0.136054</td>\n",
       "      <td>0.000060</td>\n",
       "      <td>-0.380238</td>\n",
       "      <td>0.091461</td>\n",
       "      <td>chr10:102127492:CUTC</td>\n",
       "      <td>False</td>\n",
       "    </tr>\n",
       "  </tbody>\n",
       "</table>\n",
       "<p>5 rows × 25 columns</p>\n",
       "</div>"
      ],
      "text/plain": [
       "     chr   position               variant_id refAllele altAllele  \\\n",
       "0  chr10  100327280  chr10_100327281_T_C_b38         T         C   \n",
       "1  chr10  100327355  chr10_100327356_G_T_b38         G         T   \n",
       "2  chr10  100343279  chr10_100343280_C_T_b38         C         T   \n",
       "3  chr10  100345872  chr10_100345873_T_C_b38         T         C   \n",
       "4  chr10  100367734  chr10_100367735_A_G_b38         A         G   \n",
       "\n",
       "              gene_id    variant  prob.in.set  PosteriorProb      gene_name  \\\n",
       "0   ENSG00000224934.2  102087038     0.019453       0.023665  RP11-441O15.3   \n",
       "1   ENSG00000224934.2  102087113     0.005739       0.006981  RP11-441O15.3   \n",
       "2  ENSG00000119929.12  102103037     0.051836       0.047800           CUTC   \n",
       "3  ENSG00000119929.12  102105630     0.441053       0.406717           CUTC   \n",
       "4  ENSG00000119929.12  102127492     0.043166       0.039806           CUTC   \n",
       "\n",
       "    ...     mappability.k50 tss_distance ma_samples  ma_count       maf  \\\n",
       "0   ...                 1.0       896090         33        36  0.122449   \n",
       "1   ...                 1.0       896165         52        58  0.197279   \n",
       "2   ...                 1.0       620362         33        33  0.112245   \n",
       "3   ...                 1.0       622955         32        32  0.108844   \n",
       "4   ...                 1.0       644817         38        40  0.136054   \n",
       "\n",
       "   pval_nominal     slope  slope_se                      eqtl_name  100_tss  \n",
       "0      0.000652  0.375461  0.107300  chr10:102087038:RP11-441O15.3    False  \n",
       "1      0.001981 -0.268628  0.084970  chr10:102087113:RP11-441O15.3    False  \n",
       "2      0.000046  0.452428  0.107065           chr10:102103037:CUTC    False  \n",
       "3      0.000003  0.502150  0.102816           chr10:102105630:CUTC    False  \n",
       "4      0.000060 -0.380238  0.091461           chr10:102127492:CUTC    False  \n",
       "\n",
       "[5 rows x 25 columns]"
      ]
     },
     "execution_count": 7,
     "metadata": {},
     "output_type": "execute_result"
    }
   ],
   "source": [
    "# load in eqtl data\n",
    "\n",
    "# posterior prob bins (from joe)\n",
    "pp_bins = [0, .01, .05, .25, .75, 1]\n",
    "\n",
    "eqtl = pd.read_table('/home/kal/K27act_models/eqtl_data/Cells_EBV-transformed_lymphocytes.hg38.csv')\n",
    "print(eqtl.keys())\n",
    "eqtl['100_tss'] = [abs(d) <= 100 for d in eqtl['tss_distance']]\n",
    "print(len(eqtl))\n",
    "print(len(eqtl[eqtl['missingness'] < .02]))\n",
    "print(sum(eqtl['100_tss']))\n",
    "eqtl.head()"
   ]
  },
  {
   "cell_type": "code",
   "execution_count": 9,
   "metadata": {
    "collapsed": false,
    "deletable": true,
    "editable": true
   },
   "outputs": [
    {
     "data": {
      "image/png": "[encoded data removed]",
      "text/plain": [
       "<matplotlib.figure.Figure at 0x7f6ce80e3f28>"
      ]
     },
     "metadata": {},
     "output_type": "display_data"
    }
   ],
   "source": [
    "# make label type enrichemnt plots\n",
    "\n",
    "# replicate previous posterior prob plots\n",
    "num_groups = 5\n",
    "split_column='PosteriorProb'\n",
    "dataset = eqtl\n",
    "bins=pp_bins\n",
    "    \n",
    "test_columns=['100_tss']\n",
    "for test_column in test_columns:\n",
    "    enrichment_data=list()\n",
    "    names=list()\n",
    "    for i in range(num_groups):\n",
    "        names.append('{:.2f}-{:.2f}'.format(bins[i], bins[i+1]))\n",
    "        subset = dataset[(dataset[split_column] >= bins[i]) & (dataset[split_column] < bins[i+1])]\n",
    "        enrichment_data.append(len(subset[(subset[test_column])])/len(subset))\n",
    "\n",
    "    plt.xticks(range(num_groups), names, rotation=45)\n",
    "    plt.title('{} enrichment for {}'.format(split_column, test_column))\n",
    "    plt.xlabel('Bins for {}'.format(split_column))\n",
    "    plt.ylabel('Enrichment (num samples/total num)')\n",
    "    plt.bar(range(num_groups), enrichment_data)\n",
    "    plt.show()"
   ]
  },
  {
   "cell_type": "code",
   "execution_count": 11,
   "metadata": {
    "collapsed": false,
    "deletable": true,
    "editable": true
   },
   "outputs": [],
   "source": [
    "# get some models! \n",
    "fml_models = {}\n",
    "kml_models = {'kpwm':load_model('/home/kal/K27act_models/convolution_model/20180706_124549_counts_pwm/final_model.h5'), \n",
    "             'kconv':load_model('/home/kal/K27act_models/convolution_model/20180706_125316_counts_conv/final_model.h5')}"
   ]
  },
  {
   "cell_type": "code",
   "execution_count": 12,
   "metadata": {
    "collapsed": false,
    "deletable": true,
    "editable": true
   },
   "outputs": [],
   "source": [
    "def snv_gen(peaks, genome, alt=False, seq_length=1024):\n",
    "    \"\"\"Generate sequnces from snv data.\n",
    "    \n",
    "    Arguments:\n",
    "        peaks -- from a bed file.\n",
    "        genome -- to pull bed from.\n",
    "    Keywords:\n",
    "        alt -- give alternate allele version.\n",
    "    Returns:\n",
    "        seq -- sequence with the alternate or refernce allele, centered around the position. \"\"\"\n",
    "    for index, row in peaks.iterrows():\n",
    "        try:\n",
    "            seq = datagen.get_sample(row, genome=genome)[0]\n",
    "            if alt:\n",
    "                new_seq = np.insert(sequence.encode_to_onehot(row.altAllele.lower()), 0, seq[seq_length//2:seq_length//2+len(row.altAllele)][:,0], axis=1)\n",
    "                part_seq = np.append(seq[:seq_length//2], new_seq, axis=0)\n",
    "                seq = np.append(part_seq, seq[seq_length//2+len(row.refAllele):], axis=0) \n",
    "            else:\n",
    "                new_seq = np.insert(sequence.encode_to_onehot(row.refAllele.lower()), 0, seq[seq_length//2:seq_length//2+len(row.refAllele)][:,0], axis=1)\n",
    "                part_seq = np.append(seq[:seq_length//2], new_seq, axis=0)\n",
    "                seq = np.append(part_seq, seq[seq_length//2+len(row.refAllele):], axis=0)\n",
    "            if (row.refAllele).lower()[0] != (genome[row.chr][row.position]).lower():\n",
    "                print('Should be {}'.format(genome[row.chr][row.position].lower()))\n",
    "                print('Actually is {}'.format(row.refAllele.lower()))\n",
    "                print('Alternate is {}'.format(row.altAllele.lower()))\n",
    "                raise IndexError('Reference allele does not match reference genome')\n",
    "            yield seq\n",
    "        except IndentationError as e:\n",
    "            print(e)\n",
    "            print(row)\n",
    "        "
   ]
  },
  {
   "cell_type": "code",
   "execution_count": 13,
   "metadata": {
    "collapsed": true,
    "deletable": true,
    "editable": true
   },
   "outputs": [],
   "source": [
    "def predict_snv(model, peaks, genome=None, act=False):\n",
    "    \"\"\"Predict from a bed file with chr, position, refAllele, altAllele.\n",
    " \n",
    "    Arguments:\n",
    "        peaks -- the bed file in pd table form.\n",
    "    Keywords:\n",
    "        genome -- default is hg19.\n",
    "    Outputs:\n",
    "        refpreds -- predictions for each row with reference allele. \n",
    "        altpreds -- predictions for each row with alternate allele. \n",
    "    \"\"\"\n",
    "     # get the genome and bed file regions\n",
    "    if genome == None:\n",
    "        genome = ucscgenome.Genome('/home/kal/.ucscgenome/hg19.2bit')\n",
    "    # predict over the rows\n",
    "    refpreds = []\n",
    "    peaks['end'] = peaks['refend']\n",
    "    batchgen = train_TFmodel.filled_batch(snv_gen(peaks, genome, alt=False), fillvalue=np.zeros((1024, 5)))\n",
    "    for batch in batchgen:\n",
    "        if batch.shape == (32, 1024, 5):\n",
    "            refpreds.append(model.predict_on_batch(batch))\n",
    "    refpreds = np.asarray(refpreds).flatten()[:len(peaks)]\n",
    "\n",
    "    altpreds = []\n",
    "    peaks['end'] = peaks['altend']\n",
    "    batchgen = train_TFmodel.filled_batch(snv_gen(peaks, genome, alt=True), fillvalue=np.zeros((1024, 5)))\n",
    "    for batch in batchgen:\n",
    "        if batch.shape == (32, 1024, 5):\n",
    "            altpreds.append(model.predict_on_batch(batch))\n",
    "    altpreds = np.asarray(altpreds).flatten()[:len(peaks)]\n",
    "    return refpreds, altpreds\n"
   ]
  },
  {
   "cell_type": "code",
   "execution_count": 20,
   "metadata": {
    "collapsed": false,
    "deletable": true,
    "editable": true
   },
   "outputs": [
    {
     "data": {
      "text/plain": [
       "Index(['chr', 'position', 'variant_id', 'refAllele', 'altAllele', 'gene_id',\n",
       "       'variant', 'prob.in.set', 'PosteriorProb', 'gene_name',\n",
       "       'CredibleSetSize', 'CredibleSet', 'CredibleSetName',\n",
       "       'median.expression', 'missingness', 'mappability.k50', 'tss_distance',\n",
       "       'ma_samples', 'ma_count', 'maf', 'pval_nominal', 'slope', 'slope_se',\n",
       "       'eqtl_name', '100_tss', 'altend', 'start', 'refend', 'score'],\n",
       "      dtype='object')"
      ]
     },
     "execution_count": 20,
     "metadata": {},
     "output_type": "execute_result"
    }
   ],
   "source": [
    "# predictions at p values\n",
    "key='kconv'\n",
    "model=kml_models[key]\n",
    "dataset = eqtl.sample(100)\n",
    "dividing_key='PosteriorProb'\n",
    "genome=genome38\n",
    "dataset.keys()"
   ]
  },
  {
   "cell_type": "code",
   "execution_count": 21,
   "metadata": {
    "collapsed": false,
    "deletable": true,
    "editable": true
   },
   "outputs": [
    {
     "data": {
      "image/png": "[encoded data removed]",
      "text/plain": [
       "<matplotlib.figure.Figure at 0x7f6cd68cb278>"
      ]
     },
     "metadata": {},
     "output_type": "display_data"
    }
   ],
   "source": [
    "plt.hist(dataset[dividing_key])\n",
    "plt.title(dividing_key + 'distribution')\n",
    "plt.xlabel(dividing_key)\n",
    "plt.ylabel('Number of samples')\n",
    "plt.show()"
   ]
  },
  {
   "cell_type": "code",
   "execution_count": 22,
   "metadata": {
    "collapsed": false,
    "deletable": true,
    "editable": true,
    "scrolled": false
   },
   "outputs": [],
   "source": [
    "# prepare for testing\n",
    "for index, row in dataset.iterrows():\n",
    "    if len(row.refAllele) == len(row.altAllele):\n",
    "        dataset.at[index, 'altend'] = row.position+500\n",
    "    else:\n",
    "        dataset.at[index, 'altend'] = row.position+500 + len(row.refAllele) - len(row.altAllele)\n",
    "dataset['start'] = dataset.position-500\n",
    "dataset['refend'] = dataset.position+500\n",
    "dataset['score'] = np.nan\n",
    "dataset['altend'] = dataset['altend'].astype(int)\n",
    "\n",
    "dataset = dataset[(dataset['refAllele'] !='D') & (dataset['refAllele'] !='I')]# I can't deal with deletions or insertions"
   ]
  },
  {
   "cell_type": "code",
   "execution_count": 24,
   "metadata": {
    "collapsed": false,
    "deletable": true,
    "editable": true
   },
   "outputs": [
    {
     "ename": "ValueError",
     "evalue": "could not broadcast input array from shape (0,1) into shape (1000,1)",
     "output_type": "error",
     "traceback": [
      "\u001b[0;31m---------------------------------------------------------------------------\u001b[0m",
      "\u001b[0;31mValueError\u001b[0m                                Traceback (most recent call last)",
      "\u001b[0;32m<ipython-input-24-26eb275b35e4>\u001b[0m in \u001b[0;36m<module>\u001b[0;34m()\u001b[0m\n\u001b[1;32m      1\u001b[0m \u001b[0;31m# hexbin correlations\u001b[0m\u001b[0;34m\u001b[0m\u001b[0;34m\u001b[0m\u001b[0m\n\u001b[0;32m----> 2\u001b[0;31m \u001b[0mr\u001b[0m\u001b[0;34m,\u001b[0m \u001b[0ma\u001b[0m \u001b[0;34m=\u001b[0m \u001b[0mpredict_snv\u001b[0m\u001b[0;34m(\u001b[0m\u001b[0mmodel\u001b[0m\u001b[0;34m,\u001b[0m \u001b[0mdataset\u001b[0m\u001b[0;34m,\u001b[0m \u001b[0mgenome\u001b[0m\u001b[0;34m)\u001b[0m\u001b[0;34m\u001b[0m\u001b[0m\n\u001b[0m\u001b[1;32m      3\u001b[0m \u001b[0mdiff\u001b[0m \u001b[0;34m=\u001b[0m \u001b[0mr\u001b[0m\u001b[0;34m-\u001b[0m\u001b[0ma\u001b[0m\u001b[0;34m\u001b[0m\u001b[0m\n\u001b[1;32m      4\u001b[0m \u001b[0mplt\u001b[0m\u001b[0;34m.\u001b[0m\u001b[0mscatter\u001b[0m\u001b[0;34m(\u001b[0m\u001b[0mdataset\u001b[0m\u001b[0;34m[\u001b[0m\u001b[0mdividing_key\u001b[0m\u001b[0;34m]\u001b[0m\u001b[0;34m,\u001b[0m \u001b[0mdiff\u001b[0m\u001b[0;34m,\u001b[0m \u001b[0malpha\u001b[0m\u001b[0;34m=\u001b[0m\u001b[0;36m0.5\u001b[0m\u001b[0;34m)\u001b[0m\u001b[0;34m\u001b[0m\u001b[0m\n\u001b[1;32m      5\u001b[0m \u001b[0mplt\u001b[0m\u001b[0;34m.\u001b[0m\u001b[0mtitle\u001b[0m\u001b[0;34m(\u001b[0m\u001b[0;34m'{} model prediction difference vs {}'\u001b[0m\u001b[0;34m.\u001b[0m\u001b[0mformat\u001b[0m\u001b[0;34m(\u001b[0m\u001b[0mkey\u001b[0m\u001b[0;34m,\u001b[0m \u001b[0mdividing_key\u001b[0m\u001b[0;34m)\u001b[0m\u001b[0;34m)\u001b[0m\u001b[0;34m\u001b[0m\u001b[0m\n",
      "\u001b[0;32m<ipython-input-13-ce0b255918d8>\u001b[0m in \u001b[0;36mpredict_snv\u001b[0;34m(model, peaks, genome, act)\u001b[0m\n\u001b[1;32m     17\u001b[0m     \u001b[0mpeaks\u001b[0m\u001b[0;34m[\u001b[0m\u001b[0;34m'end'\u001b[0m\u001b[0;34m]\u001b[0m \u001b[0;34m=\u001b[0m \u001b[0mpeaks\u001b[0m\u001b[0;34m[\u001b[0m\u001b[0;34m'refend'\u001b[0m\u001b[0;34m]\u001b[0m\u001b[0;34m\u001b[0m\u001b[0m\n\u001b[1;32m     18\u001b[0m     \u001b[0mbatchgen\u001b[0m \u001b[0;34m=\u001b[0m \u001b[0mtrain_TFmodel\u001b[0m\u001b[0;34m.\u001b[0m\u001b[0mfilled_batch\u001b[0m\u001b[0;34m(\u001b[0m\u001b[0msnv_gen\u001b[0m\u001b[0;34m(\u001b[0m\u001b[0mpeaks\u001b[0m\u001b[0;34m,\u001b[0m \u001b[0mgenome\u001b[0m\u001b[0;34m,\u001b[0m \u001b[0malt\u001b[0m\u001b[0;34m=\u001b[0m\u001b[0;32mFalse\u001b[0m\u001b[0;34m)\u001b[0m\u001b[0;34m,\u001b[0m \u001b[0mfillvalue\u001b[0m\u001b[0;34m=\u001b[0m\u001b[0mnp\u001b[0m\u001b[0;34m.\u001b[0m\u001b[0mzeros\u001b[0m\u001b[0;34m(\u001b[0m\u001b[0;34m(\u001b[0m\u001b[0;36m1024\u001b[0m\u001b[0;34m,\u001b[0m \u001b[0;36m5\u001b[0m\u001b[0;34m)\u001b[0m\u001b[0;34m)\u001b[0m\u001b[0;34m)\u001b[0m\u001b[0;34m\u001b[0m\u001b[0m\n\u001b[0;32m---> 19\u001b[0;31m     \u001b[0;32mfor\u001b[0m \u001b[0mbatch\u001b[0m \u001b[0;32min\u001b[0m \u001b[0mbatchgen\u001b[0m\u001b[0;34m:\u001b[0m\u001b[0;34m\u001b[0m\u001b[0m\n\u001b[0m\u001b[1;32m     20\u001b[0m         \u001b[0;32mif\u001b[0m \u001b[0mbatch\u001b[0m\u001b[0;34m.\u001b[0m\u001b[0mshape\u001b[0m \u001b[0;34m==\u001b[0m \u001b[0;34m(\u001b[0m\u001b[0;36m32\u001b[0m\u001b[0;34m,\u001b[0m \u001b[0;36m1024\u001b[0m\u001b[0;34m,\u001b[0m \u001b[0;36m5\u001b[0m\u001b[0;34m)\u001b[0m\u001b[0;34m:\u001b[0m\u001b[0;34m\u001b[0m\u001b[0m\n\u001b[1;32m     21\u001b[0m             \u001b[0mrefpreds\u001b[0m\u001b[0;34m.\u001b[0m\u001b[0mappend\u001b[0m\u001b[0;34m(\u001b[0m\u001b[0mmodel\u001b[0m\u001b[0;34m.\u001b[0m\u001b[0mpredict_on_batch\u001b[0m\u001b[0;34m(\u001b[0m\u001b[0mbatch\u001b[0m\u001b[0;34m)\u001b[0m\u001b[0;34m)\u001b[0m\u001b[0;34m\u001b[0m\u001b[0m\n",
      "\u001b[0;32m/home/kal/TF_models/bin/train_TFmodel.py\u001b[0m in \u001b[0;36mfilled_batch\u001b[0;34m(iterable, batch_size, fillvalue)\u001b[0m\n\u001b[1;32m     32\u001b[0m     \u001b[0mgroups\u001b[0m \u001b[0;34m=\u001b[0m \u001b[0mgrouper\u001b[0m\u001b[0;34m(\u001b[0m\u001b[0miterable\u001b[0m\u001b[0;34m,\u001b[0m \u001b[0mbatch_size\u001b[0m\u001b[0;34m,\u001b[0m \u001b[0mfillvalue\u001b[0m\u001b[0;34m=\u001b[0m\u001b[0mfillvalue\u001b[0m\u001b[0;34m)\u001b[0m\u001b[0;34m\u001b[0m\u001b[0m\n\u001b[1;32m     33\u001b[0m     \u001b[0;32mwhile\u001b[0m \u001b[0;32mTrue\u001b[0m\u001b[0;34m:\u001b[0m\u001b[0;34m\u001b[0m\u001b[0m\n\u001b[0;32m---> 34\u001b[0;31m         \u001b[0;32myield\u001b[0m \u001b[0mnp\u001b[0m\u001b[0;34m.\u001b[0m\u001b[0masarray\u001b[0m\u001b[0;34m(\u001b[0m\u001b[0mnext\u001b[0m\u001b[0;34m(\u001b[0m\u001b[0mgroups\u001b[0m\u001b[0;34m)\u001b[0m\u001b[0;34m)\u001b[0m\u001b[0;34m\u001b[0m\u001b[0m\n\u001b[0m\u001b[1;32m     35\u001b[0m \u001b[0;34m\u001b[0m\u001b[0m\n\u001b[1;32m     36\u001b[0m \u001b[0;32mdef\u001b[0m \u001b[0mrandom_seq\u001b[0m\u001b[0;34m(\u001b[0m\u001b[0;34m)\u001b[0m\u001b[0;34m:\u001b[0m\u001b[0;34m\u001b[0m\u001b[0m\n",
      "\u001b[0;32m<ipython-input-12-132ad57c54f2>\u001b[0m in \u001b[0;36msnv_gen\u001b[0;34m(peaks, genome, alt, seq_length)\u001b[0m\n\u001b[1;32m     11\u001b[0m     \u001b[0;32mfor\u001b[0m \u001b[0mindex\u001b[0m\u001b[0;34m,\u001b[0m \u001b[0mrow\u001b[0m \u001b[0;32min\u001b[0m \u001b[0mpeaks\u001b[0m\u001b[0;34m.\u001b[0m\u001b[0miterrows\u001b[0m\u001b[0;34m(\u001b[0m\u001b[0;34m)\u001b[0m\u001b[0;34m:\u001b[0m\u001b[0;34m\u001b[0m\u001b[0m\n\u001b[1;32m     12\u001b[0m         \u001b[0;32mtry\u001b[0m\u001b[0;34m:\u001b[0m\u001b[0;34m\u001b[0m\u001b[0m\n\u001b[0;32m---> 13\u001b[0;31m             \u001b[0mseq\u001b[0m \u001b[0;34m=\u001b[0m \u001b[0mdatagen\u001b[0m\u001b[0;34m.\u001b[0m\u001b[0mget_sample\u001b[0m\u001b[0;34m(\u001b[0m\u001b[0mrow\u001b[0m\u001b[0;34m,\u001b[0m \u001b[0mgenome\u001b[0m\u001b[0;34m=\u001b[0m\u001b[0mgenome\u001b[0m\u001b[0;34m)\u001b[0m\u001b[0;34m[\u001b[0m\u001b[0;36m0\u001b[0m\u001b[0;34m]\u001b[0m\u001b[0;34m\u001b[0m\u001b[0m\n\u001b[0m\u001b[1;32m     14\u001b[0m             \u001b[0;32mif\u001b[0m \u001b[0malt\u001b[0m\u001b[0;34m:\u001b[0m\u001b[0;34m\u001b[0m\u001b[0m\n\u001b[1;32m     15\u001b[0m                 \u001b[0mnew_seq\u001b[0m \u001b[0;34m=\u001b[0m \u001b[0mnp\u001b[0m\u001b[0;34m.\u001b[0m\u001b[0minsert\u001b[0m\u001b[0;34m(\u001b[0m\u001b[0msequence\u001b[0m\u001b[0;34m.\u001b[0m\u001b[0mencode_to_onehot\u001b[0m\u001b[0;34m(\u001b[0m\u001b[0mrow\u001b[0m\u001b[0;34m.\u001b[0m\u001b[0maltAllele\u001b[0m\u001b[0;34m.\u001b[0m\u001b[0mlower\u001b[0m\u001b[0;34m(\u001b[0m\u001b[0;34m)\u001b[0m\u001b[0;34m)\u001b[0m\u001b[0;34m,\u001b[0m \u001b[0;36m0\u001b[0m\u001b[0;34m,\u001b[0m \u001b[0mseq\u001b[0m\u001b[0;34m[\u001b[0m\u001b[0mseq_length\u001b[0m\u001b[0;34m//\u001b[0m\u001b[0;36m2\u001b[0m\u001b[0;34m:\u001b[0m\u001b[0mseq_length\u001b[0m\u001b[0;34m//\u001b[0m\u001b[0;36m2\u001b[0m\u001b[0;34m+\u001b[0m\u001b[0mlen\u001b[0m\u001b[0;34m(\u001b[0m\u001b[0mrow\u001b[0m\u001b[0;34m.\u001b[0m\u001b[0maltAllele\u001b[0m\u001b[0;34m)\u001b[0m\u001b[0;34m]\u001b[0m\u001b[0;34m[\u001b[0m\u001b[0;34m:\u001b[0m\u001b[0;34m,\u001b[0m\u001b[0;36m0\u001b[0m\u001b[0;34m]\u001b[0m\u001b[0;34m,\u001b[0m \u001b[0maxis\u001b[0m\u001b[0;34m=\u001b[0m\u001b[0;36m1\u001b[0m\u001b[0;34m)\u001b[0m\u001b[0;34m\u001b[0m\u001b[0m\n",
      "\u001b[0;32m/home/kal/K27act_models/convolution_model/datagen.py\u001b[0m in \u001b[0;36mget_sample\u001b[0;34m(row, genome, log, verb)\u001b[0m\n\u001b[1;32m     61\u001b[0m     \u001b[0matac_counts\u001b[0m \u001b[0;34m=\u001b[0m \u001b[0matac\u001b[0m\u001b[0;34m[\u001b[0m\u001b[0mrow\u001b[0m\u001b[0;34m[\u001b[0m\u001b[0;34m'chr'\u001b[0m\u001b[0;34m]\u001b[0m\u001b[0;34m]\u001b[0m\u001b[0;34m[\u001b[0m\u001b[0mrow\u001b[0m\u001b[0;34m[\u001b[0m\u001b[0;34m'start'\u001b[0m\u001b[0;34m]\u001b[0m\u001b[0;34m:\u001b[0m\u001b[0mrow\u001b[0m\u001b[0;34m[\u001b[0m\u001b[0;34m'end'\u001b[0m\u001b[0;34m]\u001b[0m\u001b[0;34m]\u001b[0m\u001b[0;34m\u001b[0m\u001b[0m\n\u001b[1;32m     62\u001b[0m     \u001b[0;31m# we will train on [atac, one_hot DNA]\u001b[0m\u001b[0;34m\u001b[0m\u001b[0;34m\u001b[0m\u001b[0m\n\u001b[0;32m---> 63\u001b[0;31m     \u001b[0mboth\u001b[0m \u001b[0;34m=\u001b[0m \u001b[0mnp\u001b[0m\u001b[0;34m.\u001b[0m\u001b[0minsert\u001b[0m\u001b[0;34m(\u001b[0m\u001b[0mnucs\u001b[0m\u001b[0;34m.\u001b[0m\u001b[0mastype\u001b[0m\u001b[0;34m(\u001b[0m\u001b[0mnp\u001b[0m\u001b[0;34m.\u001b[0m\u001b[0mfloat32\u001b[0m\u001b[0;34m)\u001b[0m\u001b[0;34m,\u001b[0m \u001b[0;36m0\u001b[0m\u001b[0;34m,\u001b[0m \u001b[0matac_counts\u001b[0m\u001b[0;34m,\u001b[0m \u001b[0maxis\u001b[0m\u001b[0;34m=\u001b[0m\u001b[0;36m1\u001b[0m\u001b[0;34m)\u001b[0m\u001b[0;34m\u001b[0m\u001b[0m\n\u001b[0m\u001b[1;32m     64\u001b[0m     \u001b[0;32mif\u001b[0m \u001b[0mlog\u001b[0m\u001b[0;34m:\u001b[0m\u001b[0;34m\u001b[0m\u001b[0m\n\u001b[1;32m     65\u001b[0m         \u001b[0;32mreturn\u001b[0m \u001b[0mboth\u001b[0m\u001b[0;34m,\u001b[0m \u001b[0mnp\u001b[0m\u001b[0;34m.\u001b[0m\u001b[0mlog2\u001b[0m\u001b[0;34m(\u001b[0m\u001b[0mrow\u001b[0m\u001b[0;34m[\u001b[0m\u001b[0;34m'score'\u001b[0m\u001b[0;34m]\u001b[0m \u001b[0;34m+\u001b[0m \u001b[0;36m1\u001b[0m\u001b[0;34m)\u001b[0m\u001b[0;34m\u001b[0m\u001b[0m\n",
      "\u001b[0;32m/home/thouis/VENV/lib/python3.5/site-packages/numpy/lib/function_base.py\u001b[0m in \u001b[0;36minsert\u001b[0;34m(arr, obj, values, axis)\u001b[0m\n\u001b[1;32m   5071\u001b[0m         \u001b[0mnew\u001b[0m\u001b[0;34m[\u001b[0m\u001b[0mslobj\u001b[0m\u001b[0;34m]\u001b[0m \u001b[0;34m=\u001b[0m \u001b[0marr\u001b[0m\u001b[0;34m[\u001b[0m\u001b[0mslobj\u001b[0m\u001b[0;34m]\u001b[0m\u001b[0;34m\u001b[0m\u001b[0m\n\u001b[1;32m   5072\u001b[0m         \u001b[0mslobj\u001b[0m\u001b[0;34m[\u001b[0m\u001b[0maxis\u001b[0m\u001b[0;34m]\u001b[0m \u001b[0;34m=\u001b[0m \u001b[0mslice\u001b[0m\u001b[0;34m(\u001b[0m\u001b[0mindex\u001b[0m\u001b[0;34m,\u001b[0m \u001b[0mindex\u001b[0m\u001b[0;34m+\u001b[0m\u001b[0mnumnew\u001b[0m\u001b[0;34m)\u001b[0m\u001b[0;34m\u001b[0m\u001b[0m\n\u001b[0;32m-> 5073\u001b[0;31m         \u001b[0mnew\u001b[0m\u001b[0;34m[\u001b[0m\u001b[0mslobj\u001b[0m\u001b[0;34m]\u001b[0m \u001b[0;34m=\u001b[0m \u001b[0mvalues\u001b[0m\u001b[0;34m\u001b[0m\u001b[0m\n\u001b[0m\u001b[1;32m   5074\u001b[0m         \u001b[0mslobj\u001b[0m\u001b[0;34m[\u001b[0m\u001b[0maxis\u001b[0m\u001b[0;34m]\u001b[0m \u001b[0;34m=\u001b[0m \u001b[0mslice\u001b[0m\u001b[0;34m(\u001b[0m\u001b[0mindex\u001b[0m\u001b[0;34m+\u001b[0m\u001b[0mnumnew\u001b[0m\u001b[0;34m,\u001b[0m \u001b[0;32mNone\u001b[0m\u001b[0;34m)\u001b[0m\u001b[0;34m\u001b[0m\u001b[0m\n\u001b[1;32m   5075\u001b[0m         \u001b[0mslobj2\u001b[0m \u001b[0;34m=\u001b[0m \u001b[0;34m[\u001b[0m\u001b[0mslice\u001b[0m\u001b[0;34m(\u001b[0m\u001b[0;32mNone\u001b[0m\u001b[0;34m)\u001b[0m\u001b[0;34m]\u001b[0m \u001b[0;34m*\u001b[0m \u001b[0mndim\u001b[0m\u001b[0;34m\u001b[0m\u001b[0m\n",
      "\u001b[0;31mValueError\u001b[0m: could not broadcast input array from shape (0,1) into shape (1000,1)"
     ]
    }
   ],
   "source": [
    "# hexbin correlations\n",
    "r, a = predict_snv(model, dataset, genome)\n",
    "diff = r-a\n",
    "plt.scatter(dataset[dividing_key], diff, alpha=0.5)\n",
    "plt.title('{} model prediction difference vs {}'.format(key, dividing_key))\n",
    "plt.show()"
   ]
  },
  {
   "cell_type": "code",
   "execution_count": null,
   "metadata": {
    "collapsed": false,
    "deletable": true,
    "editable": true
   },
   "outputs": [],
   "source": [
    "# make the chart\n",
    "num_groups = 5\n",
    "enrichment=[0]*num_groups\n",
    "name=list()\n",
    "bins=np.linspace(0, 1, num_groups+1)\n",
    "for i in range(num_groups):\n",
    "    subset = dataset[(dataset[dividing_key] >= bins[i]) & (dataset[dividing_key] < bins[i+1])]\n",
    "    r, a = predict_snv(model, subset, genome)\n",
    "    diff = r-a\n",
    "    enrichment[i] = sum([abs(d) for d in diff if abs(d) > 0])/len(diff)\n",
    "    name.append('{:.2f}-{:.2f}'.format(bins[i], bins[i+1]))\n",
    "    print('{}: {} total, {} with difference'.format(name[i], len(subset), len([d for d in diff if abs(d) > 0])))\n",
    "\n",
    "plt.title('Grouped prediction differnces for {} model'.format(key))\n",
    "plt.bar(range(num_groups), enrichment)\n",
    "plt.xticks(range(num_groups), name, rotation=45)\n",
    "plt.xlabel('{} groupings'.format(dividing_key))\n",
    "plt.ylabel('Average value for difference')\n",
    "plt.show()"
   ]
  },
  {
   "cell_type": "code",
   "execution_count": null,
   "metadata": {
    "collapsed": true,
    "deletable": true,
    "editable": true
   },
   "outputs": [],
   "source": []
  }
 ],
 "metadata": {
  "kernelspec": {
   "display_name": "Python 3",
   "language": "python",
   "name": "python3"
  }
 },
 "nbformat": 4,
 "nbformat_minor": 2
}
