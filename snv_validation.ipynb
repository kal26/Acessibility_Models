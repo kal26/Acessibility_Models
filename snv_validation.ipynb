{
 "cells": [
  {
   "cell_type": "markdown",
   "metadata": {},
   "source": [
    "make enrichment plots for snvs!"
   ]
  },
  {
   "cell_type": "code",
   "execution_count": 1,
   "metadata": {
    "collapsed": false
   },
   "outputs": [
    {
     "name": "stderr",
     "output_type": "stream",
     "text": [
      "Using TensorFlow backend.\n",
      "/home/kal/TF_models/bin/sequence.py:275: RuntimeWarning: divide by zero encountered in log\n",
      "  self.seq = helper.softmax(np.log(dist))\n"
     ]
    }
   ],
   "source": [
    "import sys\n",
    "sys.path.append('/home/kal/K27act_models/convolution_model/')\n",
    "sys.path.append('/home/kal/K27act_models/cg_model/')\n",
    "sys.path.append('/home/kal/TF_models/bin/')\n",
    "\n",
    "import sequence\n",
    "import train_TFmodel\n",
    "import pandas as pd\n",
    "import numpy as np\n",
    "import matplotlib.pyplot as plt\n",
    "import ucscgenome\n",
    "from tqdm import tqdm\n",
    "import datagen\n",
    "\n",
    "from keras.models import load_model\n",
    "import pickle\n",
    "\n",
    "\n",
    "#load in the DNA\n",
    "genome19 = ucscgenome.Genome('/home/kal/.ucscgenome/hg19.2bit')\n",
    "genome38 = ucscgenome.Genome('/home/kal/.ucscgenome/hg38.2bit')"
   ]
  },
  {
   "cell_type": "code",
   "execution_count": 38,
   "metadata": {
    "collapsed": false
   },
   "outputs": [],
   "source": [
    "# get some datasets!\n",
    "ibd_c = pd.read_table('/home/kal/K27act_models/eqtl_data/IBD_credible_sets.csv')\n",
    "ibd_all = pd.read_table('/home/kal/K27act_models/eqtl_data/IBD_list_of_varients.csv')\n",
    "eqtl = pd.read_table('/home/kal/K27act_models/eqtl_data/Cells_EBV-transformed_lymphocytes.hg38.txt')"
   ]
  },
  {
   "cell_type": "code",
   "execution_count": 3,
   "metadata": {
    "collapsed": false
   },
   "outputs": [],
   "source": [
    "# get some models! \n",
    "fbaseline_models = {'3f':pickle.load(open('/home/kal/K27act_models/cg_model/cg_cpg_atac_regression_fold_change.pk', 'rb'))}\n",
    "kbaseline_models = {'3k':pickle.load(open('/home/kal/K27act_models/cg_model/cg_cpg_atac_regression_k27act_norm.pk', 'rb'))}\n",
    "fml_models = {'fpwm':load_model('/home/kal/K27act_models/convolution_model/20180628_132455_fold_pwm/final_model.h5'), \n",
    "             'fconv':load_model('/home/kal/K27act_models/convolution_model/20180628_162107_conv_fold/final_model.h5')}\n",
    "#kml_models = {'kpwm':load_model('/home/kal/K27act_models/convolution_model/20180628_144341_counts_pwm/intermediate_weights/weights-13-3.704.hdf5')}"
   ]
  },
  {
   "cell_type": "code",
   "execution_count": 4,
   "metadata": {
    "collapsed": false
   },
   "outputs": [],
   "source": [
    "def snv_gen(peaks, genome, alt=False, seq_length=1024):\n",
    "    \"\"\"Generate sequnces from snv data.\n",
    "    \n",
    "    Arguments:\n",
    "        peaks -- from a bed file.\n",
    "        genome -- to pull bed from.\n",
    "    Keywords:\n",
    "        alt -- give alternate allele version.\n",
    "    Returns:\n",
    "        seq -- sequence with the alternate or refernce allele, centered around the position. \"\"\"\n",
    "    for index, row in peaks.iterrows():\n",
    "        try:\n",
    "            seq = datagen.get_sample(row, genome=genome)[0]\n",
    "            if alt:\n",
    "                new_seq = np.insert(sequence.encode_to_onehot(row.altAllele.lower()), 0, seq[seq_length//2:seq_length//2+len(row.altAllele)][:,0], axis=1)\n",
    "                part_seq = np.append(seq[:seq_length//2], new_seq, axis=0)\n",
    "                seq = np.append(part_seq, seq[seq_length//2+len(row.refAllele):], axis=0) \n",
    "            else:\n",
    "                new_seq = np.insert(sequence.encode_to_onehot(row.refAllele.lower()), 0, seq[seq_length//2:seq_length//2+len(row.refAllele)][:,0], axis=1)\n",
    "                part_seq = np.append(seq[:seq_length//2], new_seq, axis=0)\n",
    "                seq = np.append(part_seq, seq[seq_length//2+len(row.refAllele):], axis=0)\n",
    "            if (row.refAllele).lower()[0] != (genome[row.chr][row.position]).lower():\n",
    "                print('Should be {}'.format(genome[row.chr][row.position].lower()))\n",
    "                print('Actually is {}'.format(row.refAllele.lower()))\n",
    "                print('Alternate is {}'.format(row.altAllele.lower()))\n",
    "                raise IndexError('Reference allele does not match reference genome')\n",
    "            yield seq\n",
    "        except IndentationError as e:\n",
    "            print(e)\n",
    "            print(row)\n",
    "        "
   ]
  },
  {
   "cell_type": "code",
   "execution_count": 27,
   "metadata": {
    "collapsed": true
   },
   "outputs": [],
   "source": [
    "def predict_snv(model, peaks, genome=None, act=False):\n",
    "    \"\"\"Predict from a bed file with chr, position, refAllele, altAllele.\n",
    " \n",
    "    Arguments:\n",
    "        peaks -- the bed file in pd table form.\n",
    "    Keywords:\n",
    "        genome -- default is hg19.\n",
    "    Outputs:\n",
    "        refpreds -- predictions for each row with reference allele. \n",
    "        altpreds -- predictions for each row with alternate allele. \n",
    "    \"\"\"\n",
    "     # get the genome and bed file regions\n",
    "    if genome == None:\n",
    "        genome = ucscgenome.Genome('/home/kal/.ucscgenome/hg19.2bit')\n",
    "    # predict over the rows\n",
    "    refpreds = []\n",
    "    peaks['end'] = peaks['refend']\n",
    "    batchgen = train_TFmodel.filled_batch(snv_gen(peaks, genome, alt=False), fillvalue=np.zeros((1024, 5)))\n",
    "    for batch in batchgen:\n",
    "        if batch.shape == (32, 1024, 5):\n",
    "            refpreds.append(model.predict_on_batch(batch))\n",
    "    refpreds = np.asarray(refpreds).flatten()[:len(peaks)]\n",
    "\n",
    "    altpreds = []\n",
    "    peaks['end'] = peaks['altend']\n",
    "    batchgen = train_TFmodel.filled_batch(snv_gen(peaks, genome, alt=True), fillvalue=np.zeros((1024, 5)))\n",
    "    for batch in batchgen:\n",
    "        if batch.shape == (32, 1024, 5):\n",
    "            altpreds.append(model.predict_on_batch(batch))\n",
    "    altpreds = np.asarray(altpreds).flatten()[:len(peaks)]\n",
    "    return refpreds, altpreds\n"
   ]
  },
  {
   "cell_type": "code",
   "execution_count": 28,
   "metadata": {
    "collapsed": false,
    "scrolled": false
   },
   "outputs": [],
   "source": [
    "# prepare for testing\n",
    "for index, row in ibd_c.iterrows():\n",
    "    if len(row.refAllele) == len(row.altAllele):\n",
    "        ibd_c.at[index, 'altend'] = row.position+512\n",
    "    else:\n",
    "        ibd_c.at[index, 'altend'] = row.position+512 + len(row.refAllele) - len(row.altAllele)\n",
    "ibd_c['start'] = ibd_c.position-512\n",
    "ibd_c['refend'] = ibd_c.position+512\n",
    "ibd_c['score'] = np.nan\n",
    "ibd_c['altend'] = ibd_c['altend'].astype(int)\n",
    "\n",
    "ibd_c = ibd_c[(ibd_c['refAllele'] !='D') & (ibd_c['refAllele'] !='I')]# I can't deal with deletions or insertions"
   ]
  },
  {
   "cell_type": "code",
   "execution_count": 16,
   "metadata": {
    "collapsed": false
   },
   "outputs": [
    {
     "name": "stdout",
     "output_type": "stream",
     "text": [
      "(32, 1024, 5)\n",
      "(32, 1024, 5)\n",
      "(32, 1024, 5)\n",
      "(32, 1024, 5)\n",
      "(32, 1024, 5)\n"
     ]
    }
   ],
   "source": [
    "r, a = predict_snv(fml_models['fpwm'], ibd_c, genome19)"
   ]
  },
  {
   "cell_type": "code",
   "execution_count": 17,
   "metadata": {
    "collapsed": false
   },
   "outputs": [
    {
     "data": {
      "text/plain": [
       "Index(['HD', 'chr', 'signal', 'tier2', ' region_start ', ' region_end ',\n",
       "       ' region_len ', ' credible_start ', ' credible_end ', ' credible_len ',\n",
       "       'region_nSNP_total', 'region_nSNP_imp', 'region_nSNP_gen',\n",
       "       'credible_nSNP', 'credible_nSNP_extra1KG_highLD',\n",
       "       'credible_nSNP_extraUK10K_highLD', 'region_nGene', 'credible_nGene',\n",
       "       'p_multi', 'p_single', 'trait', 'trait.reassigned', 'Prob.lead',\n",
       "       'sharingBF', 'OR_CD', 'OR_UC', 'AF_1KG', 'AF_HC', 'AF_CD', 'AF_UC',\n",
       "       'INFO.best', 'variant.lead', 'position', 'refAllele', 'altAllele',\n",
       "       'all.variant', 'altend', 'start', 'refend', 'score', 'end'],\n",
       "      dtype='object')"
      ]
     },
     "execution_count": 17,
     "metadata": {},
     "output_type": "execute_result"
    }
   ],
   "source": [
    "ibd_c.keys()"
   ]
  },
  {
   "cell_type": "code",
   "execution_count": 18,
   "metadata": {
    "collapsed": false
   },
   "outputs": [
    {
     "data": {
      "image/png": "[encoded data removed]",
      "text/plain": [
       "<matplotlib.figure.Figure at 0x7fcdf037f860>"
      ]
     },
     "metadata": {},
     "output_type": "display_data"
    }
   ],
   "source": [
    "plt.hist(ibd_c['Prob.lead'])\n",
    "plt.title('P value distribution')\n",
    "plt.xlabel('P value')\n",
    "plt.ylabel('Number of samples')\n",
    "plt.show()"
   ]
  },
  {
   "cell_type": "code",
   "execution_count": 31,
   "metadata": {
    "collapsed": false
   },
   "outputs": [
    {
     "name": "stderr",
     "output_type": "stream",
     "text": [
      "/home/thouis/VENV/lib/python3.5/site-packages/ipykernel/__main__.py:17: SettingWithCopyWarning: \n",
      "A value is trying to be set on a copy of a slice from a DataFrame.\n",
      "Try using .loc[row_indexer,col_indexer] = value instead\n",
      "\n",
      "See the caveats in the documentation: http://pandas.pydata.org/pandas-docs/stable/indexing.html#indexing-view-versus-copy\n",
      "/home/thouis/VENV/lib/python3.5/site-packages/ipykernel/__main__.py:25: SettingWithCopyWarning: \n",
      "A value is trying to be set on a copy of a slice from a DataFrame.\n",
      "Try using .loc[row_indexer,col_indexer] = value instead\n",
      "\n",
      "See the caveats in the documentation: http://pandas.pydata.org/pandas-docs/stable/indexing.html#indexing-view-versus-copy\n"
     ]
    },
    {
     "data": {
      "image/png": "[encoded data removed]",
      "text/plain": [
       "<matplotlib.figure.Figure at 0x7fcdf040cc88>"
      ]
     },
     "metadata": {},
     "output_type": "display_data"
    }
   ],
   "source": [
    "num_groups = 8\n",
    "enrichment=[0]*num_groups\n",
    "name=list()\n",
    "bins=np.linspace(0, 1, num_groups+1)\n",
    "for i in range(num_groups):\n",
    "    ibd_subset = ibd_c[(ibd_c['Prob.lead'] >= bins[i]) & (ibd_c['Prob.lead'] < bins[i+1])]\n",
    "    r, a = predict_snv(fml_models['fpwm'], ibd_subset, genome19)\n",
    "    diff = r-a\n",
    "    enrichment[i] = len([d for d in diff if abs(d) > 0])/len(diff)\n",
    "    name.append('{:.2f}-{:.2f}'.format(bins[i], bins[i+1]))\n",
    "\n",
    "plt.bar(range(num_groups), enrichment)\n",
    "plt.xticks(range(num_groups), name)\n",
    "plt.show()"
   ]
  },
  {
   "cell_type": "code",
   "execution_count": 39,
   "metadata": {
    "collapsed": false
   },
   "outputs": [
    {
     "name": "stderr",
     "output_type": "stream",
     "text": [
      "100%|██████████| 239048/239048 [00:19<00:00, 12333.46it/s]\n"
     ]
    },
    {
     "name": "stdout",
     "output_type": "stream",
     "text": [
      "Index(['chr', 'chr.1', 'position', 'position.1', 'variant_id', 'refAllele',\n",
      "       'altAllele', 'gene_id', 'variant', 'prob.in.set', 'PosteriorProb',\n",
      "       'gene_name', 'CredibleSetSize', 'CredibleSet', 'CredibleSetName',\n",
      "       'median.expression', 'missingness', 'mappability.k50', 'tss_distance',\n",
      "       'ma_samples', 'ma_count', 'maf', 'pval_nominal', 'slope', 'slope_se',\n",
      "       'eqtl_name', 'altend', 'start', 'refend', 'score'],\n",
      "      dtype='object')\n"
     ]
    },
    {
     "data": {
      "text/html": [
       "<div>\n",
       "<table border=\"1\" class=\"dataframe\">\n",
       "  <thead>\n",
       "    <tr style=\"text-align: right;\">\n",
       "      <th></th>\n",
       "      <th>chr</th>\n",
       "      <th>chr.1</th>\n",
       "      <th>position</th>\n",
       "      <th>position.1</th>\n",
       "      <th>variant_id</th>\n",
       "      <th>refAllele</th>\n",
       "      <th>altAllele</th>\n",
       "      <th>gene_id</th>\n",
       "      <th>variant</th>\n",
       "      <th>prob.in.set</th>\n",
       "      <th>...</th>\n",
       "      <th>ma_count</th>\n",
       "      <th>maf</th>\n",
       "      <th>pval_nominal</th>\n",
       "      <th>slope</th>\n",
       "      <th>slope_se</th>\n",
       "      <th>eqtl_name</th>\n",
       "      <th>altend</th>\n",
       "      <th>start</th>\n",
       "      <th>refend</th>\n",
       "      <th>score</th>\n",
       "    </tr>\n",
       "  </thead>\n",
       "  <tbody>\n",
       "    <tr>\n",
       "      <th>0</th>\n",
       "      <td>chr10</td>\n",
       "      <td>chr10</td>\n",
       "      <td>100327280</td>\n",
       "      <td>100327280</td>\n",
       "      <td>chr10_100327281_T_C_b38</td>\n",
       "      <td>T</td>\n",
       "      <td>C</td>\n",
       "      <td>ENSG00000224934.2</td>\n",
       "      <td>102087038</td>\n",
       "      <td>0.019453</td>\n",
       "      <td>...</td>\n",
       "      <td>36</td>\n",
       "      <td>0.122449</td>\n",
       "      <td>0.000652</td>\n",
       "      <td>0.375461</td>\n",
       "      <td>0.107300</td>\n",
       "      <td>chr10:102087038:RP11-441O15.3</td>\n",
       "      <td>100327792</td>\n",
       "      <td>100326768</td>\n",
       "      <td>100327792</td>\n",
       "      <td>NaN</td>\n",
       "    </tr>\n",
       "    <tr>\n",
       "      <th>1</th>\n",
       "      <td>chr10</td>\n",
       "      <td>chr10</td>\n",
       "      <td>100327355</td>\n",
       "      <td>100327355</td>\n",
       "      <td>chr10_100327356_G_T_b38</td>\n",
       "      <td>G</td>\n",
       "      <td>T</td>\n",
       "      <td>ENSG00000224934.2</td>\n",
       "      <td>102087113</td>\n",
       "      <td>0.005739</td>\n",
       "      <td>...</td>\n",
       "      <td>58</td>\n",
       "      <td>0.197279</td>\n",
       "      <td>0.001981</td>\n",
       "      <td>-0.268628</td>\n",
       "      <td>0.084970</td>\n",
       "      <td>chr10:102087113:RP11-441O15.3</td>\n",
       "      <td>100327867</td>\n",
       "      <td>100326843</td>\n",
       "      <td>100327867</td>\n",
       "      <td>NaN</td>\n",
       "    </tr>\n",
       "    <tr>\n",
       "      <th>2</th>\n",
       "      <td>chr10</td>\n",
       "      <td>chr10</td>\n",
       "      <td>100343279</td>\n",
       "      <td>100343279</td>\n",
       "      <td>chr10_100343280_C_T_b38</td>\n",
       "      <td>C</td>\n",
       "      <td>T</td>\n",
       "      <td>ENSG00000119929.12</td>\n",
       "      <td>102103037</td>\n",
       "      <td>0.051836</td>\n",
       "      <td>...</td>\n",
       "      <td>33</td>\n",
       "      <td>0.112245</td>\n",
       "      <td>0.000046</td>\n",
       "      <td>0.452428</td>\n",
       "      <td>0.107065</td>\n",
       "      <td>chr10:102103037:CUTC</td>\n",
       "      <td>100343791</td>\n",
       "      <td>100342767</td>\n",
       "      <td>100343791</td>\n",
       "      <td>NaN</td>\n",
       "    </tr>\n",
       "    <tr>\n",
       "      <th>3</th>\n",
       "      <td>chr10</td>\n",
       "      <td>chr10</td>\n",
       "      <td>100345872</td>\n",
       "      <td>100345872</td>\n",
       "      <td>chr10_100345873_T_C_b38</td>\n",
       "      <td>T</td>\n",
       "      <td>C</td>\n",
       "      <td>ENSG00000119929.12</td>\n",
       "      <td>102105630</td>\n",
       "      <td>0.441053</td>\n",
       "      <td>...</td>\n",
       "      <td>32</td>\n",
       "      <td>0.108844</td>\n",
       "      <td>0.000003</td>\n",
       "      <td>0.502150</td>\n",
       "      <td>0.102816</td>\n",
       "      <td>chr10:102105630:CUTC</td>\n",
       "      <td>100346384</td>\n",
       "      <td>100345360</td>\n",
       "      <td>100346384</td>\n",
       "      <td>NaN</td>\n",
       "    </tr>\n",
       "    <tr>\n",
       "      <th>4</th>\n",
       "      <td>chr10</td>\n",
       "      <td>chr10</td>\n",
       "      <td>100367734</td>\n",
       "      <td>100367734</td>\n",
       "      <td>chr10_100367735_A_G_b38</td>\n",
       "      <td>A</td>\n",
       "      <td>G</td>\n",
       "      <td>ENSG00000119929.12</td>\n",
       "      <td>102127492</td>\n",
       "      <td>0.043166</td>\n",
       "      <td>...</td>\n",
       "      <td>40</td>\n",
       "      <td>0.136054</td>\n",
       "      <td>0.000060</td>\n",
       "      <td>-0.380238</td>\n",
       "      <td>0.091461</td>\n",
       "      <td>chr10:102127492:CUTC</td>\n",
       "      <td>100368246</td>\n",
       "      <td>100367222</td>\n",
       "      <td>100368246</td>\n",
       "      <td>NaN</td>\n",
       "    </tr>\n",
       "  </tbody>\n",
       "</table>\n",
       "<p>5 rows × 30 columns</p>\n",
       "</div>"
      ],
      "text/plain": [
       "     chr  chr.1   position  position.1               variant_id refAllele  \\\n",
       "0  chr10  chr10  100327280   100327280  chr10_100327281_T_C_b38         T   \n",
       "1  chr10  chr10  100327355   100327355  chr10_100327356_G_T_b38         G   \n",
       "2  chr10  chr10  100343279   100343279  chr10_100343280_C_T_b38         C   \n",
       "3  chr10  chr10  100345872   100345872  chr10_100345873_T_C_b38         T   \n",
       "4  chr10  chr10  100367734   100367734  chr10_100367735_A_G_b38         A   \n",
       "\n",
       "  altAllele             gene_id    variant  prob.in.set  ...    ma_count  \\\n",
       "0         C   ENSG00000224934.2  102087038     0.019453  ...          36   \n",
       "1         T   ENSG00000224934.2  102087113     0.005739  ...          58   \n",
       "2         T  ENSG00000119929.12  102103037     0.051836  ...          33   \n",
       "3         C  ENSG00000119929.12  102105630     0.441053  ...          32   \n",
       "4         G  ENSG00000119929.12  102127492     0.043166  ...          40   \n",
       "\n",
       "        maf  pval_nominal     slope  slope_se                      eqtl_name  \\\n",
       "0  0.122449      0.000652  0.375461  0.107300  chr10:102087038:RP11-441O15.3   \n",
       "1  0.197279      0.001981 -0.268628  0.084970  chr10:102087113:RP11-441O15.3   \n",
       "2  0.112245      0.000046  0.452428  0.107065           chr10:102103037:CUTC   \n",
       "3  0.108844      0.000003  0.502150  0.102816           chr10:102105630:CUTC   \n",
       "4  0.136054      0.000060 -0.380238  0.091461           chr10:102127492:CUTC   \n",
       "\n",
       "      altend      start     refend  score  \n",
       "0  100327792  100326768  100327792    NaN  \n",
       "1  100327867  100326843  100327867    NaN  \n",
       "2  100343791  100342767  100343791    NaN  \n",
       "3  100346384  100345360  100346384    NaN  \n",
       "4  100368246  100367222  100368246    NaN  \n",
       "\n",
       "[5 rows x 30 columns]"
      ]
     },
     "execution_count": 39,
     "metadata": {},
     "output_type": "execute_result"
    }
   ],
   "source": [
    "# prepare for testing\n",
    "for index, row in tqdm(eqtl.iterrows(), total=len(eqtl)):\n",
    "    if len(row.refAllele) == len(row.altAllele):\n",
    "        eqtl.at[index, 'altend'] = row.position+512\n",
    "    else:\n",
    "        eqtl.at[index, 'altend'] = row.position+512 + len(row.refAllele) - len(row.altAllele)\n",
    "eqtl['start'] = eqtl.position-512\n",
    "eqtl['refend'] = eqtl.position+512\n",
    "eqtl['score'] = np.nan\n",
    "eqtl['altend'] = eqtl['altend'].astype(int)\n",
    "\n",
    "eqtl = eqtl[(eqtl['refAllele'] !='D') & (eqtl['refAllele'] !='I')]# I can't deal with deletions or insertions\n",
    "\n",
    "print(eqtl.keys())\n",
    "eqtl.head()"
   ]
  },
  {
   "cell_type": "code",
   "execution_count": 37,
   "metadata": {
    "collapsed": false
   },
   "outputs": [
    {
     "name": "stderr",
     "output_type": "stream",
     "text": [
      "\r",
      "  0%|          | 0/8 [00:00<?, ?it/s]"
     ]
    },
    {
     "name": "stdout",
     "output_type": "stream",
     "text": [
      "Should be t\n",
      "Actually is a\n",
      "Alternate is g\n"
     ]
    },
    {
     "name": "stderr",
     "output_type": "stream",
     "text": [
      "/home/thouis/VENV/lib/python3.5/site-packages/ipykernel/__main__.py:17: SettingWithCopyWarning: \n",
      "A value is trying to be set on a copy of a slice from a DataFrame.\n",
      "Try using .loc[row_indexer,col_indexer] = value instead\n",
      "\n",
      "See the caveats in the documentation: http://pandas.pydata.org/pandas-docs/stable/indexing.html#indexing-view-versus-copy\n",
      "\n"
     ]
    },
    {
     "ename": "IndexError",
     "evalue": "Reference allele does not match reference genome",
     "output_type": "error",
     "traceback": [
      "\u001b[0;31m---------------------------------------------------------------------------\u001b[0m",
      "\u001b[0;31mIndexError\u001b[0m                                Traceback (most recent call last)",
      "\u001b[0;32m<ipython-input-37-d1326cd50551>\u001b[0m in \u001b[0;36m<module>\u001b[0;34m()\u001b[0m\n\u001b[1;32m      8\u001b[0m \u001b[0;32mfor\u001b[0m \u001b[0mi\u001b[0m \u001b[0;32min\u001b[0m \u001b[0mtqdm\u001b[0m\u001b[0;34m(\u001b[0m\u001b[0mrange\u001b[0m\u001b[0;34m(\u001b[0m\u001b[0mnum_groups\u001b[0m\u001b[0;34m)\u001b[0m\u001b[0;34m)\u001b[0m\u001b[0;34m:\u001b[0m\u001b[0;34m\u001b[0m\u001b[0m\n\u001b[1;32m      9\u001b[0m     \u001b[0mtest_subset\u001b[0m \u001b[0;34m=\u001b[0m \u001b[0mtest\u001b[0m\u001b[0;34m[\u001b[0m\u001b[0;34m(\u001b[0m\u001b[0mtest\u001b[0m\u001b[0;34m[\u001b[0m\u001b[0msplit_column\u001b[0m\u001b[0;34m]\u001b[0m \u001b[0;34m>=\u001b[0m \u001b[0mbins\u001b[0m\u001b[0;34m[\u001b[0m\u001b[0mi\u001b[0m\u001b[0;34m]\u001b[0m\u001b[0;34m)\u001b[0m \u001b[0;34m&\u001b[0m \u001b[0;34m(\u001b[0m\u001b[0mtest\u001b[0m\u001b[0;34m[\u001b[0m\u001b[0msplit_column\u001b[0m\u001b[0;34m]\u001b[0m \u001b[0;34m<\u001b[0m \u001b[0mbins\u001b[0m\u001b[0;34m[\u001b[0m\u001b[0mi\u001b[0m\u001b[0;34m+\u001b[0m\u001b[0;36m1\u001b[0m\u001b[0;34m]\u001b[0m\u001b[0;34m)\u001b[0m\u001b[0;34m]\u001b[0m\u001b[0;34m\u001b[0m\u001b[0m\n\u001b[0;32m---> 10\u001b[0;31m     \u001b[0mr\u001b[0m\u001b[0;34m,\u001b[0m \u001b[0ma\u001b[0m \u001b[0;34m=\u001b[0m \u001b[0mpredict_snv\u001b[0m\u001b[0;34m(\u001b[0m\u001b[0mfml_models\u001b[0m\u001b[0;34m[\u001b[0m\u001b[0;34m'fpwm'\u001b[0m\u001b[0;34m]\u001b[0m\u001b[0;34m,\u001b[0m \u001b[0mtest_subset\u001b[0m\u001b[0;34m,\u001b[0m \u001b[0mgenome38\u001b[0m\u001b[0;34m)\u001b[0m\u001b[0;34m\u001b[0m\u001b[0m\n\u001b[0m\u001b[1;32m     11\u001b[0m     \u001b[0mdiff\u001b[0m \u001b[0;34m=\u001b[0m \u001b[0mr\u001b[0m\u001b[0;34m-\u001b[0m\u001b[0ma\u001b[0m\u001b[0;34m\u001b[0m\u001b[0m\n\u001b[1;32m     12\u001b[0m     \u001b[0menrichment\u001b[0m\u001b[0;34m[\u001b[0m\u001b[0mi\u001b[0m\u001b[0;34m]\u001b[0m \u001b[0;34m=\u001b[0m \u001b[0mlen\u001b[0m\u001b[0;34m(\u001b[0m\u001b[0;34m[\u001b[0m\u001b[0md\u001b[0m \u001b[0;32mfor\u001b[0m \u001b[0md\u001b[0m \u001b[0;32min\u001b[0m \u001b[0mdiff\u001b[0m \u001b[0;32mif\u001b[0m \u001b[0mabs\u001b[0m\u001b[0;34m(\u001b[0m\u001b[0md\u001b[0m\u001b[0;34m)\u001b[0m \u001b[0;34m>\u001b[0m \u001b[0;36m0\u001b[0m\u001b[0;34m]\u001b[0m\u001b[0;34m)\u001b[0m\u001b[0;34m/\u001b[0m\u001b[0mlen\u001b[0m\u001b[0;34m(\u001b[0m\u001b[0mdiff\u001b[0m\u001b[0;34m)\u001b[0m\u001b[0;34m\u001b[0m\u001b[0m\n",
      "\u001b[0;32m<ipython-input-27-ce0b255918d8>\u001b[0m in \u001b[0;36mpredict_snv\u001b[0;34m(model, peaks, genome, act)\u001b[0m\n\u001b[1;32m     17\u001b[0m     \u001b[0mpeaks\u001b[0m\u001b[0;34m[\u001b[0m\u001b[0;34m'end'\u001b[0m\u001b[0;34m]\u001b[0m \u001b[0;34m=\u001b[0m \u001b[0mpeaks\u001b[0m\u001b[0;34m[\u001b[0m\u001b[0;34m'refend'\u001b[0m\u001b[0;34m]\u001b[0m\u001b[0;34m\u001b[0m\u001b[0m\n\u001b[1;32m     18\u001b[0m     \u001b[0mbatchgen\u001b[0m \u001b[0;34m=\u001b[0m \u001b[0mtrain_TFmodel\u001b[0m\u001b[0;34m.\u001b[0m\u001b[0mfilled_batch\u001b[0m\u001b[0;34m(\u001b[0m\u001b[0msnv_gen\u001b[0m\u001b[0;34m(\u001b[0m\u001b[0mpeaks\u001b[0m\u001b[0;34m,\u001b[0m \u001b[0mgenome\u001b[0m\u001b[0;34m,\u001b[0m \u001b[0malt\u001b[0m\u001b[0;34m=\u001b[0m\u001b[0;32mFalse\u001b[0m\u001b[0;34m)\u001b[0m\u001b[0;34m,\u001b[0m \u001b[0mfillvalue\u001b[0m\u001b[0;34m=\u001b[0m\u001b[0mnp\u001b[0m\u001b[0;34m.\u001b[0m\u001b[0mzeros\u001b[0m\u001b[0;34m(\u001b[0m\u001b[0;34m(\u001b[0m\u001b[0;36m1024\u001b[0m\u001b[0;34m,\u001b[0m \u001b[0;36m5\u001b[0m\u001b[0;34m)\u001b[0m\u001b[0;34m)\u001b[0m\u001b[0;34m)\u001b[0m\u001b[0;34m\u001b[0m\u001b[0m\n\u001b[0;32m---> 19\u001b[0;31m     \u001b[0;32mfor\u001b[0m \u001b[0mbatch\u001b[0m \u001b[0;32min\u001b[0m \u001b[0mbatchgen\u001b[0m\u001b[0;34m:\u001b[0m\u001b[0;34m\u001b[0m\u001b[0m\n\u001b[0m\u001b[1;32m     20\u001b[0m         \u001b[0;32mif\u001b[0m \u001b[0mbatch\u001b[0m\u001b[0;34m.\u001b[0m\u001b[0mshape\u001b[0m \u001b[0;34m==\u001b[0m \u001b[0;34m(\u001b[0m\u001b[0;36m32\u001b[0m\u001b[0;34m,\u001b[0m \u001b[0;36m1024\u001b[0m\u001b[0;34m,\u001b[0m \u001b[0;36m5\u001b[0m\u001b[0;34m)\u001b[0m\u001b[0;34m:\u001b[0m\u001b[0;34m\u001b[0m\u001b[0m\n\u001b[1;32m     21\u001b[0m             \u001b[0mrefpreds\u001b[0m\u001b[0;34m.\u001b[0m\u001b[0mappend\u001b[0m\u001b[0;34m(\u001b[0m\u001b[0mmodel\u001b[0m\u001b[0;34m.\u001b[0m\u001b[0mpredict_on_batch\u001b[0m\u001b[0;34m(\u001b[0m\u001b[0mbatch\u001b[0m\u001b[0;34m)\u001b[0m\u001b[0;34m)\u001b[0m\u001b[0;34m\u001b[0m\u001b[0m\n",
      "\u001b[0;32m/home/kal/TF_models/bin/train_TFmodel.py\u001b[0m in \u001b[0;36mfilled_batch\u001b[0;34m(iterable, batch_size, fillvalue)\u001b[0m\n\u001b[1;32m     32\u001b[0m     \u001b[0mgroups\u001b[0m \u001b[0;34m=\u001b[0m \u001b[0mgrouper\u001b[0m\u001b[0;34m(\u001b[0m\u001b[0miterable\u001b[0m\u001b[0;34m,\u001b[0m \u001b[0mbatch_size\u001b[0m\u001b[0;34m,\u001b[0m \u001b[0mfillvalue\u001b[0m\u001b[0;34m=\u001b[0m\u001b[0mfillvalue\u001b[0m\u001b[0;34m)\u001b[0m\u001b[0;34m\u001b[0m\u001b[0m\n\u001b[1;32m     33\u001b[0m     \u001b[0;32mwhile\u001b[0m \u001b[0;32mTrue\u001b[0m\u001b[0;34m:\u001b[0m\u001b[0;34m\u001b[0m\u001b[0m\n\u001b[0;32m---> 34\u001b[0;31m         \u001b[0;32myield\u001b[0m \u001b[0mnp\u001b[0m\u001b[0;34m.\u001b[0m\u001b[0masarray\u001b[0m\u001b[0;34m(\u001b[0m\u001b[0mnext\u001b[0m\u001b[0;34m(\u001b[0m\u001b[0mgroups\u001b[0m\u001b[0;34m)\u001b[0m\u001b[0;34m)\u001b[0m\u001b[0;34m\u001b[0m\u001b[0m\n\u001b[0m\u001b[1;32m     35\u001b[0m \u001b[0;34m\u001b[0m\u001b[0m\n\u001b[1;32m     36\u001b[0m \u001b[0;32mdef\u001b[0m \u001b[0mrandom_seq\u001b[0m\u001b[0;34m(\u001b[0m\u001b[0;34m)\u001b[0m\u001b[0;34m:\u001b[0m\u001b[0;34m\u001b[0m\u001b[0m\n",
      "\u001b[0;32m<ipython-input-4-132ad57c54f2>\u001b[0m in \u001b[0;36msnv_gen\u001b[0;34m(peaks, genome, alt, seq_length)\u001b[0m\n\u001b[1;32m     24\u001b[0m                 \u001b[0mprint\u001b[0m\u001b[0;34m(\u001b[0m\u001b[0;34m'Actually is {}'\u001b[0m\u001b[0;34m.\u001b[0m\u001b[0mformat\u001b[0m\u001b[0;34m(\u001b[0m\u001b[0mrow\u001b[0m\u001b[0;34m.\u001b[0m\u001b[0mrefAllele\u001b[0m\u001b[0;34m.\u001b[0m\u001b[0mlower\u001b[0m\u001b[0;34m(\u001b[0m\u001b[0;34m)\u001b[0m\u001b[0;34m)\u001b[0m\u001b[0;34m)\u001b[0m\u001b[0;34m\u001b[0m\u001b[0m\n\u001b[1;32m     25\u001b[0m                 \u001b[0mprint\u001b[0m\u001b[0;34m(\u001b[0m\u001b[0;34m'Alternate is {}'\u001b[0m\u001b[0;34m.\u001b[0m\u001b[0mformat\u001b[0m\u001b[0;34m(\u001b[0m\u001b[0mrow\u001b[0m\u001b[0;34m.\u001b[0m\u001b[0maltAllele\u001b[0m\u001b[0;34m.\u001b[0m\u001b[0mlower\u001b[0m\u001b[0;34m(\u001b[0m\u001b[0;34m)\u001b[0m\u001b[0;34m)\u001b[0m\u001b[0;34m)\u001b[0m\u001b[0;34m\u001b[0m\u001b[0m\n\u001b[0;32m---> 26\u001b[0;31m                 \u001b[0;32mraise\u001b[0m \u001b[0mIndexError\u001b[0m\u001b[0;34m(\u001b[0m\u001b[0;34m'Reference allele does not match reference genome'\u001b[0m\u001b[0;34m)\u001b[0m\u001b[0;34m\u001b[0m\u001b[0m\n\u001b[0m\u001b[1;32m     27\u001b[0m             \u001b[0;32myield\u001b[0m \u001b[0mseq\u001b[0m\u001b[0;34m\u001b[0m\u001b[0m\n\u001b[1;32m     28\u001b[0m         \u001b[0;32mexcept\u001b[0m \u001b[0mIndentationError\u001b[0m \u001b[0;32mas\u001b[0m \u001b[0me\u001b[0m\u001b[0;34m:\u001b[0m\u001b[0;34m\u001b[0m\u001b[0m\n",
      "\u001b[0;31mIndexError\u001b[0m: Reference allele does not match reference genome"
     ]
    }
   ],
   "source": [
    "test = eqtl.sample(100)\n",
    "split_column = 'PosteriorProb'\n",
    "\n",
    "num_groups = 8\n",
    "enrichment=[0]*num_groups\n",
    "name=list()\n",
    "bins=np.linspace(0, 1, num_groups+1)\n",
    "for i in tqdm(range(num_groups)):\n",
    "    test_subset = test[(test[split_column] >= bins[i]) & (test[split_column] < bins[i+1])]\n",
    "    r, a = predict_snv(fml_models['fpwm'], test_subset, genome38)\n",
    "    diff = r-a\n",
    "    enrichment[i] = len([d for d in diff if abs(d) > 0])/len(diff)\n",
    "    name.append('{:.2f}-{:.2f}'.format(bins[i], bins[i+1]))\n",
    "\n",
    "plt.bar(range(num_groups), enrichment)\n",
    "plt.xticks(range(num_groups), name)\n",
    "plt.show()"
   ]
  },
  {
   "cell_type": "code",
   "execution_count": null,
   "metadata": {
    "collapsed": true
   },
   "outputs": [],
   "source": []
  }
 ],
 "metadata": {
  "kernelspec": {
   "display_name": "Python 3",
   "language": "python",
   "name": "python3"
  },
  "language_info": {
   "codemirror_mode": {
    "name": "ipython",
    "version": 3
   },
   "file_extension": ".py",
   "mimetype": "text/x-python",
   "name": "python",
   "nbconvert_exporter": "python",
   "pygments_lexer": "ipython3",
   "version": "3.5.2"
  }
 },
 "nbformat": 4,
 "nbformat_minor": 2
}
