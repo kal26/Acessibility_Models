{
 "cells": [
  {
   "cell_type": "raw",
   "metadata": {
    "deletable": true,
    "editable": true
   },
   "source": [
    "Train a convolutional model to predict log counts of K27act from sequence and atac\n",
    "    uses a series of residually conected convolutions\n",
    "    uses gradient lasso for interpratibility"
   ]
  },
  {
   "cell_type": "code",
   "execution_count": 1,
   "metadata": {
    "collapsed": false,
    "deletable": true,
    "editable": true
   },
   "outputs": [
    {
     "name": "stdout",
     "output_type": "stream",
     "text": [
      "['', '/usr/lib/python35.zip', '/usr/lib/python3.5', '/usr/lib/python3.5/plat-x86_64-linux-gnu', '/usr/lib/python3.5/lib-dynload', '/home/kal/VENV/lib/python3.5/site-packages/', '/home/kal/VENV/lib64/python3.5/site-packages/', '/home/kal/VENV/lib/python3.5/site-packages/IPython/extensions/', '/home/kal/K27act_models/bin/', '/home/kal/TF_models/bin/', '/home/kal/.ipython']\n"
     ]
    },
    {
     "name": "stderr",
     "output_type": "stream",
     "text": [
      "Using TensorFlow backend.\n",
      "/home/kal/TF_models/bin/sequence.py:275: RuntimeWarning: divide by zero encountered in log\n",
      "  self.seq = helper.softmax(np.log(dist))\n"
     ]
    }
   ],
   "source": [
    "import change_path\n",
    "import os\n",
    "os.environ['CUDA_VISIBLE_DEVICES'] = '0'\n",
    "\n",
    "\n",
    "import tf_memory_limit\n",
    "from zinb import ZINB\n",
    "import seaborn as sns\n",
    "import h5py\n",
    "import matplotlib.pyplot as plt\n",
    "from keras.utils import plot_model\n",
    "\n",
    "import pandas as pd\n",
    "import numpy as np\n",
    "import itertools\n",
    "import sequence\n",
    "import ucscgenome\n",
    "from tqdm import tqdm\n",
    "import time\n",
    "import datagen\n",
    "import sequence\n",
    "import helper\n",
    "import viz_sequence\n",
    "import pickle\n",
    "import training_tools\n",
    "\n",
    "from keras.models import Model, load_model\n",
    "from keras.layers import Input, Dense, SpatialDropout1D, Conv1D, Lambda \n",
    "from keras.layers import Dropout, Activation, Concatenate, MaxPooling1D, AveragePooling1D, Flatten\n",
    "from keras import layers\n",
    "from keras.optimizers import RMSprop, SGD\n",
    "from keras.callbacks import EarlyStopping, Callback, ModelCheckpoint\n",
    "from keras import backend as K\n",
    "import tensorflow as tf\n",
    "\n",
    "import matplotlib as mpl\n",
    "mpl.rcParams.update(mpl.rcParamsDefault)\n",
    "%matplotlib inline"
   ]
  },
  {
   "cell_type": "code",
   "execution_count": 2,
   "metadata": {
    "collapsed": false,
    "deletable": true,
    "editable": true
   },
   "outputs": [
    {
     "data": {
      "image/png": "[encoded data removed]",
      "text/plain": [
       "<matplotlib.figure.Figure at 0x7fc5b9d7c128>"
      ]
     },
     "metadata": {},
     "output_type": "display_data"
    }
   ],
   "source": [
    "# load in data\n",
    "\n",
    "#load in the DNA\n",
    "genome = ucscgenome.Genome('/home/kal/.ucscgenome/hg19.2bit')\n",
    "\n",
    "# load in ATAC data\n",
    "atac_path = '/home/kal/K27act_models/GM_data/ATAC/atac_average.hdf5'\n",
    "atac = h5py.File(atac_path, 'r')\n",
    "\n",
    "# load in preprocessed data\n",
    "peaks_path = '/home/kal/K27act_models/GM_data/k27act_training_regions.bed'\n",
    "peaks = pd.read_table(peaks_path, header=None)\n",
    "#note we make the 'k27act' column the 'score' column for the correct training behavior\n",
    "peaks.columns='chr start end name fold_change atac k27act nucs'.split() \n",
    "peaks['score'] = np.log(peaks['k27act'] + 1)\n",
    "\n",
    "# make a histogram of score\n",
    "plt.hist(peaks['score'], bins=50)\n",
    "plt.title('Score Distributions for ML training(log K27act)')\n",
    "plt.ylabel('Number of samples')\n",
    "plt.xlabel('Log(K27act + 1)')\n",
    "plt.show()"
   ]
  },
  {
   "cell_type": "code",
   "execution_count": 3,
   "metadata": {
    "collapsed": false,
    "deletable": true,
    "editable": true,
    "scrolled": false
   },
   "outputs": [],
   "source": [
    "def make_residual_model(get_grads=False, atac_only=False, seq_only=False, batch_size=32):\n",
    "    \n",
    "    num_blocks=2\n",
    "    \n",
    "    # model's input\n",
    "    if atac_only:\n",
    "         seqs = Input(batch_shape=(batch_size, 1024, 1), name='input_seqs')\n",
    "    elif seq_only:\n",
    "        seqs = Input(batch_shape=(batch_size, 1024, 4), name='input_seqs')\n",
    "    else:\n",
    "        seqs = Input(batch_shape=(batch_size, 1024, 5), name='input_seqs')\n",
    "    num_outputs=1\n",
    "\n",
    "    #build custom functions\n",
    "    def add_RC(x):\n",
    "        if atac_only:\n",
    "            RC = x[:, ::-1, ::-1]\n",
    "        elif seq_only:\n",
    "             RC = x[:, ::-1, ::-1]\n",
    "        else:\n",
    "            RC = K.concatenate([x[:, ::-1, :1], x[:, ::-1, 1:][::-1]], axis=2)\n",
    "        return K.concatenate([x, RC], axis=0)\n",
    "    def add_RC_shape(s):\n",
    "        return 2*s[0], s[1], s[2]\n",
    "\n",
    "    # add the rc, do a convolution w/o activation and combine down then take concat activation across forward and reverse\n",
    "    add_rc = Lambda(add_RC, name='add_rc', output_shape=add_RC_shape)\n",
    "    conv1 = Conv1D(256, 9, name='conv_in', padding='same', activation='relu')\n",
    "    conv_drop1 = SpatialDropout1D(0.2, name='dropout')\n",
    "    fr_conv = Lambda(lambda x: K.concatenate([x[:x.shape[0]//2, :, :], x[x.shape[0]//2:, ::-1, :]], axis=2), \n",
    "                       name='stack_fr', output_shape=lambda s: (s[0] // 2, s[1], s[2] * 2))\n",
    "    ds1 = MaxPooling1D(pool_size=4, name='downsample1')\n",
    "    down = Conv1D(128, 1, activation='relu', name='downsample_features')\n",
    "    conv1_seqs = down(conv_drop1(fr_conv(conv1(add_rc(seqs)))))\n",
    "    # second convolution\n",
    " #   conv2 = Conv1D(128, 5, activation='relu', name='conv2', padding='same')\n",
    " #   conv_drop2 = SpatialDropout1D(0.1, name='conv_drop2')\n",
    " #   ds2 = MaxPooling1D(pool_size=4, name='downsample2')                          \n",
    " #   conv2_seqs = layers.add([ds1(conv1_seqs), conv_drop2(conv2(ds1(conv1_seqs)))])\n",
    "    # third convolution\n",
    " #   conv3 = Conv1D(128, 5, activation='relu', name='conv3', padding='same')\n",
    " #   conv_drop3 = SpatialDropout1D(0.1, name='conv_drop3')\n",
    " #   ds3 = MaxPooling1D(pool_size=4, name='downsample3')                                \n",
    " #   conv3_seqs = layers.add([ds2(ds1(conv1_seqs)), conv_drop3(conv3(ds2(conv2_seqs)))])                                \n",
    "    # forth convolution                               \n",
    " #   conv4 = Conv1D(128, 3, activation='relu', name='conv4', padding='same')\n",
    " #   conv_drop4 = SpatialDropout1D(0.1, name='conv_drop4')                                \n",
    " #   conv4_seqs = layers.add([ds3(ds2(ds1(conv1_seqs))), conv_drop4(conv4(ds3(conv3_seqs)))])\n",
    "                                \n",
    "    # smooth and flatten                         \n",
    " #   smooth = AveragePooling1D(pool_size=4, strides=4, padding='valid')\n",
    " #   flat = Flatten()\n",
    "    #conv_out = flat(smooth(conv4_seqs))\n",
    "    conv_out = Lambda(lambda x: K.sum(x, axis=1), name='sum_seq', output_shape=lambda s: (s[0], s[2]))(conv1_seqs)\n",
    "\n",
    "    # dense layers                                 \n",
    "    dense1 = Dense(64, activation='relu')\n",
    "    drop1 = Dropout(0.2)\n",
    "    dense2 = Dense(1, activation='relu')\n",
    "\n",
    "    preds = dense2(drop1(dense1(conv_out)))\n",
    "\n",
    "    # build the model\n",
    "    model = Model(inputs=seqs, outputs=preds)\n",
    "    model.summary()\n",
    "    if get_grads:\n",
    "        grads = K.gradients(preds, seqs)[0]\n",
    "        return model, grads\n",
    "    return model"
   ]
  },
  {
   "cell_type": "code",
   "execution_count": 4,
   "metadata": {
    "collapsed": false,
    "scrolled": false
   },
   "outputs": [
    {
     "data": {
      "image/png": "[encoded data removed]",
      "text/plain": [
       "<matplotlib.figure.Figure at 0x7fc5a613c908>"
      ]
     },
     "metadata": {},
     "output_type": "display_data"
    },
    {
     "name": "stdout",
     "output_type": "stream",
     "text": [
      "Model moved to /home/kal/K27act_models/residual_models/20180802_105704_lasso_loss\n"
     ]
    }
   ],
   "source": [
    "out_dir = '/home/kal/K27act_models/residual_models/'\n",
    "\n",
    "# initial models to test\n",
    "\n",
    "training_tools.train_model(out_dir, make_residual_model, peaks, 'lasso_loss', use_lasso=True, lr_sched=([0,5], [1e-05, 1e-07]))"
   ]
  },
  {
   "cell_type": "code",
   "execution_count": null,
   "metadata": {
    "collapsed": false
   },
   "outputs": [],
   "source": [
    "# look at loss\n",
    "losses = pickle.load(open('/home/kal/K27act_models/residual_models/20180801_174845_lasso_loss/history/history.pk', 'rb'))\n",
    "\n",
    "plt.plot(losses['val_loss'], label='validation')\n",
    "plt.plot(losses['loss'], label='training')\n",
    "plt.title('Loss for training model')\n",
    "plt.xlabel('Epoch')\n",
    "plt.ylabel('Loss')\n",
    "plt.ylim(0, 10)\n",
    "plt.legend()\n",
    "plt.show()"
   ]
  },
  {
   "cell_type": "code",
   "execution_count": null,
   "metadata": {
    "collapsed": false
   },
   "outputs": [],
   "source": [
    "from keras.losses import mae\n",
    "\n",
    "base = {'Regression':pickle.load(open('/home/kal/K27act_models/cg_model/cg_cpg_atac_regression_k27act_norm.pk', 'rb'))}\n",
    "# keras models\n",
    "custom_dict = {'loss_with_grad':mae, 'grad_penalty':mae}\n",
    "mls = {'Residual':load_model('/home/kal/K27act_models/residual_models/20180801_174845_lasso_loss/final_model.h5', custom_objects=custom_dict)} \n",
    "save_dir={'Convolution':'/home/kal/K27act_models/residual_models/20180801_174845_lasso_loss/'}"
   ]
  },
  {
   "cell_type": "code",
   "execution_count": null,
   "metadata": {
    "collapsed": false
   },
   "outputs": [],
   "source": [
    "d = evaluation_tools.compare_models(subpeaks.sample(3200), kbaselines=kbaseline_models, logkmls=logkml_models, save_dir=save_dir)"
   ]
  },
  {
   "cell_type": "code",
   "execution_count": null,
   "metadata": {
    "collapsed": false,
    "deletable": true,
    "editable": true
   },
   "outputs": [],
   "source": [
    "# model's input\n",
    "from keras.losses import mae\n",
    "\n",
    "batch_size=32\n",
    "seqs = Input(batch_shape=(batch_size, 1024, 5), name='input_seqs')\n",
    "num_outputs=1\n",
    "\n",
    "#build custom functions\n",
    "def add_RC(x):\n",
    "    RC = K.concatenate([x[:, ::-1, :1], x[:, ::-1, 1:][::-1]], axis=2)\n",
    "    return K.concatenate([x, RC], axis=0)\n",
    "def add_RC_shape(s):\n",
    "    return 2*s[0], s[1], s[2]\n",
    "\n",
    "# add the rc\n",
    "add_rc = Lambda(add_RC, name='add_rc', output_shape=add_RC_shape)\n",
    "\n",
    "# do a series of convolutions and max pools\n",
    "\n",
    "#first convolution is on seqs and reverse complements with dense downsampling\n",
    "conv1 = Conv1D(256, 9, activation=None, name='conv1', padding='same')\n",
    "fr_comb = Lambda(lambda x: K.concatenate([x[:x.shape[0]//2, :, :], x[x.shape[0]//2:, ::-1, :]], axis=2), \n",
    "                       name='stack_fr', output_shape=lambda s: (s[0] // 2, s[1], s[2] * 2))\n",
    "conv_drop1 = SpatialDropout1D(0.1, name='conv_drop1')\n",
    "ds1 = MaxPooling1D(pool_size=4, name='downsample1')\n",
    "down_conv = Conv1D(128, 1, activation='relu', name='downsample_features')\n",
    "conv1_seqs = down(conv_drop1(fr_comb(conv1(add_rc(seqs)))))\n",
    "# second convolution\n",
    "conv2 = Conv1D(128, 5, activation='relu', name='conv2', padding='same')\n",
    "conv_drop2 = SpatialDropout1D(0.1, name='conv_drop2')\n",
    "ds2 = MaxPooling1D(pool_size=4, name='downsample2')                          \n",
    "conv2_seqs = layers.add([ds1(conv1_seqs), conv_drop2(conv2(ds1(conv1_seqs)))])\n",
    "# third convolution\n",
    "conv3 = Conv1D(128, 5, activation='relu', name='conv3', padding='same')\n",
    "conv_drop3 = SpatialDropout1D(0.1, name='conv_drop3')\n",
    "ds3 = MaxPooling1D(pool_size=4, name='downsample3')                                \n",
    "conv3_seqs = layers.add([ds2(ds1(conv1_seqs)), conv_drop3(conv3(ds2(conv2_seqs)))])                                \n",
    "# forth convolution                               \n",
    "conv4 = Conv1D(128, 3, activation='relu', name='conv4', padding='same')\n",
    "conv_drop4 = SpatialDropout1D(0.1, name='conv_drop4')                                \n",
    "conv4_seqs = layers.add([ds3(ds2(ds1(conv1_seqs))), conv_drop4(conv4(ds3(conv3_seqs)))])\n",
    "                                \n",
    "# smooth and flatten                         \n",
    "smooth = AveragePooling1D(pool_size=4, strides=4, padding='valid')\n",
    "flat = Flatten()\n",
    "#conv_out = flat(smooth(conv4_seqs))\n",
    "conv_out = Lambda(lambda x: K.sum(x, axis=1), name='sum_seq', output_shape=lambda s: (s[0], s[2]))(conv1_seqs)\n",
    "\n",
    "# dense layers                                 \n",
    "dense1 = Dense(64, activation='relu')\n",
    "drop1 = Dropout(0.2)\n",
    "dense2 = Dense(1, activation='relu')\n",
    "\n",
    "preds = dense2(drop1(dense1(conv_out)))\n",
    "grads = K.gradients(preds, seqs)[0]\n",
    "\n",
    "# build the model\n",
    "model = Model(inputs=seqs, outputs=preds)\n",
    "\n",
    "model.summary()"
   ]
  },
  {
   "cell_type": "code",
   "execution_count": null,
   "metadata": {
    "collapsed": false,
    "deletable": true,
    "editable": true
   },
   "outputs": [],
   "source": [
    "# model's input\n",
    "batch_size=32\n",
    "seqs = Input(batch_shape=(batch_size, 1024, 5), name='input_seqs')\n",
    "num_outputs=1\n",
    "\n",
    "#build custom functions\n",
    "def add_RC(x):\n",
    "    RC = K.concatenate([x[:, ::-1, :1], x[:, ::-1, 1:][::-1]], axis=2)\n",
    "    return K.concatenate([x, RC], axis=0)\n",
    "def add_RC_shape(s):\n",
    "    return 2*s[0], s[1], s[2]\n",
    "\n",
    "# add the rc, do a convolution w/o activation and combine down then take concat activation across forward and reverse\n",
    "add_rc = Lambda(add_RC, name='add_rc', output_shape=add_RC_shape)\n",
    "conv = Conv1D(256, 16, name='conv_in', padding='same', activation=None)(add_rc(seqs))\n",
    "conv_dropped = SpatialDropout1D(0.1)(conv)\n",
    "combined = Dense(64, activation='relu')(conv_dropped)\n",
    "fr_conv = Lambda(lambda x: K.concatenate([x[:x.shape[0]//2, :, :], x[x.shape[0]//2:, ::-1, :]], axis=2), \n",
    "                       name='stack_fr', output_shape=lambda s: (s[0] // 2, s[1], s[2] * 2))(combined)\n",
    "\n",
    "#do some (limited) intermediate computation\n",
    "conv1 = Conv1D(128, 3, activation='relu', name='conv4', padding='same')\n",
    "conv_drop1 = SpatialDropout1D(0.1, name='conv_drop4')                                \n",
    "fr_conv = layers.add([fr_conv, conv_drop1(conv1(fr_conv))])\n",
    "\n",
    "# then use a dense to get one 'k27ness' per input base\n",
    "per_base = Dense(num_outputs)(fr_conv)\n",
    "# sum the k27ness and take the max of forward or reverse\n",
    "preds = Lambda(lambda x: K.sum(x, axis=1), name='sum_seq', \n",
    "                     output_shape=lambda s: (s[0], 1))(per_base)\n",
    "\n",
    "grads = K.gradients(preds, seqs)[0]\n",
    "\n",
    "# build the model\n",
    "model = Model(inputs=seqs, outputs=preds)\n",
    "\n",
    "model.summary()"
   ]
  },
  {
   "cell_type": "code",
   "execution_count": null,
   "metadata": {
    "collapsed": false,
    "deletable": true,
    "editable": true
   },
   "outputs": [],
   "source": [
    "from keras.optimizers import RMSprop, SGD, Adam\n",
    "from livelossplot import PlotLossesKeras\n",
    "import lasso\n",
    "import training_tools\n",
    "%matplotlib inline\n",
    "\n",
    "vpe = 10 # validations per epoch\n",
    "\n",
    "opt = Adam(lr=1e-04)\n",
    "model.compile(loss=lasso.get_lwg(grads), metrics=['mean_absolute_error', lasso.get_gp(grads)], optimizer=opt)\n",
    "early_stop = EarlyStopping(monitor='val_loss', patience=100)\n",
    "filepath = os.path.join(weights_path, 'weights-1-{epoch:02d}-{val_loss:.3f}.hdf5')\n",
    "checkpoint = ModelCheckpoint(filepath, monitor='val_loss', verbose=1, save_best_only=True, mode='min')\n",
    "calls = [early_stop, checkpoint, PlotLossesKeras(), \n",
    "         training_tools.ChangeLR([0, 5*vpe], [1e-04, 1e-05])] \n",
    "\n",
    "losses = model.fit_generator(datagen.batch_gen(peaks, mode='train'), \n",
    "                             steps_per_epoch=num_training_samples//(batch_size*vpe), \n",
    "                             epochs=10*vpe, callbacks=calls, validation_data=datagen.batch_gen(peaks, mode='val'), \n",
    "                             validation_steps=num_validaiton_samples//batch_size, verbose=2)\n",
    "val_hist = losses.history['val_loss']\n",
    "train_hist = losses.history['loss']"
   ]
  },
  {
   "cell_type": "code",
   "execution_count": null,
   "metadata": {
    "collapsed": false,
    "deletable": true,
    "editable": true
   },
   "outputs": [],
   "source": [
    "# look at loss\n",
    "val_hist = np.asarray(val_hist).flatten()\n",
    "train_hist = np.asarray(train_hist).flatten()\n",
    "plt.plot(val_hist, label='validation')\n",
    "plt.plot(train_hist, label='training')\n",
    "plt.title('Loss for training model')\n",
    "plt.xlabel('Epoch')\n",
    "plt.ylabel('Loss')\n",
    "plt.ylim(0, 10)\n",
    "plt.legend()\n",
    "plt.show()"
   ]
  },
  {
   "cell_type": "code",
   "execution_count": null,
   "metadata": {
    "collapsed": false,
    "deletable": true,
    "editable": true
   },
   "outputs": [],
   "source": [
    "# final save\n",
    "model.save(os.path.join(out_path, 'final_model.h5'))"
   ]
  },
  {
   "cell_type": "code",
   "execution_count": null,
   "metadata": {
    "collapsed": false,
    "deletable": true,
    "editable": true
   },
   "outputs": [],
   "source": [
    "# write out history\n",
    "losses=dict()\n",
    "losses['val_loss'] = val_hist\n",
    "losses['loss'] = train_hist\n",
    "pickle.dump(losses, open(os.path.join(history_path, 'history.pk'), 'wb'))"
   ]
  },
  {
   "cell_type": "code",
   "execution_count": null,
   "metadata": {
    "collapsed": false,
    "deletable": true,
    "editable": true
   },
   "outputs": [],
   "source": [
    "# look at kernels\n",
    "# make a highlight map\n",
    "from colour import Color\n",
    "\n",
    "#what layers do we have to work with?\n",
    "layer_dict = dict([(layer.name, layer) for layer in model.layers]) \n",
    "print(layer_dict.keys())\n",
    "this_layer='conv_in'\n",
    "\n",
    "# plot weights from first layer neurons\n",
    "#temp = .005\n",
    "weight_array = layer_dict[this_layer].get_weights()[0]\n",
    "#create highlight dict - with sane maxs and mins\n",
    "colors = list(Color(\"blue\").range_to(Color(\"white\"), 50))\n",
    "[colors.append(c) for c in (Color(\"white\").range_to(Color(\"red\"), 51))]\n",
    "top = np.amax(weight_array[:, 0, :])\n",
    "bottom = np.amin(weight_array[:, 0, :])\n",
    "    \n",
    "# got throught the kernels\n",
    "for idx in range(weight_array.shape[2]):\n",
    "    weight = weight_array[:,:,idx]\n",
    "    #get hightlights!\n",
    "    color_weights = [int((x-bottom)/(top-bottom)*100) for x in weight[:,0]]\n",
    "    highlight=dict()\n",
    "    for i in range(len(weight)):\n",
    "        w = color_weights[i]\n",
    "        highlight[(colors[w].rgb[0],colors[w].rgb[1], colors[w].rgb[2], .3)] = [(i, i+1)]\n",
    "    #plot things out\n",
    "    kernel = sequence.Sequence(weight[:, 1:])\n",
    "    plt.figure(figsize=(20,2))\n",
    "    plt.title('ATAC weights and sequence for kernel {}'.format(idx))\n",
    "    plt.plot(weight[:,0])\n",
    "    plt.show()\n",
    "    viz_sequence.plot_weights(kernel.seq, highlight=highlight)\n"
   ]
  },
  {
   "cell_type": "code",
   "execution_count": null,
   "metadata": {
    "collapsed": true,
    "deletable": true,
    "editable": true
   },
   "outputs": [],
   "source": []
  }
 ],
 "metadata": {
  "kernelspec": {
   "display_name": "Python 3",
   "language": "python",
   "name": "python3"
  },
  "language_info": {
   "codemirror_mode": {
    "name": "ipython",
    "version": 3
   },
   "file_extension": ".py",
   "mimetype": "text/x-python",
   "name": "python",
   "nbconvert_exporter": "python",
   "pygments_lexer": "ipython3",
   "version": "3.5.2"
  }
 },
 "nbformat": 4,
 "nbformat_minor": 2
}
