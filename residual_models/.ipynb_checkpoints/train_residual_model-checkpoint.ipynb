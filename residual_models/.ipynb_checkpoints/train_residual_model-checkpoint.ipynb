{
 "cells": [
  {
   "cell_type": "raw",
   "metadata": {
    "deletable": true,
    "editable": true
   },
   "source": [
    "Train a convolutional model to predict log counts of K27act from sequence and atac\n",
    "    uses a series of residually conected convolutions\n",
    "    uses gradient lasso for interpratibility"
   ]
  },
  {
   "cell_type": "code",
   "execution_count": 1,
   "metadata": {
    "collapsed": false,
    "deletable": true,
    "editable": true
   },
   "outputs": [
    {
     "name": "stdout",
     "output_type": "stream",
     "text": [
      "['', '/usr/lib/python35.zip', '/usr/lib/python3.5', '/usr/lib/python3.5/plat-x86_64-linux-gnu', '/usr/lib/python3.5/lib-dynload', '/home/kal/VENV/lib/python3.5/site-packages/', '/home/kal/VENV/lib64/python3.5/site-packages/', '/home/kal/VENV/lib/python3.5/site-packages/IPython/extensions/', '/home/kal/K27act_models/bin/', '/home/kal/TF_models/bin/', '/home/kal/.ipython']\n"
     ]
    },
    {
     "name": "stderr",
     "output_type": "stream",
     "text": [
      "Using TensorFlow backend.\n",
      "/home/kal/TF_models/bin/sequence.py:275: RuntimeWarning: divide by zero encountered in log\n",
      "  self.seq = helper.softmax(np.log(dist))\n"
     ]
    }
   ],
   "source": [
    "import change_path\n",
    "import os\n",
    "os.environ['CUDA_VISIBLE_DEVICES'] = '0'\n",
    "\n",
    "\n",
    "import tf_memory_limit\n",
    "from zinb import ZINB\n",
    "import seaborn as sns\n",
    "import h5py\n",
    "import matplotlib.pyplot as plt\n",
    "from keras.utils import plot_model\n",
    "\n",
    "import pandas as pd\n",
    "import numpy as np\n",
    "import itertools\n",
    "import sequence\n",
    "import ucscgenome\n",
    "from tqdm import tqdm\n",
    "import time\n",
    "import datagen\n",
    "import sequence\n",
    "import helper\n",
    "import viz_sequence\n",
    "import pickle\n",
    "\n",
    "from keras.models import Model, load_model\n",
    "from keras.layers import Input, Dense, SpatialDropout1D, Conv1D, Lambda, Dropout, Activation, Concatenate\n",
    "from keras.optimizers import RMSprop, SGD\n",
    "from keras.callbacks import EarlyStopping, Callback, ModelCheckpoint\n",
    "from keras import backend as K\n",
    "import tensorflow as tf\n",
    "\n",
    "import matplotlib as mpl\n",
    "mpl.rcParams.update(mpl.rcParamsDefault)"
   ]
  },
  {
   "cell_type": "code",
   "execution_count": 2,
   "metadata": {
    "collapsed": false,
    "deletable": true,
    "editable": true
   },
   "outputs": [
    {
     "name": "stdout",
     "output_type": "stream",
     "text": [
      "160363 training samples\n",
      "3413 testing samples\n",
      "3414 validation samples\n"
     ]
    }
   ],
   "source": [
    "#load in the DNA\n",
    "genome = ucscgenome.Genome('/home/kal/.ucscgenome/hg19.2bit')\n",
    "\n",
    "# load in ATAC data\n",
    "atac_path = '/home/kal/K27act_models/GM_data/ATAC/atac_average.hdf5'\n",
    "atac = h5py.File(atac_path, 'r')\n",
    "\n",
    "# load in preprocessed data\n",
    "peaks_path = '/home/kal/K27act_models/GM_data/k27act_training_regions.bed'\n",
    "peaks = pd.read_table(peaks_path, header=None)\n",
    "#note we make the 'k27act' column the 'score' column for the correct training behavior\n",
    "peaks.columns='chr start end name fold_change atac k27act nucs'.split() \n",
    "peaks['score'] = np.log(peaks['k27act'] + 1)\n",
    "\n",
    "# facts about the data\n",
    "num_training_samples = len(peaks[(peaks.chr != 'chr8')])\n",
    "print('{} training samples'.format(num_training_samples))\n",
    "num_testing_samples = len(peaks[(peaks.chr == 'chr8') & (peaks.index%2 == 0)])\n",
    "print('{} testing samples'.format(num_testing_samples))\n",
    "num_validaiton_samples = len(peaks[(peaks.chr == 'chr8') & (peaks.index%2 == 1)])\n",
    "print('{} validation samples'.format(num_validaiton_samples))"
   ]
  },
  {
   "cell_type": "code",
   "execution_count": 3,
   "metadata": {
    "collapsed": false,
    "deletable": true,
    "editable": true
   },
   "outputs": [
    {
     "data": {
      "image/png": "[encoded data removed]",
      "text/plain": [
       "<matplotlib.figure.Figure at 0x7f4590e01f28>"
      ]
     },
     "metadata": {},
     "output_type": "display_data"
    }
   ],
   "source": [
    "plt.hist(peaks['score'], bins=50)\n",
    "plt.title('Score Distributions for ML training(log K27act)')\n",
    "plt.ylabel('Number of samples')\n",
    "plt.xlabel('Log(K27act + 1)')\n",
    "plt.show()"
   ]
  },
  {
   "cell_type": "code",
   "execution_count": 4,
   "metadata": {
    "collapsed": false,
    "deletable": true,
    "editable": true,
    "scrolled": false
   },
   "outputs": [
    {
     "name": "stdout",
     "output_type": "stream",
     "text": [
      "/home/kal/K27act_models/convolution_model/20180731_105822_counts_lasso\n"
     ]
    }
   ],
   "source": [
    "# directory stuff\n",
    "out_dir = '/home/kal/K27act_models/convolution_model/'\n",
    "timestr = time.strftime(\"%Y%m%d_%H%M%S\")\n",
    "out_path = os.path.join(out_dir, timestr + '_counts_lasso')\n",
    "os.makedirs(out_path)\n",
    "# make a file system\n",
    "weights_path = os.path.join(out_path, 'intermediate_weights')\n",
    "os.makedirs(weights_path)\n",
    "history_path = os.path.join(out_path, 'history')\n",
    "os.makedirs(history_path)\n",
    "\n",
    "print(out_path)"
   ]
  },
  {
   "cell_type": "code",
   "execution_count": 16,
   "metadata": {
    "collapsed": false,
    "deletable": true,
    "editable": true
   },
   "outputs": [
    {
     "name": "stdout",
     "output_type": "stream",
     "text": [
      "_________________________________________________________________\n",
      "Layer (type)                 Output Shape              Param #   \n",
      "=================================================================\n",
      "input_seqs (InputLayer)      (32, 1024, 5)             0         \n",
      "_________________________________________________________________\n",
      "add_rc (Lambda)              (64, 1024, 5)             0         \n",
      "_________________________________________________________________\n",
      "conv_in (Conv1D)             (64, 1024, 256)           20736     \n",
      "_________________________________________________________________\n",
      "spatial_dropout1d_6 (Spatial (64, 1024, 256)           0         \n",
      "_________________________________________________________________\n",
      "dense_11 (Dense)             (64, 1024, 64)            16448     \n",
      "_________________________________________________________________\n",
      "stack_fr (Lambda)            (32, 1024, 128)           0         \n",
      "_________________________________________________________________\n",
      "dense_12 (Dense)             (32, 1024, 1)             129       \n",
      "_________________________________________________________________\n",
      "sum_seq (Lambda)             (32, 1)                   0         \n",
      "=================================================================\n",
      "Total params: 37,313\n",
      "Trainable params: 37,313\n",
      "Non-trainable params: 0\n",
      "_________________________________________________________________\n"
     ]
    }
   ],
   "source": [
    "# model's input\n",
    "from keras.losses import mae\n",
    "\n",
    "batch_size=32\n",
    "seqs = Input(batch_shape=(batch_size, 1024, 5), name='input_seqs')\n",
    "num_outputs=1\n",
    "\n",
    "#build custom functions\n",
    "def add_RC(x):\n",
    "    RC = K.concatenate([x[:, ::-1, :1], x[:, ::-1, 1:][::-1]], axis=2)\n",
    "    return K.concatenate([x, RC], axis=0)\n",
    "def add_RC_shape(s):\n",
    "    return 2*s[0], s[1], s[2]\n",
    "\n",
    "# add the rc, do a convolution w/o activation and combine down then take concat activation across forward and reverse\n",
    "add_rc = Lambda(add_RC, name='add_rc', output_shape=add_RC_shape)\n",
    "conv = Conv1D(256, 16, name='conv_in', padding='same', activation=None)(add_rc(seqs))\n",
    "conv_dropped = SpatialDropout1D(0.1)(conv)\n",
    "combined = Dense(64, activation='relu')(conv_dropped)\n",
    "fr_conv = Lambda(lambda x: K.concatenate([x[:x.shape[0]//2, :, :], x[x.shape[0]//2:, ::-1, :]], axis=2), \n",
    "                       name='stack_fr', output_shape=lambda s: (s[0] // 2, s[1], s[2] * 2))(combined)\n",
    "\n",
    "# then use a dense to get one 'k27ness' per input base\n",
    "per_base = Dense(num_outputs)(fr_conv)\n",
    "# sum the k27ness and take the max of forward or reverse\n",
    "preds = Lambda(lambda x: K.sum(x, axis=1), name='sum_seq', \n",
    "                     output_shape=lambda s: (s[0], 1))(per_base)\n",
    "\n",
    "grads = K.gradients(preds, seqs)[0]\n",
    "\n",
    "def loss_with_grad(y_true, y_pred, g=grads, alpha=0.004):\n",
    "    bce = mae(y_true, y_pred)\n",
    "    grad_penalty = K.mean(K.sum(K.abs(grads), axis=(1, 2)))\n",
    "    return bce + alpha * grad_penalty\n",
    "\n",
    "def grad_penalty(y_true, y_pred, g=grads, alpha=0.004):\n",
    "    grad_penalty = K.mean(K.sum(K.abs(grads), axis=(1, 2)))\n",
    "    return alpha * grad_penalty\n",
    "\n",
    "class ChangeLR(Callback):\n",
    "    def __init__(self, epochs, new_lrs, *args, **kwargs):\n",
    "        self.epochs = epochs\n",
    "        self.new_lrs = new_lrs\n",
    "        super().__init__(*args, **kwargs)\n",
    "    def on_epoch_begin(self, epoch, logs):\n",
    "        if epoch in self.epochs:\n",
    "            K.set_value(self.model.optimizer.lr, self.new_lrs[self.epochs.index(epoch)])\n",
    "            print(\"\\n\\nLR CHANGE\\n\\n\")\n",
    "\n",
    "# build the model\n",
    "model = Model(inputs=seqs, outputs=preds)\n",
    "\n",
    "model.summary()"
   ]
  },
  {
   "cell_type": "code",
   "execution_count": null,
   "metadata": {
    "collapsed": false,
    "deletable": true,
    "editable": true
   },
   "outputs": [
    {
     "data": {
      "image/png": "[encoded data removed]",
      "text/plain": [
       "<matplotlib.figure.Figure at 0x7f364ca906d8>"
      ]
     },
     "metadata": {},
     "output_type": "display_data"
    },
    {
     "name": "stdout",
     "output_type": "stream",
     "text": [
      "Epoch 5/25\n"
     ]
    }
   ],
   "source": [
    "from keras.optimizers import RMSprop, SGD, Adam\n",
    "from livelossplot import PlotLossesKeras\n",
    "%matplotlib inline\n",
    "\n",
    "vpe = 5 # validations per epoch\n",
    "\n",
    "opt = Adam(lr=1e-04)\n",
    "model.compile(loss=loss_with_grad, metrics=['mean_absolute_error', grad_penalty], optimizer=opt)\n",
    "early_stop = EarlyStopping(monitor='val_loss', patience=100)\n",
    "filepath = os.path.join(weights_path, 'weights-1-{epoch:02d}-{val_loss:.3f}.hdf5')\n",
    "checkpoint = ModelCheckpoint(filepath, monitor='val_loss', verbose=1, save_best_only=True, mode='min')\n",
    "\n",
    "losses = model.fit_generator(datagen.batch_gen(peaks, mode='train'), \n",
    "                             steps_per_epoch=num_training_samples//(batch_size*vpe), \n",
    "                             epochs=5*vpe, callbacks=[early_stop, checkpoint, PlotLossesKeras(), \n",
    "                                                     ChangeLR([0, 5*vpe], [1e-04, 1e-05])], \n",
    "                             validation_data=datagen.batch_gen(peaks, mode='val'), \n",
    "                             validation_steps=num_validaiton_samples//batch_size, verbose=2)\n",
    "val_hist = losses.history['val_loss']\n",
    "train_hist = losses.history['loss']"
   ]
  },
  {
   "cell_type": "code",
   "execution_count": null,
   "metadata": {
    "collapsed": false,
    "deletable": true,
    "editable": true
   },
   "outputs": [],
   "source": [
    "# look at loss\n",
    "val_hist = np.asarray(val_hist).flatten()\n",
    "train_hist = np.asarray(train_hist).flatten()\n",
    "plt.plot(val_hist, label='validation')\n",
    "plt.plot(train_hist, label='training')\n",
    "plt.title('Loss for training model')\n",
    "plt.xlabel('Epoch')\n",
    "plt.ylabel('Loss')\n",
    "plt.ylim(0, 10)\n",
    "plt.legend()\n",
    "plt.show()"
   ]
  },
  {
   "cell_type": "code",
   "execution_count": null,
   "metadata": {
    "collapsed": false,
    "deletable": true,
    "editable": true
   },
   "outputs": [],
   "source": [
    "# final save\n",
    "model.save(os.path.join(out_path, 'final_model.h5'))"
   ]
  },
  {
   "cell_type": "code",
   "execution_count": null,
   "metadata": {
    "collapsed": false,
    "deletable": true,
    "editable": true
   },
   "outputs": [],
   "source": [
    "# write out history\n",
    "losses=dict()\n",
    "losses['val_loss'] = val_hist\n",
    "losses['loss'] = train_hist\n",
    "pickle.dump(losses, open(os.path.join(history_path, 'history.pk'), 'wb'))"
   ]
  },
  {
   "cell_type": "code",
   "execution_count": null,
   "metadata": {
    "collapsed": false,
    "deletable": true,
    "editable": true
   },
   "outputs": [],
   "source": [
    "# look at kernels\n",
    "# make a highlight map\n",
    "from colour import Color\n",
    "\n",
    "#what layers do we have to work with?\n",
    "layer_dict = dict([(layer.name, layer) for layer in model.layers]) \n",
    "print(layer_dict.keys())\n",
    "this_layer='conv_in'\n",
    "\n",
    "# plot weights from first layer neurons\n",
    "#temp = .005\n",
    "weight_array = layer_dict[this_layer].get_weights()[0]\n",
    "#create highlight dict - with sane maxs and mins\n",
    "colors = list(Color(\"blue\").range_to(Color(\"white\"), 50))\n",
    "[colors.append(c) for c in (Color(\"white\").range_to(Color(\"red\"), 51))]\n",
    "top = np.amax(weight_array[:, 0, :])\n",
    "bottom = np.amin(weight_array[:, 0, :])\n",
    "    \n",
    "# got throught the kernels\n",
    "for idx in range(weight_array.shape[2]):\n",
    "    weight = weight_array[:,:,idx]\n",
    "    #get hightlights!\n",
    "    color_weights = [int((x-bottom)/(top-bottom)*100) for x in weight[:,0]]\n",
    "    highlight=dict()\n",
    "    for i in range(len(weight)):\n",
    "        w = color_weights[i]\n",
    "        highlight[(colors[w].rgb[0],colors[w].rgb[1], colors[w].rgb[2], .3)] = [(i, i+1)]\n",
    "    #plot things out\n",
    "    kernel = sequence.Sequence(weight[:, 1:])\n",
    "    plt.figure(figsize=(20,2))\n",
    "    plt.title('ATAC weights and sequence for kernel {}'.format(idx))\n",
    "    plt.plot(weight[:,0])\n",
    "    plt.show()\n",
    "    viz_sequence.plot_weights(kernel.seq, highlight=highlight)\n"
   ]
  },
  {
   "cell_type": "code",
   "execution_count": null,
   "metadata": {
    "collapsed": true,
    "deletable": true,
    "editable": true
   },
   "outputs": [],
   "source": []
  }
 ],
 "metadata": {
  "kernelspec": {
   "display_name": "Python 3",
   "language": "python",
   "name": "python3"
  },
  "language_info": {
   "codemirror_mode": {
    "name": "ipython",
    "version": 3
   },
   "file_extension": ".py",
   "mimetype": "text/x-python",
   "name": "python",
   "nbconvert_exporter": "python",
   "pygments_lexer": "ipython3",
   "version": "3.5.2"
  }
 },
 "nbformat": 4,
 "nbformat_minor": 2
}
