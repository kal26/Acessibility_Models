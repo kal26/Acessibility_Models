{
 "cells": [
  {
   "cell_type": "markdown",
   "metadata": {},
   "source": [
    "**Make a simple model of learned PWMs**\n",
    "\n",
    "The model predicts log(K27act counts +1) from ATAC at sequence resolution and sequence"
   ]
  },
  {
   "cell_type": "code",
   "execution_count": 3,
   "metadata": {
    "collapsed": false
   },
   "outputs": [
    {
     "name": "stdout",
     "output_type": "stream",
     "text": [
      "['', '/usr/lib/python35.zip', '/usr/lib/python3.5', '/usr/lib/python3.5/plat-x86_64-linux-gnu', '/usr/lib/python3.5/lib-dynload', '/home/kal/VENV/lib/python3.5/site-packages/', '/home/kal/VENV/lib64/python3.5/site-packages/', '/home/kal/VENV/lib/python3.5/site-packages/IPython/extensions/', '/home/kal/K27act_models/bin/', '/home/kal/TF_models/bin/', '/home/kal/.ipython']\n"
     ]
    },
    {
     "name": "stderr",
     "output_type": "stream",
     "text": [
      "Using TensorFlow backend.\n",
      "/home/kal/TF_models/bin/sequence.py:275: RuntimeWarning: divide by zero encountered in log\n",
      "  self.seq = helper.softmax(np.log(dist))\n"
     ]
    }
   ],
   "source": [
    "# load in relevant packages\n",
    "import change_path\n",
    "import os\n",
    "os.environ['CUDA_VISIBLE_DEVICES'] = '0'\n",
    "\n",
    "\n",
    "import tf_memory_limit\n",
    "import h5py\n",
    "import matplotlib.pyplot as plt\n",
    "import pandas as pd\n",
    "import numpy as np\n",
    "import sequence\n",
    "import ucscgenome\n",
    "from tqdm import tqdm\n",
    "import time\n",
    "import datagen\n",
    "import sequence\n",
    "import helper\n",
    "import viz_sequence\n",
    "import pickle\n",
    "from keras.models import Model, load_model\n",
    "from keras.layers import Input, Dense, SpatialDropout1D, Conv1D, Lambda, Dropout, Activation, Concatenate\n",
    "from keras.optimizers import Adam\n",
    "from keras.callbacks import EarlyStopping, ModelCheckpoint\n",
    "from keras import backend as K\n",
    "import tensorflow as tf\n",
    "from colour import Color\n",
    "from livelossplot import PlotLossesKeras\n",
    "import lasso\n",
    "import training_tools\n",
    "import shutil\n",
    "\n",
    "import matplotlib as mpl\n",
    "mpl.rcParams.update(mpl.rcParamsDefault)\n",
    "%matplotlib inline"
   ]
  },
  {
   "cell_type": "code",
   "execution_count": 4,
   "metadata": {
    "collapsed": false
   },
   "outputs": [
    {
     "name": "stdout",
     "output_type": "stream",
     "text": [
      "160363 training samples\n",
      "3413 testing samples\n",
      "3414 validation samples\n"
     ]
    },
    {
     "data": {
      "image/png": "[encoded data removed]",
      "text/plain": [
       "<matplotlib.figure.Figure at 0x7f0e57b9b518>"
      ]
     },
     "metadata": {},
     "output_type": "display_data"
    }
   ],
   "source": [
    "# load in data\n",
    "\n",
    "#load in the DNA\n",
    "genome = ucscgenome.Genome('/home/kal/.ucscgenome/hg19.2bit')\n",
    "\n",
    "# load in ATAC data\n",
    "atac_path = '/home/kal/K27act_models/GM_data/ATAC/atac_average.hdf5'\n",
    "atac = h5py.File(atac_path, 'r')\n",
    "\n",
    "# load in preprocessed data\n",
    "peaks_path = '/home/kal/K27act_models/GM_data/k27act_training_regions.bed'\n",
    "peaks = pd.read_table(peaks_path, header=None)\n",
    "#note we make the 'k27act' column the 'score' column for the correct training behavior\n",
    "peaks.columns='chr start end name fold_change atac k27act nucs'.split() \n",
    "peaks['score'] = np.log(peaks['k27act'] + 1)\n",
    "\n",
    "# facts about the data\n",
    "num_training_samples = len(peaks[(peaks.chr != 'chr8')])\n",
    "print('{} training samples'.format(num_training_samples))\n",
    "num_testing_samples = len(peaks[(peaks.chr == 'chr8') & (peaks.index%2 == 0)])\n",
    "print('{} testing samples'.format(num_testing_samples))\n",
    "num_validaiton_samples = len(peaks[(peaks.chr == 'chr8') & (peaks.index%2 == 1)])\n",
    "print('{} validation samples'.format(num_validaiton_samples))\n",
    "\n",
    "# make a histogram of score\n",
    "plt.hist(peaks['score'], bins=50)\n",
    "plt.title('Score Distributions for ML training(log K27act)')\n",
    "plt.ylabel('Number of samples')\n",
    "plt.xlabel('Log(K27act + 1)')\n",
    "plt.show()"
   ]
  },
  {
   "cell_type": "code",
   "execution_count": 5,
   "metadata": {
    "collapsed": true
   },
   "outputs": [],
   "source": [
    "def make_pwm_model(get_grads=False, atac_only=False, seq_only=False, batch_size=32):\n",
    "    # model's input\n",
    "    if atac_only:\n",
    "         seqs = Input(batch_shape=(batch_size, 1024, 1), name='input_seqs')\n",
    "    elif seq_only:\n",
    "        seqs = Input(batch_shape=(batch_size, 1024, 4), name='input_seqs')\n",
    "    else:\n",
    "        seqs = Input(batch_shape=(batch_size, 1024, 5), name='input_seqs')\n",
    "    num_outputs=1\n",
    "\n",
    "    #build custom functions\n",
    "    def add_RC(x):\n",
    "        if atac_only:\n",
    "            RC = x[:, ::-1, ::-1]\n",
    "        elif seq_only:\n",
    "             RC = x[:, ::-1, ::-1]\n",
    "        else:\n",
    "            RC = K.concatenate([x[:, ::-1, :1], x[:, ::-1, 1:][::-1]], axis=2)\n",
    "        return K.concatenate([x, RC], axis=0)\n",
    "    def add_RC_shape(s):\n",
    "        return 2*s[0], s[1], s[2]\n",
    "\n",
    "    # add the rc, do a convolution w/o activation and combine down then take concat activation across forward and reverse\n",
    "    add_rc = Lambda(add_RC, name='add_rc', output_shape=add_RC_shape)\n",
    "    conv = Conv1D(256, 16, name='conv_in', padding='same', activation=None)(add_rc(seqs))\n",
    "    conv_dropped = SpatialDropout1D(0.1)(conv)\n",
    "    combined = Dense(64, activation='relu')(conv_dropped)\n",
    "    fr_conv = Lambda(lambda x: K.concatenate([x[:x.shape[0]//2, :, :], x[x.shape[0]//2:, ::-1, :]], axis=2), \n",
    "                       name='stack_fr', output_shape=lambda s: (s[0] // 2, s[1], s[2] * 2))(combined)\n",
    "\n",
    "    # then use a dense to get one 'k27ness' per input base\n",
    "    per_base = Dense(num_outputs)(fr_conv)\n",
    "    # sum the k27ness and take the max of forward or reverse\n",
    "    predictions = Lambda(lambda x: K.sum(x, axis=1), name='sum_seq', \n",
    "                     output_shape=lambda s: (s[0], 1))(per_base)\n",
    "\n",
    "    # build the model\n",
    "    model = Model(inputs=seqs, outputs=predictions)\n",
    "    model.summary()\n",
    "    if get_grads:\n",
    "        grads = K.gradients(predictions, seqs)[0]\n",
    "        return model, grads\n",
    "    return model"
   ]
  },
  {
   "cell_type": "code",
   "execution_count": 11,
   "metadata": {
    "collapsed": false
   },
   "outputs": [],
   "source": [
    "def train_model(out_dir, model_string, vpe=5, opt=Adam(lr=0), num_epochs=3, batch_size=32, \n",
    "                lr_sched=([0, 5, 10], [1e-04, 1e-05, 1e-06]), use_lasso=False, atac_only=False, seq_only=False):\n",
    "    \n",
    "    # directory creation\n",
    "    temp_path = os.path.join(out_dir, 'model_in_training')\n",
    "    try:\n",
    "        os.makedirs(temp_path)\n",
    "    except FileExistsError as e:\n",
    "        print('Warning, overwriting current model in training')\n",
    "        shutil.rmtree(temp_path)\n",
    "        os.makedirs(temp_path)\n",
    "    # make a file system\n",
    "    weights_path = os.path.join(temp_path, 'intermediate_weights')\n",
    "    os.makedirs(weights_path)\n",
    "    history_path = os.path.join(temp_path, 'history')\n",
    "    os.makedirs(history_path)\n",
    "    \n",
    "    # get the model\n",
    "    if use_lasso:\n",
    "        model, grads = make_pwm_model(get_grads=True, atac_only=atac_only, seq_only=seq_only, batch_size=batch_size)\n",
    "    else:\n",
    "        model = make_pwm_model(atac_only=atac_only, seq_only=seq_only, batch_size=batch_size)\n",
    "        \n",
    "    # compile model\n",
    "    if use_lasso:\n",
    "        model.compile(loss=lasso.get_lwg(grads), metrics=['mean_absolute_error', lasso.get_gp(grads)], optimizer=opt)\n",
    "    else:\n",
    "        model.compile(loss='mean_absolute_error', metrics=['mean_absolute_error'], optimizer=opt)\n",
    "    early_stop = EarlyStopping(monitor='val_loss', patience=2*vpe)\n",
    "    filepath = os.path.join(weights_path, 'weights-{epoch:02d}-{val_loss:.3f}.hdf5')\n",
    "    checkpoint = ModelCheckpoint(filepath, monitor='val_loss', verbose=1, save_best_only=True, mode='min')\n",
    "\n",
    "    # training params\n",
    "    train_gen = datagen.batch_gen(peaks, mode='train', atac_only=atac_only, seq_only=seq_only, batch_size=batch_size)\n",
    "    val_gen = datagen.batch_gen(peaks, mode='val', atac_only=atac_only, seq_only=seq_only, batch_size=batch_size)\n",
    "    spe = num_training_samples//(batch_size*vpe)\n",
    "    spve = num_validaiton_samples//(batch_size*(vpe//5))\n",
    "    callbacks=[early_stop, checkpoint, PlotLossesKeras(), training_tools.ChangeLR(lr_sched[0], lr_sched[1])]\n",
    "    \n",
    "    # train the model\n",
    "    losses = model.fit_generator(train_gen, steps_per_epoch=spe, epochs=num_epochs*vpe, \n",
    "                                 callbacks=callbacks, validation_data=val_gen, validation_steps=spve, verbose=2)\n",
    "\n",
    "    # final save\n",
    "    model.save(os.path.join(temp_path, 'final_model.h5'))\n",
    "    val_hist = losses.history['val_loss']\n",
    "    train_hist = losses.history['loss']\n",
    "    losses=dict()\n",
    "    losses['val_loss'] = val_hist\n",
    "    losses['loss'] = train_hist\n",
    "    pickle.dump(losses, open(os.path.join(history_path, 'history.pk'), 'wb'))    \n",
    "        \n",
    "    # final directory change\n",
    "    timestr = time.strftime('%Y%m%d_%H%M%S')\n",
    "    out_path = os.path.join(out_dir, timestr + '_' + model_string)\n",
    "    os.rename(temp_path, out_path)\n",
    "    print('Model moved to ' + out_path)"
   ]
  },
  {
   "cell_type": "markdown",
   "metadata": {},
   "source": [
    "We want a series of similar models to compare:\n",
    "- with lasso\n",
    "- without lasso\n",
    "\n",
    "As well as:\n",
    "- only sequence\n",
    "- only atac\n",
    "- both"
   ]
  },
  {
   "cell_type": "code",
   "execution_count": 12,
   "metadata": {
    "collapsed": false,
    "scrolled": false
   },
   "outputs": [
    {
     "data": {
      "image/png": "[encoded data removed]",
      "text/plain": [
       "<matplotlib.figure.Figure at 0x7f0df8cfe898>"
      ]
     },
     "metadata": {},
     "output_type": "display_data"
    },
    {
     "name": "stdout",
     "output_type": "stream",
     "text": [
      "Model moved to /home/kal/K27act_models/pwm_models/20180801_125028_lasso_loss\n"
     ]
    }
   ],
   "source": [
    "out_dir = '/home/kal/K27act_models/pwm_models/'\n",
    "\n",
    "# full series of models to test\n",
    "\n",
    "train_model(out_dir, 'mae_loss')\n",
    "train_model(out_dir, 'lasso_loss', use_lasso=True)"
   ]
  },
  {
   "cell_type": "code",
   "execution_count": 9,
   "metadata": {
    "collapsed": false
   },
   "outputs": [
    {
     "ename": "NameError",
     "evalue": "name 'losses' is not defined",
     "output_type": "error",
     "traceback": [
      "\u001b[0;31m---------------------------------------------------------------------------\u001b[0m",
      "\u001b[0;31mNameError\u001b[0m                                 Traceback (most recent call last)",
      "\u001b[0;32m<ipython-input-9-a3debe2afeb3>\u001b[0m in \u001b[0;36m<module>\u001b[0;34m()\u001b[0m\n\u001b[0;32m----> 1\u001b[0;31m \u001b[0mpickle\u001b[0m\u001b[0;34m.\u001b[0m\u001b[0mdump\u001b[0m\u001b[0;34m(\u001b[0m\u001b[0mlosses\u001b[0m\u001b[0;34m,\u001b[0m \u001b[0mopen\u001b[0m\u001b[0;34m(\u001b[0m\u001b[0mos\u001b[0m\u001b[0;34m.\u001b[0m\u001b[0mpath\u001b[0m\u001b[0;34m.\u001b[0m\u001b[0mjoin\u001b[0m\u001b[0;34m(\u001b[0m\u001b[0mhistory_path\u001b[0m\u001b[0;34m,\u001b[0m \u001b[0;34m'history.pk'\u001b[0m\u001b[0;34m)\u001b[0m\u001b[0;34m,\u001b[0m \u001b[0;34m'wb'\u001b[0m\u001b[0;34m)\u001b[0m\u001b[0;34m)\u001b[0m\u001b[0;34m\u001b[0m\u001b[0m\n\u001b[0m\u001b[1;32m      2\u001b[0m \u001b[0;34m\u001b[0m\u001b[0m\n",
      "\u001b[0;31mNameError\u001b[0m: name 'losses' is not defined"
     ]
    }
   ],
   "source": [
    "pickle.dump(losses, open(os.path.join(history_path, 'history.pk'), 'wb'))    \n",
    "        \n"
   ]
  },
  {
   "cell_type": "code",
   "execution_count": null,
   "metadata": {
    "collapsed": true
   },
   "outputs": [],
   "source": [
    "    # final directory change\n",
    "    timestr = time.strftime('%Y%m%d_%H%M%S')\n",
    "    out_path = os.path.join(out_dir, timestr + '_' + model_string)\n",
    "    os.rename(temp_path, out_path)\n",
    "    print('Model moved to ' + out_path)"
   ]
  }
 ],
 "metadata": {
  "kernelspec": {
   "display_name": "Python 3",
   "language": "python",
   "name": "python3"
  },
  "language_info": {
   "codemirror_mode": {
    "name": "ipython",
    "version": 3
   },
   "file_extension": ".py",
   "mimetype": "text/x-python",
   "name": "python",
   "nbconvert_exporter": "python",
   "pygments_lexer": "ipython3",
   "version": "3.5.2"
  }
 },
 "nbformat": 4,
 "nbformat_minor": 2
}
