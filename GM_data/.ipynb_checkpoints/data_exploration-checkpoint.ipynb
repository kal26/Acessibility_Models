{
 "cells": [
  {
   "cell_type": "raw",
   "metadata": {
    "deletable": true,
    "editable": true
   },
   "source": [
    "load in the k27 act files from 4 experiments to confim that they make sense    "
   ]
  },
  {
   "cell_type": "code",
   "execution_count": 1,
   "metadata": {
    "collapsed": false,
    "deletable": true,
    "editable": true
   },
   "outputs": [],
   "source": [
    "import matplotlib.pyplot as plt\n",
    "import pandas as pd\n",
    "import h5py\n",
    "from tqdm import tqdm\n",
    "import numpy as np\n",
    "import glob\n",
    "import subprocess"
   ]
  },
  {
   "cell_type": "code",
   "execution_count": 5,
   "metadata": {
    "collapsed": false
   },
   "outputs": [
    {
     "data": {
      "text/html": [
       "<div>\n",
       "<table border=\"1\" class=\"dataframe\">\n",
       "  <thead>\n",
       "    <tr style=\"text-align: right;\">\n",
       "      <th></th>\n",
       "      <th>chr</th>\n",
       "      <th>old_start</th>\n",
       "      <th>old_end</th>\n",
       "      <th>name</th>\n",
       "      <th>score</th>\n",
       "      <th>strand</th>\n",
       "      <th>signalValue</th>\n",
       "      <th>pValue</th>\n",
       "      <th>qValue</th>\n",
       "      <th>peak</th>\n",
       "      <th>start</th>\n",
       "      <th>end</th>\n",
       "    </tr>\n",
       "  </thead>\n",
       "  <tbody>\n",
       "    <tr>\n",
       "      <th>0</th>\n",
       "      <td>chr1</td>\n",
       "      <td>566775</td>\n",
       "      <td>566848</td>\n",
       "      <td>/seq/lincRNA/data/hg19/ENCODE/batch/DNase/../p...</td>\n",
       "      <td>64</td>\n",
       "      <td>.</td>\n",
       "      <td>4.53889</td>\n",
       "      <td>6.47818</td>\n",
       "      <td>3.97273</td>\n",
       "      <td>39</td>\n",
       "      <td>566683</td>\n",
       "      <td>566939</td>\n",
       "    </tr>\n",
       "    <tr>\n",
       "      <th>1</th>\n",
       "      <td>chr1</td>\n",
       "      <td>567510</td>\n",
       "      <td>567645</td>\n",
       "      <td>/seq/lincRNA/data/hg19/ENCODE/batch/DNase/../p...</td>\n",
       "      <td>621</td>\n",
       "      <td>.</td>\n",
       "      <td>21.86920</td>\n",
       "      <td>62.10960</td>\n",
       "      <td>56.21191</td>\n",
       "      <td>65</td>\n",
       "      <td>567449</td>\n",
       "      <td>567705</td>\n",
       "    </tr>\n",
       "    <tr>\n",
       "      <th>2</th>\n",
       "      <td>chr1</td>\n",
       "      <td>569857</td>\n",
       "      <td>569990</td>\n",
       "      <td>/seq/lincRNA/data/hg19/ENCODE/batch/DNase/../p...</td>\n",
       "      <td>722</td>\n",
       "      <td>.</td>\n",
       "      <td>24.64186</td>\n",
       "      <td>72.22031</td>\n",
       "      <td>65.98167</td>\n",
       "      <td>64</td>\n",
       "      <td>569795</td>\n",
       "      <td>570051</td>\n",
       "    </tr>\n",
       "    <tr>\n",
       "      <th>3</th>\n",
       "      <td>chr1</td>\n",
       "      <td>713908</td>\n",
       "      <td>714337</td>\n",
       "      <td>/seq/lincRNA/data/hg19/ENCODE/batch/DNase/../p...</td>\n",
       "      <td>369</td>\n",
       "      <td>.</td>\n",
       "      <td>16.26176</td>\n",
       "      <td>36.95848</td>\n",
       "      <td>32.80538</td>\n",
       "      <td>116</td>\n",
       "      <td>713994</td>\n",
       "      <td>714250</td>\n",
       "    </tr>\n",
       "    <tr>\n",
       "      <th>4</th>\n",
       "      <td>chr1</td>\n",
       "      <td>713908</td>\n",
       "      <td>714337</td>\n",
       "      <td>/seq/lincRNA/data/hg19/ENCODE/batch/DNase/../p...</td>\n",
       "      <td>354</td>\n",
       "      <td>.</td>\n",
       "      <td>15.76898</td>\n",
       "      <td>35.45210</td>\n",
       "      <td>31.38879</td>\n",
       "      <td>201</td>\n",
       "      <td>713994</td>\n",
       "      <td>714250</td>\n",
       "    </tr>\n",
       "  </tbody>\n",
       "</table>\n",
       "</div>"
      ],
      "text/plain": [
       "    chr  old_start  old_end  \\\n",
       "0  chr1     566775   566848   \n",
       "1  chr1     567510   567645   \n",
       "2  chr1     569857   569990   \n",
       "3  chr1     713908   714337   \n",
       "4  chr1     713908   714337   \n",
       "\n",
       "                                                name  score strand  \\\n",
       "0  /seq/lincRNA/data/hg19/ENCODE/batch/DNase/../p...     64      .   \n",
       "1  /seq/lincRNA/data/hg19/ENCODE/batch/DNase/../p...    621      .   \n",
       "2  /seq/lincRNA/data/hg19/ENCODE/batch/DNase/../p...    722      .   \n",
       "3  /seq/lincRNA/data/hg19/ENCODE/batch/DNase/../p...    369      .   \n",
       "4  /seq/lincRNA/data/hg19/ENCODE/batch/DNase/../p...    354      .   \n",
       "\n",
       "   signalValue    pValue    qValue  peak   start     end  \n",
       "0      4.53889   6.47818   3.97273    39  566683  566939  \n",
       "1     21.86920  62.10960  56.21191    65  567449  567705  \n",
       "2     24.64186  72.22031  65.98167    64  569795  570051  \n",
       "3     16.26176  36.95848  32.80538   116  713994  714250  \n",
       "4     15.76898  35.45210  31.38879   201  713994  714250  "
      ]
     },
     "execution_count": 5,
     "metadata": {},
     "output_type": "execute_result"
    }
   ],
   "source": [
    "# make narrow peaks\n",
    "bed_path = '/home/kal/K27act_models/GM_data/DHS/ENCFF996CVE_DHS_peaks.bed'\n",
    "peaks = pd.read_table(bed_path, header=None)\n",
    "peaks.columns = 'chr old_start old_end name score strand signalValue pValue qValue peak'.split()\n",
    "peaks['start'] = (peaks['old_end'] + peaks['old_start'])//2 -128\n",
    "peaks['end'] = [int((e+s)//2 + 128) for e, s in zip(peaks['old_end'] , peaks['old_start'])]\n",
    "columns='chr start end name score strand signalValue pValue qValue peak'.split()\n",
    "peaks.to_csv('/home/kal/K27act_models/GM_data/DHS/ENCFF996CVE_DHS_narrowpeaks.bed', columns=columns, header=None, index=False, sep='\\t')\n",
    "peaks.head()"
   ]
  },
  {
   "cell_type": "code",
   "execution_count": null,
   "metadata": {
    "collapsed": false,
    "deletable": true,
    "editable": true
   },
   "outputs": [],
   "source": [
    "# get atac regions (peaks) for comparison within\n",
    "bed_path = '/home/kal/K27act_models/GM_data/ATAC/ENCFF411MHX_atac_narrowpeaks.bed'\n",
    "peaks = pd.read_table(bed_path, header=None)\n",
    "peaks.columns = 'chr start end name score strand signalValue pValue qValue peak'.split()\n",
    "\n",
    "# add negative controls?\n",
    "neg_controls=True\n",
    "\n",
    "shifted_peaks = pd.read_table('/home/kal/K27act_models/GM_data/ATAC/ENCFF411MHX_atac_narrowpeaks_flanked.bed', header=None)\n",
    "shifted_peaks.columns = 'chr start end name score strand signalValue pValue qValue peak'.split()\n",
    "shifted_peaks.name = [ n +'_shift' for n in shifted_peaks['name']]\n",
    "\n",
    "# combine the peaks\n",
    "both = pd.concat([shifted_peaks, peaks])"
   ]
  },
  {
   "cell_type": "code",
   "execution_count": null,
   "metadata": {
    "collapsed": false,
    "deletable": true,
    "editable": true
   },
   "outputs": [],
   "source": [
    "# load in ATAC data\n",
    "atac_path = '/home/kal/K27act_models/GM_data/ATAC/atac_average.hdf5'\n",
    "atac = h5py.File(atac_path, 'r')"
   ]
  },
  {
   "cell_type": "code",
   "execution_count": null,
   "metadata": {
    "collapsed": false,
    "deletable": true,
    "editable": true,
    "scrolled": false
   },
   "outputs": [],
   "source": [
    "#annotate the regions with atac\n",
    "for index, row in tqdm(both.iterrows(), total=len(both)):\n",
    "    both.set_value(index, 'atac_count', sum(atac[row['chr']][row['start']-384:row['end']]+384))"
   ]
  },
  {
   "cell_type": "code",
   "execution_count": null,
   "metadata": {
    "collapsed": false
   },
   "outputs": [],
   "source": [
    "plt.hist(both['atac_count'])\n",
    "plt.show()\n",
    "print(min(both['atac_count']))\n",
    "_, row=next(both.iterrows())\n",
    "sum(atac[row['chr']][12:1024])\n",
    "both.head()"
   ]
  },
  {
   "cell_type": "code",
   "execution_count": null,
   "metadata": {
    "collapsed": false,
    "deletable": true,
    "editable": true
   },
   "outputs": [],
   "source": [
    "peaks_out_path = '/home/kal/K27act_models/GM_data/ATAC/ENCFF411MHX_all_narrowpeaks_annotated.bed'\n",
    "columns = 'chr start end name score strand signalValue pValue qValue peak atac_count'.split()\n",
    "both.to_csv(peaks_out_path, header=None, index=False, columns=columns, sep='\\t')"
   ]
  },
  {
   "cell_type": "code",
   "execution_count": null,
   "metadata": {
    "collapsed": false,
    "deletable": true,
    "editable": true,
    "scrolled": true
   },
   "outputs": [],
   "source": [
    "# make a plot for each _sorted bam file in the given directory\n",
    "k27act=dict()\n",
    "dir_path = '/home/kal/K27act_models/GM_data/encode_k27act/'\n",
    "\n",
    "for bam_path in glob.iglob(dir_path + '**/*_sorted.bam', recursive=True):\n",
    "    print(bam_path)\n",
    "    out_path = bam_path.split('_sorted')[0] + '_atac_ncpeaks.bed'\n",
    "    print(out_path)\n",
    "    #get coverage\n",
    "    with open(out_path, \"w\") as outfile:\n",
    "        command = ['bedtools', 'coverage', '-a', peaks_out_path, '-b', bam_path, '-counts']\n",
    "        subprocess.call(command, stdout=outfile)\n",
    "    #load in the files\n",
    "    name=bam_path.split('_sorted')[0].split('/')[-1]\n",
    "    print(name)\n",
    "    k27act[name] = pd.read_table(out_path, header=None)\n",
    "    k27act[name].columns = 'chr start end name score strand signalValue pValue qValue peak atac k27act'.split()"
   ]
  },
  {
   "cell_type": "code",
   "execution_count": null,
   "metadata": {
    "collapsed": false,
    "deletable": true,
    "editable": true
   },
   "outputs": [],
   "source": [
    "for key, table in k27act.items():\n",
    "    #plot correlation\n",
    "    plt.title('Accessibility markers in ' + key)\n",
    "    plt.ylabel('Log of K27 actetylation counts')\n",
    "    plt.xlabel('Log of ATAC cut site counts')\n",
    "    plt.hexbin(np.log(table['atac']), np.log(table['k27act']), bins='log', extent=(0, 20, 0, 10) )\n",
    "    plt.show()"
   ]
  },
  {
   "cell_type": "code",
   "execution_count": null,
   "metadata": {
    "collapsed": false,
    "deletable": true,
    "editable": true
   },
   "outputs": [],
   "source": [
    "plt.title('ATAC scores in GM128 peaks')\n",
    "plt.ylabel('Log of narrowpeak score')\n",
    "plt.xlabel('Log of ATAC cut site counts')\n",
    "plt.hexbin(np.log(table['atac']), np.log(table['score']), bins='log')\n",
    "plt.show()"
   ]
  },
  {
   "cell_type": "code",
   "execution_count": null,
   "metadata": {
    "collapsed": false,
    "deletable": true,
    "editable": true
   },
   "outputs": [],
   "source": [
    "# how should we comine this data?\n",
    "norms = [sum(table['k27act'])/len(table) for key, table in k27act.items()]\n",
    "plt.bar([1, 2, 3, 4], norms)\n",
    "plt.xticks([1, 2, 3, 4], k27act.keys())\n",
    "plt.ylabel('Average Coverage')\n",
    "plt.xlabel('Experiment')\n",
    "plt.title('Count number across GM128 expereiments (narrow peaks)')\n",
    "plt.show()"
   ]
  },
  {
   "cell_type": "code",
   "execution_count": null,
   "metadata": {
    "collapsed": false,
    "deletable": true,
    "editable": true
   },
   "outputs": [],
   "source": [
    "# add a k27act score column\n",
    "started=False\n",
    "for key, table in k27act.items():\n",
    "    norm = sum(table['k27act'])/len(table)\n",
    "    if not started:\n",
    "        normed_score=table['k27act']/norm\n",
    "    else:\n",
    "        normed_score+=table['k27act']/norm\n",
    "both['k27act'] = normed_score"
   ]
  },
  {
   "cell_type": "code",
   "execution_count": null,
   "metadata": {
    "collapsed": false
   },
   "outputs": [],
   "source": [
    "both['norm_atac'] = both.atac_count*len(both)/sum(both['atac_count'])\n",
    "\n",
    "average_atac = sum(both.norm_atac)/len(both)\n",
    "average_k27act = sum(both.k27act)/len(k27act)\n",
    "both['score'] = np.log2((both.k27act+.1)/(both.norm_atac+.1))\n",
    "\n",
    "plt.hexbin(np.log2((both.k27act)/(both.norm_atac)), both['score'], bins='log')\n",
    "plt.show()"
   ]
  },
  {
   "cell_type": "code",
   "execution_count": null,
   "metadata": {
    "collapsed": false,
    "deletable": true,
    "editable": true
   },
   "outputs": [],
   "source": [
    "both.to_csv('/home/kal/K27act_models/GM_data/scored_combined_shifts_narrowpeaks.bed', columns='chr start end name score k27act atac_count'.split(), header=None, index=False, sep='\\t')"
   ]
  },
  {
   "cell_type": "code",
   "execution_count": null,
   "metadata": {
    "collapsed": false,
    "deletable": true,
    "editable": true
   },
   "outputs": [],
   "source": [
    "#plot correlation\n",
    "plt.title('Accessibility markers in combined experiments')\n",
    "plt.ylabel('Log of K27 actetylation counts')\n",
    "plt.xlabel('Log of ATAC cut site counts')\n",
    "plt.hexbin(both['atac_count'] +1, both['k27act']+1, bins='log', xscale='log', yscale='log')\n",
    "plt.show()"
   ]
  },
  {
   "cell_type": "code",
   "execution_count": null,
   "metadata": {
    "collapsed": false,
    "deletable": true,
    "editable": true
   },
   "outputs": [],
   "source": [
    "# how should we comine this data?\n",
    "plt.hist(both[['shift' in n for n in both['name']]]['score'], label='Shifted', alpha=0.5, bins=50)\n",
    "plt.hist(both[['shift' not in n for n in both['name']]]['score'], label='Peaks', alpha=0.5, bins=50)\n",
    "plt.ylabel('Average Coverage')\n",
    "plt.xlabel('Experiment')\n",
    "plt.title('Count number across GM128 expereiments (narrow peaks)')\n",
    "plt.legend()\n",
    "plt.show()"
   ]
  },
  {
   "cell_type": "code",
   "execution_count": null,
   "metadata": {
    "collapsed": false
   },
   "outputs": [],
   "source": [
    "both[['shift' in n for n in both['name']]]['score']"
   ]
  },
  {
   "cell_type": "code",
   "execution_count": null,
   "metadata": {
    "collapsed": false
   },
   "outputs": [],
   "source": [
    "np.log(0+1)"
   ]
  },
  {
   "cell_type": "code",
   "execution_count": null,
   "metadata": {
    "collapsed": true
   },
   "outputs": [],
   "source": []
  }
 ],
 "metadata": {
  "kernelspec": {
   "display_name": "Python 3",
   "language": "python",
   "name": "python3"
  },
  "language_info": {
   "codemirror_mode": {
    "name": "ipython",
    "version": 3
   },
   "file_extension": ".py",
   "mimetype": "text/x-python",
   "name": "python",
   "nbconvert_exporter": "python",
   "pygments_lexer": "ipython3",
   "version": "3.5.2"
  }
 },
 "nbformat": 4,
 "nbformat_minor": 2
}
