{
 "cells": [
  {
   "cell_type": "raw",
   "metadata": {
    "deletable": true,
    "editable": true
   },
   "source": [
    "Train a convolutional model to predict log counts of K27act from sequence and atac\n",
    "    uses a series of residually conected convolutions\n",
    "    uses gradient lasso for interpratibility"
   ]
  },
  {
   "cell_type": "code",
   "execution_count": 21,
   "metadata": {
    "collapsed": false,
    "deletable": true,
    "editable": true
   },
   "outputs": [],
   "source": [
    "import change_path\n",
    "import os\n",
    "os.environ['CUDA_VISIBLE_DEVICES'] = '0'\n",
    "\n",
    "\n",
    "import tf_memory_limit\n",
    "from zinb import ZINB\n",
    "import seaborn as sns\n",
    "import h5py\n",
    "import matplotlib.pyplot as plt\n",
    "from keras.utils import plot_model\n",
    "\n",
    "import pandas as pd\n",
    "import numpy as np\n",
    "import itertools\n",
    "import sequence\n",
    "import ucscgenome\n",
    "from tqdm import tqdm\n",
    "import time\n",
    "import datagen\n",
    "import sequence\n",
    "import helper\n",
    "import viz_sequence\n",
    "import pickle\n",
    "\n",
    "from keras.models import Model, load_model\n",
    "from keras.layers import Input, Dense, SpatialDropout1D, Conv1D, Lambda, Dropout, Activation, Concatenate, MaxPooling1D, AveragePooling1D, Flatten\n",
    "from keras import layers\n",
    "from keras.optimizers import RMSprop, SGD\n",
    "from keras.callbacks import EarlyStopping, Callback, ModelCheckpoint\n",
    "from keras import backend as K\n",
    "import tensorflow as tf\n",
    "\n",
    "import matplotlib as mpl\n",
    "mpl.rcParams.update(mpl.rcParamsDefault)"
   ]
  },
  {
   "cell_type": "code",
   "execution_count": 2,
   "metadata": {
    "collapsed": false,
    "deletable": true,
    "editable": true
   },
   "outputs": [
    {
     "name": "stdout",
     "output_type": "stream",
     "text": [
      "160363 training samples\n",
      "3413 testing samples\n",
      "3414 validation samples\n"
     ]
    }
   ],
   "source": [
    "#load in the DNA\n",
    "genome = ucscgenome.Genome('/home/kal/.ucscgenome/hg19.2bit')\n",
    "\n",
    "# load in ATAC data\n",
    "atac_path = '/home/kal/K27act_models/GM_data/ATAC/atac_average.hdf5'\n",
    "atac = h5py.File(atac_path, 'r')\n",
    "\n",
    "# load in preprocessed data\n",
    "peaks_path = '/home/kal/K27act_models/GM_data/k27act_training_regions.bed'\n",
    "peaks = pd.read_table(peaks_path, header=None)\n",
    "#note we make the 'k27act' column the 'score' column for the correct training behavior\n",
    "peaks.columns='chr start end name fold_change atac k27act nucs'.split() \n",
    "peaks['score'] = np.log(peaks['k27act'] + 1)\n",
    "\n",
    "# facts about the data\n",
    "num_training_samples = len(peaks[(peaks.chr != 'chr8')])\n",
    "print('{} training samples'.format(num_training_samples))\n",
    "num_testing_samples = len(peaks[(peaks.chr == 'chr8') & (peaks.index%2 == 0)])\n",
    "print('{} testing samples'.format(num_testing_samples))\n",
    "num_validaiton_samples = len(peaks[(peaks.chr == 'chr8') & (peaks.index%2 == 1)])\n",
    "print('{} validation samples'.format(num_validaiton_samples))"
   ]
  },
  {
   "cell_type": "code",
   "execution_count": 3,
   "metadata": {
    "collapsed": false,
    "deletable": true,
    "editable": true
   },
   "outputs": [
    {
     "data": {
      "image/png": "[encoded data removed]",
      "text/plain": [
       "<matplotlib.figure.Figure at 0x7f4590e01f28>"
      ]
     },
     "metadata": {},
     "output_type": "display_data"
    }
   ],
   "source": [
    "plt.hist(peaks['score'], bins=50)\n",
    "plt.title('Score Distributions for ML training(log K27act)')\n",
    "plt.ylabel('Number of samples')\n",
    "plt.xlabel('Log(K27act + 1)')\n",
    "plt.show()"
   ]
  },
  {
   "cell_type": "code",
   "execution_count": 4,
   "metadata": {
    "collapsed": false,
    "deletable": true,
    "editable": true,
    "scrolled": false
   },
   "outputs": [
    {
     "name": "stdout",
     "output_type": "stream",
     "text": [
      "/home/kal/K27act_models/convolution_model/20180731_105822_counts_lasso\n"
     ]
    }
   ],
   "source": [
    "# directory stuff\n",
    "out_dir = '/home/kal/K27act_models/convolution_model/'\n",
    "timestr = time.strftime(\"%Y%m%d_%H%M%S\")\n",
    "out_path = os.path.join(out_dir, timestr + '_counts_lasso')\n",
    "os.makedirs(out_path)\n",
    "# make a file system\n",
    "weights_path = os.path.join(out_path, 'intermediate_weights')\n",
    "os.makedirs(weights_path)\n",
    "history_path = os.path.join(out_path, 'history')\n",
    "os.makedirs(history_path)\n",
    "\n",
    "print(out_path)"
   ]
  },
  {
   "cell_type": "code",
   "execution_count": 36,
   "metadata": {
    "collapsed": false,
    "deletable": true,
    "editable": true
   },
   "outputs": [
    {
     "name": "stdout",
     "output_type": "stream",
     "text": [
      "_________________________________________________________________\n",
      "Layer (type)                 Output Shape              Param #   \n",
      "=================================================================\n",
      "input_seqs (InputLayer)      (32, 1024, 5)             0         \n",
      "_________________________________________________________________\n",
      "add_rc (Lambda)              (64, 1024, 5)             0         \n",
      "_________________________________________________________________\n",
      "conv1 (Conv1D)               (64, 1024, 256)           11776     \n",
      "_________________________________________________________________\n",
      "stack_fr (Lambda)            (32, 1024, 512)           0         \n",
      "_________________________________________________________________\n",
      "conv_drop1 (SpatialDropout1D (32, 1024, 512)           0         \n",
      "_________________________________________________________________\n",
      "downsample_features (Dense)  (32, 1024, 128)           65664     \n",
      "_________________________________________________________________\n",
      "sum_seq (Lambda)             (32, 128)                 0         \n",
      "_________________________________________________________________\n",
      "dense_26 (Dense)             (32, 64)                  8256      \n",
      "_________________________________________________________________\n",
      "dropout_13 (Dropout)         (32, 64)                  0         \n",
      "_________________________________________________________________\n",
      "dense_27 (Dense)             (32, 1)                   65        \n",
      "=================================================================\n",
      "Total params: 85,761\n",
      "Trainable params: 85,761\n",
      "Non-trainable params: 0\n",
      "_________________________________________________________________\n"
     ]
    }
   ],
   "source": [
    "# model's input\n",
    "from keras.losses import mae\n",
    "\n",
    "batch_size=32\n",
    "seqs = Input(batch_shape=(batch_size, 1024, 5), name='input_seqs')\n",
    "num_outputs=1\n",
    "\n",
    "#build custom functions\n",
    "def add_RC(x):\n",
    "    RC = K.concatenate([x[:, ::-1, :1], x[:, ::-1, 1:][::-1]], axis=2)\n",
    "    return K.concatenate([x, RC], axis=0)\n",
    "def add_RC_shape(s):\n",
    "    return 2*s[0], s[1], s[2]\n",
    "\n",
    "# add the rc\n",
    "add_rc = Lambda(add_RC, name='add_rc', output_shape=add_RC_shape)\n",
    "\n",
    "# do a series of convolutions and max pools\n",
    "\n",
    "#first convolution is on seqs and reverse complements with dense downsampling\n",
    "conv1 = Conv1D(256, 9, activation=None, name='conv1', padding='same')\n",
    "fr_comb = Lambda(lambda x: K.concatenate([x[:x.shape[0]//2, :, :], x[x.shape[0]//2:, ::-1, :]], axis=2), \n",
    "                       name='stack_fr', output_shape=lambda s: (s[0] // 2, s[1], s[2] * 2))\n",
    "conv_drop1 = SpatialDropout1D(0.1, name='conv_drop1')\n",
    "ds1 = MaxPooling1D(pool_size=4, name='downsample1')\n",
    "down_conv = Conv1D(128, 1, activation='relu', name='downsample_features')\n",
    "conv1_seqs = down(conv_drop1(fr_comb(conv1(add_rc(seqs)))))\n",
    "# second convolution\n",
    "conv2 = Conv1D(128, 5, activation='relu', name='conv2', padding='same')\n",
    "conv_drop2 = SpatialDropout1D(0.1, name='conv_drop2')\n",
    "ds2 = MaxPooling1D(pool_size=4, name='downsample2')                          \n",
    "conv2_seqs = layers.add([ds1(conv1_seqs), conv_drop2(conv2(ds1(conv1_seqs)))])\n",
    "# third convolution\n",
    "conv3 = Conv1D(128, 5, activation='relu', name='conv3', padding='same')\n",
    "conv_drop3 = SpatialDropout1D(0.1, name='conv_drop3')\n",
    "ds3 = MaxPooling1D(pool_size=4, name='downsample3')                                \n",
    "conv3_seqs = layers.add([ds2(ds1(conv1_seqs)), conv_drop3(conv3(ds2(conv2_seqs)))])                                \n",
    "# forth convolution                               \n",
    "conv4 = Conv1D(128, 3, activation='relu', name='conv4', padding='same')\n",
    "conv_drop4 = SpatialDropout1D(0.1, name='conv_drop4')                                \n",
    "conv4_seqs = layers.add([ds3(ds2(ds1(conv1_seqs))), conv_drop4(conv4(ds3(conv3_seqs)))])\n",
    "                                \n",
    "# smooth and flatten                         \n",
    "smooth = AveragePooling1D(pool_size=4, strides=4, padding='valid')\n",
    "flat = Flatten()\n",
    "#conv_out = flat(smooth(conv4_seqs))\n",
    "conv_out = Lambda(lambda x: K.sum(x, axis=1), name='sum_seq', output_shape=lambda s: (s[0], s[2]))(conv1_seqs)\n",
    "\n",
    "# dense layers                                 \n",
    "dense1 = Dense(64, activation='relu')\n",
    "drop1 = Dropout(0.2)\n",
    "dense2 = Dense(1, activation='relu')\n",
    "\n",
    "preds = dense2(drop1(dense1(conv_out)))\n",
    "grads = K.gradients(preds, seqs)[0]\n",
    "\n",
    "# build the model\n",
    "model = Model(inputs=seqs, outputs=preds)\n",
    "\n",
    "model.summary()"
   ]
  },
  {
   "cell_type": "code",
   "execution_count": 42,
   "metadata": {
    "collapsed": false
   },
   "outputs": [
    {
     "name": "stdout",
     "output_type": "stream",
     "text": [
      "__________________________________________________________________________________________________\n",
      "Layer (type)                    Output Shape         Param #     Connected to                     \n",
      "==================================================================================================\n",
      "input_seqs (InputLayer)         (32, 1024, 5)        0                                            \n",
      "__________________________________________________________________________________________________\n",
      "add_rc (Lambda)                 (64, 1024, 5)        0           input_seqs[0][0]                 \n",
      "__________________________________________________________________________________________________\n",
      "conv_in (Conv1D)                (64, 1024, 256)      20736       add_rc[0][0]                     \n",
      "__________________________________________________________________________________________________\n",
      "spatial_dropout1d_2 (SpatialDro (64, 1024, 256)      0           conv_in[0][0]                    \n",
      "__________________________________________________________________________________________________\n",
      "dense_30 (Dense)                (64, 1024, 64)       16448       spatial_dropout1d_2[0][0]        \n",
      "__________________________________________________________________________________________________\n",
      "stack_fr (Lambda)               (32, 1024, 128)      0           dense_30[0][0]                   \n",
      "__________________________________________________________________________________________________\n",
      "conv4 (Conv1D)                  (32, 1024, 128)      49280       stack_fr[0][0]                   \n",
      "__________________________________________________________________________________________________\n",
      "conv_drop4 (SpatialDropout1D)   (32, 1024, 128)      0           conv4[0][0]                      \n",
      "__________________________________________________________________________________________________\n",
      "add_23 (Add)                    (32, 1024, 128)      0           stack_fr[0][0]                   \n",
      "                                                                 conv_drop4[0][0]                 \n",
      "__________________________________________________________________________________________________\n",
      "dense_31 (Dense)                (32, 1024, 1)        129         add_23[0][0]                     \n",
      "__________________________________________________________________________________________________\n",
      "sum_seq (Lambda)                (32, 1)              0           dense_31[0][0]                   \n",
      "==================================================================================================\n",
      "Total params: 86,593\n",
      "Trainable params: 86,593\n",
      "Non-trainable params: 0\n",
      "__________________________________________________________________________________________________\n"
     ]
    }
   ],
   "source": [
    "# model's input\n",
    "batch_size=32\n",
    "seqs = Input(batch_shape=(batch_size, 1024, 5), name='input_seqs')\n",
    "num_outputs=1\n",
    "\n",
    "#build custom functions\n",
    "def add_RC(x):\n",
    "    RC = K.concatenate([x[:, ::-1, :1], x[:, ::-1, 1:][::-1]], axis=2)\n",
    "    return K.concatenate([x, RC], axis=0)\n",
    "def add_RC_shape(s):\n",
    "    return 2*s[0], s[1], s[2]\n",
    "\n",
    "# add the rc, do a convolution w/o activation and combine down then take concat activation across forward and reverse\n",
    "add_rc = Lambda(add_RC, name='add_rc', output_shape=add_RC_shape)\n",
    "conv = Conv1D(256, 16, name='conv_in', padding='same', activation=None)(add_rc(seqs))\n",
    "conv_dropped = SpatialDropout1D(0.1)(conv)\n",
    "combined = Dense(64, activation='relu')(conv_dropped)\n",
    "fr_conv = Lambda(lambda x: K.concatenate([x[:x.shape[0]//2, :, :], x[x.shape[0]//2:, ::-1, :]], axis=2), \n",
    "                       name='stack_fr', output_shape=lambda s: (s[0] // 2, s[1], s[2] * 2))(combined)\n",
    "\n",
    "#do some (limited) intermediate computation\n",
    "conv1 = Conv1D(128, 3, activation='relu', name='conv4', padding='same')\n",
    "conv_drop1 = SpatialDropout1D(0.1, name='conv_drop4')                                \n",
    "fr_conv = layers.add([fr_conv, conv_drop1(conv1(fr_conv))])\n",
    "\n",
    "# then use a dense to get one 'k27ness' per input base\n",
    "per_base = Dense(num_outputs)(fr_conv)\n",
    "# sum the k27ness and take the max of forward or reverse\n",
    "preds = Lambda(lambda x: K.sum(x, axis=1), name='sum_seq', \n",
    "                     output_shape=lambda s: (s[0], 1))(per_base)\n",
    "\n",
    "grads = K.gradients(preds, seqs)[0]\n",
    "\n",
    "# build the model\n",
    "model = Model(inputs=seqs, outputs=preds)\n",
    "\n",
    "model.summary()"
   ]
  },
  {
   "cell_type": "code",
   "execution_count": 44,
   "metadata": {
    "collapsed": false,
    "deletable": true,
    "editable": true
   },
   "outputs": [
    {
     "data": {
      "image/png": "[encoded data removed]",
      "text/plain": [
       "<matplotlib.figure.Figure at 0x7f44f1690dd8>"
      ]
     },
     "metadata": {},
     "output_type": "display_data"
    }
   ],
   "source": [
    "from keras.optimizers import RMSprop, SGD, Adam\n",
    "from livelossplot import PlotLossesKeras\n",
    "import lasso\n",
    "import training_tools\n",
    "%matplotlib inline\n",
    "\n",
    "vpe = 10 # validations per epoch\n",
    "\n",
    "opt = Adam(lr=1e-04)\n",
    "model.compile(loss=lasso.get_lwg(grads), metrics=['mean_absolute_error', lasso.get_gp(grads)], optimizer=opt)\n",
    "early_stop = EarlyStopping(monitor='val_loss', patience=100)\n",
    "filepath = os.path.join(weights_path, 'weights-1-{epoch:02d}-{val_loss:.3f}.hdf5')\n",
    "checkpoint = ModelCheckpoint(filepath, monitor='val_loss', verbose=1, save_best_only=True, mode='min')\n",
    "calls = [early_stop, checkpoint, PlotLossesKeras(), \n",
    "         training_tools.ChangeLR([0, 5*vpe], [1e-04, 1e-05])] \n",
    "\n",
    "losses = model.fit_generator(datagen.batch_gen(peaks, mode='train'), \n",
    "                             steps_per_epoch=num_training_samples//(batch_size*vpe), \n",
    "                             epochs=10*vpe, callbacks=calls, validation_data=datagen.batch_gen(peaks, mode='val'), \n",
    "                             validation_steps=num_validaiton_samples//batch_size, verbose=2)\n",
    "val_hist = losses.history['val_loss']\n",
    "train_hist = losses.history['loss']"
   ]
  },
  {
   "cell_type": "code",
   "execution_count": null,
   "metadata": {
    "collapsed": false,
    "deletable": true,
    "editable": true
   },
   "outputs": [],
   "source": [
    "# look at loss\n",
    "val_hist = np.asarray(val_hist).flatten()\n",
    "train_hist = np.asarray(train_hist).flatten()\n",
    "plt.plot(val_hist, label='validation')\n",
    "plt.plot(train_hist, label='training')\n",
    "plt.title('Loss for training model')\n",
    "plt.xlabel('Epoch')\n",
    "plt.ylabel('Loss')\n",
    "plt.ylim(0, 10)\n",
    "plt.legend()\n",
    "plt.show()"
   ]
  },
  {
   "cell_type": "code",
   "execution_count": null,
   "metadata": {
    "collapsed": false,
    "deletable": true,
    "editable": true
   },
   "outputs": [],
   "source": [
    "# final save\n",
    "model.save(os.path.join(out_path, 'final_model.h5'))"
   ]
  },
  {
   "cell_type": "code",
   "execution_count": null,
   "metadata": {
    "collapsed": false,
    "deletable": true,
    "editable": true
   },
   "outputs": [],
   "source": [
    "# write out history\n",
    "losses=dict()\n",
    "losses['val_loss'] = val_hist\n",
    "losses['loss'] = train_hist\n",
    "pickle.dump(losses, open(os.path.join(history_path, 'history.pk'), 'wb'))"
   ]
  },
  {
   "cell_type": "code",
   "execution_count": null,
   "metadata": {
    "collapsed": false,
    "deletable": true,
    "editable": true
   },
   "outputs": [],
   "source": [
    "# look at kernels\n",
    "# make a highlight map\n",
    "from colour import Color\n",
    "\n",
    "#what layers do we have to work with?\n",
    "layer_dict = dict([(layer.name, layer) for layer in model.layers]) \n",
    "print(layer_dict.keys())\n",
    "this_layer='conv_in'\n",
    "\n",
    "# plot weights from first layer neurons\n",
    "#temp = .005\n",
    "weight_array = layer_dict[this_layer].get_weights()[0]\n",
    "#create highlight dict - with sane maxs and mins\n",
    "colors = list(Color(\"blue\").range_to(Color(\"white\"), 50))\n",
    "[colors.append(c) for c in (Color(\"white\").range_to(Color(\"red\"), 51))]\n",
    "top = np.amax(weight_array[:, 0, :])\n",
    "bottom = np.amin(weight_array[:, 0, :])\n",
    "    \n",
    "# got throught the kernels\n",
    "for idx in range(weight_array.shape[2]):\n",
    "    weight = weight_array[:,:,idx]\n",
    "    #get hightlights!\n",
    "    color_weights = [int((x-bottom)/(top-bottom)*100) for x in weight[:,0]]\n",
    "    highlight=dict()\n",
    "    for i in range(len(weight)):\n",
    "        w = color_weights[i]\n",
    "        highlight[(colors[w].rgb[0],colors[w].rgb[1], colors[w].rgb[2], .3)] = [(i, i+1)]\n",
    "    #plot things out\n",
    "    kernel = sequence.Sequence(weight[:, 1:])\n",
    "    plt.figure(figsize=(20,2))\n",
    "    plt.title('ATAC weights and sequence for kernel {}'.format(idx))\n",
    "    plt.plot(weight[:,0])\n",
    "    plt.show()\n",
    "    viz_sequence.plot_weights(kernel.seq, highlight=highlight)\n"
   ]
  },
  {
   "cell_type": "code",
   "execution_count": null,
   "metadata": {
    "collapsed": true,
    "deletable": true,
    "editable": true
   },
   "outputs": [],
   "source": []
  }
 ],
 "metadata": {
  "kernelspec": {
   "display_name": "Python 3",
   "language": "python",
   "name": "python3"
  },
  "language_info": {
   "codemirror_mode": {
    "name": "ipython",
    "version": 3
   },
   "file_extension": ".py",
   "mimetype": "text/x-python",
   "name": "python",
   "nbconvert_exporter": "python",
   "pygments_lexer": "ipython3",
   "version": "3.5.2"
  }
 },
 "nbformat": 4,
 "nbformat_minor": 2
}
